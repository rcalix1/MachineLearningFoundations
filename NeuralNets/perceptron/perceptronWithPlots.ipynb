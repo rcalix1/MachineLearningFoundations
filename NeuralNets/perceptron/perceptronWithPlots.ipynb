{
 "cells": [
  {
   "cell_type": "code",
   "execution_count": 1,
   "id": "f0323144",
   "metadata": {},
   "outputs": [],
   "source": [
    "\n",
    "import numpy as np\n",
    "from sklearn.model_selection import train_test_split\n",
    "from sklearn import datasets\n",
    "import matplotlib.pyplot as plt\n"
   ]
  },
  {
   "cell_type": "code",
   "execution_count": 2,
   "id": "ab40b36b",
   "metadata": {},
   "outputs": [],
   "source": [
    "\n",
    "list_losses = []\n",
    "list_epochs_loss = []\n",
    "\n",
    "def fit(X_train, y_train):\n",
    "    learning_rate = 0.01\n",
    "    \n",
    "    n_samples, n_features = X.shape\n",
    "    \n",
    "    ## y_ np.array(      )\n",
    "    \n",
    "    weights = np.zeros(  2 )\n",
    "    bias = 0\n",
    "    \n",
    "    for _ in range(1000):\n",
    "        for idx, x_i in enumerate(X_train):\n",
    "            \n",
    "            linear_product = np.dot(x_i, weights) + bias    ## y = w*x + b\n",
    "            y_pred  = activation_function(    linear_product    )\n",
    "            \n",
    "            ## compare predicted to real\n",
    "            ## Perceptron update rule\n",
    "            ## print(\"pred - train\", y_pred, \"-\", y_train[idx])\n",
    "            ## input()\n",
    "            loss =  y_pred   -  y_train[idx]\n",
    "            list_losses.append( loss  )\n",
    "            \n",
    "            ## \n",
    "            \n",
    "            update = learning_rate * ( y_pred   -  y_train[idx] )\n",
    "            \n",
    "            weights = weights - update * x_i\n",
    "            bias    = bias - update\n",
    "        avg = sum(list_losses) / len( list_losses  )\n",
    "        list_epochs_loss.append( avg  )\n",
    "    \n",
    "    return weights, bias\n"
   ]
  },
  {
   "cell_type": "code",
   "execution_count": 3,
   "id": "a136dbd6",
   "metadata": {},
   "outputs": [],
   "source": [
    "\n",
    "def activation_function(z):\n",
    "    return np.where( z>=0, 1, 0  )\n"
   ]
  },
  {
   "cell_type": "code",
   "execution_count": 4,
   "id": "f47e7a98",
   "metadata": {},
   "outputs": [],
   "source": [
    "\n",
    "def predict(X_test, weights, bias):\n",
    "    ## x * w\n",
    "    linear_product = np.dot(X_test, weights) + bias    ## y = w*x + b\n",
    "    y_pred  = activation_function(    linear_product    )\n",
    "    return y_pred\n"
   ]
  },
  {
   "cell_type": "code",
   "execution_count": 5,
   "id": "e7dbf00c",
   "metadata": {},
   "outputs": [],
   "source": [
    "def accuracy(y_true, y_pred):\n",
    "    accuracy = np.sum(   y_true == y_pred   ) / len(  y_true  )\n",
    "    return accuracy\n"
   ]
  },
  {
   "cell_type": "code",
   "execution_count": 6,
   "id": "913a318a",
   "metadata": {},
   "outputs": [],
   "source": [
    "\n",
    "X, y = datasets.make_blobs(n_samples=150, n_features=2, centers=2, cluster_std=1.05, random_state=2)\n",
    "\n",
    "\n"
   ]
  },
  {
   "cell_type": "code",
   "execution_count": 7,
   "id": "2e1dbc89",
   "metadata": {},
   "outputs": [
    {
     "data": {
      "text/plain": [
       "(150, 2)"
      ]
     },
     "execution_count": 7,
     "metadata": {},
     "output_type": "execute_result"
    }
   ],
   "source": [
    "X.shape"
   ]
  },
  {
   "cell_type": "code",
   "execution_count": 8,
   "id": "15a1ebef",
   "metadata": {},
   "outputs": [
    {
     "data": {
      "text/plain": [
       "(150,)"
      ]
     },
     "execution_count": 8,
     "metadata": {},
     "output_type": "execute_result"
    }
   ],
   "source": [
    "y.shape"
   ]
  },
  {
   "cell_type": "code",
   "execution_count": 9,
   "id": "2068157d",
   "metadata": {},
   "outputs": [],
   "source": [
    "X_train, X_test, y_train, y_test = train_test_split(X, y, test_size=0.2, random_state=123)\n"
   ]
  },
  {
   "cell_type": "code",
   "execution_count": 10,
   "id": "d704604a",
   "metadata": {},
   "outputs": [],
   "source": [
    "## X_train"
   ]
  },
  {
   "cell_type": "code",
   "execution_count": 11,
   "id": "22bec28d",
   "metadata": {},
   "outputs": [],
   "source": [
    "## X_test"
   ]
  },
  {
   "cell_type": "code",
   "execution_count": 12,
   "id": "02ae3bd5",
   "metadata": {},
   "outputs": [
    {
     "data": {
      "text/plain": [
       "array([0, 1, 0, 1, 1, 1, 1, 0, 1, 1, 1, 0, 0, 0, 0, 0, 1, 0, 0, 1, 0, 1,\n",
       "       0, 1, 1, 0, 1, 0, 0, 0, 0, 0, 0, 1, 0, 1, 1, 0, 0, 1, 1, 1, 1, 1,\n",
       "       0, 0, 0, 1, 1, 1, 0, 0, 1, 0, 0, 1, 0, 1, 1, 0, 1, 1, 0, 1, 1, 0,\n",
       "       0, 0, 0, 0, 0, 1, 1, 1, 0, 1, 0, 1, 0, 0, 1, 1, 1, 0, 1, 0, 1, 1,\n",
       "       0, 1, 0, 1, 0, 0, 0, 0, 1, 0, 0, 1, 1, 0, 1, 0, 1, 1, 1, 0, 1, 0,\n",
       "       0, 0, 1, 0, 1, 0, 1, 1, 0, 1])"
      ]
     },
     "execution_count": 12,
     "metadata": {},
     "output_type": "execute_result"
    }
   ],
   "source": [
    "y_train"
   ]
  },
  {
   "cell_type": "code",
   "execution_count": 13,
   "id": "e62ace2c",
   "metadata": {},
   "outputs": [
    {
     "data": {
      "text/plain": [
       "array([1, 0, 1, 1, 0, 0, 1, 1, 1, 0, 1, 0, 0, 0, 1, 0, 1, 1, 0, 1, 1, 1,\n",
       "       1, 1, 0, 0, 1, 0, 0, 0])"
      ]
     },
     "execution_count": 13,
     "metadata": {},
     "output_type": "execute_result"
    }
   ],
   "source": [
    "y_test"
   ]
  },
  {
   "cell_type": "code",
   "execution_count": 14,
   "id": "d13db8b6",
   "metadata": {},
   "outputs": [],
   "source": [
    "\n",
    "weights, bias = fit(X_train, y_train)\n",
    "\n"
   ]
  },
  {
   "cell_type": "code",
   "execution_count": 15,
   "id": "5fee7280",
   "metadata": {},
   "outputs": [
    {
     "data": {
      "text/plain": [
       "array([0.03534528, 0.03089668])"
      ]
     },
     "execution_count": 15,
     "metadata": {},
     "output_type": "execute_result"
    }
   ],
   "source": [
    "weights"
   ]
  },
  {
   "cell_type": "code",
   "execution_count": 16,
   "id": "789128f4",
   "metadata": {},
   "outputs": [
    {
     "data": {
      "text/plain": [
       "0.12999999999999998"
      ]
     },
     "execution_count": 16,
     "metadata": {},
     "output_type": "execute_result"
    }
   ],
   "source": [
    "bias"
   ]
  },
  {
   "cell_type": "code",
   "execution_count": 17,
   "id": "9ccb246e",
   "metadata": {},
   "outputs": [],
   "source": [
    "\n",
    "y_pred = predict(X_test, weights, bias)\n"
   ]
  },
  {
   "cell_type": "code",
   "execution_count": 18,
   "id": "7cb0d69f",
   "metadata": {},
   "outputs": [
    {
     "data": {
      "text/plain": [
       "array([1, 0, 1, 1, 0, 0, 1, 1, 1, 0, 1, 0, 0, 0, 1, 0, 1, 1, 0, 1, 1, 1,\n",
       "       1, 1, 0, 0, 1, 0, 0, 0])"
      ]
     },
     "execution_count": 18,
     "metadata": {},
     "output_type": "execute_result"
    }
   ],
   "source": [
    "y_pred"
   ]
  },
  {
   "cell_type": "code",
   "execution_count": 19,
   "id": "235393ee",
   "metadata": {},
   "outputs": [
    {
     "data": {
      "text/plain": [
       "array([1, 0, 1, 1, 0, 0, 1, 1, 1, 0, 1, 0, 0, 0, 1, 0, 1, 1, 0, 1, 1, 1,\n",
       "       1, 1, 0, 0, 1, 0, 0, 0])"
      ]
     },
     "execution_count": 19,
     "metadata": {},
     "output_type": "execute_result"
    }
   ],
   "source": [
    "y_test"
   ]
  },
  {
   "cell_type": "code",
   "execution_count": 20,
   "id": "86cfc7c0",
   "metadata": {},
   "outputs": [
    {
     "name": "stdout",
     "output_type": "stream",
     "text": [
      "1.0\n"
     ]
    }
   ],
   "source": [
    "\n",
    "print(  accuracy(y_pred, y_test)   )"
   ]
  },
  {
   "cell_type": "code",
   "execution_count": null,
   "id": "06f77b35",
   "metadata": {},
   "outputs": [],
   "source": []
  },
  {
   "cell_type": "code",
   "execution_count": 21,
   "id": "3a667d06",
   "metadata": {},
   "outputs": [],
   "source": [
    "\n",
    "x_vals = np.arange(1000)\n",
    "\n"
   ]
  },
  {
   "cell_type": "code",
   "execution_count": 22,
   "id": "12babf4c",
   "metadata": {},
   "outputs": [
    {
     "data": {
      "text/plain": [
       "[<matplotlib.lines.Line2D at 0x1ea23de2348>]"
      ]
     },
     "execution_count": 22,
     "metadata": {},
     "output_type": "execute_result"
    },
    {
     "data": {
      "image/png": "[encoded data removed]",
      "text/plain": [
       "<Figure size 640x480 with 1 Axes>"
      ]
     },
     "metadata": {},
     "output_type": "display_data"
    }
   ],
   "source": [
    "plt.plot(x_vals, list_epochs_loss)"
   ]
  },
  {
   "cell_type": "code",
   "execution_count": null,
   "id": "a56d75be",
   "metadata": {},
   "outputs": [],
   "source": []
  },
  {
   "cell_type": "code",
   "execution_count": null,
   "id": "9d8ca6f6",
   "metadata": {},
   "outputs": [],
   "source": []
  },
  {
   "cell_type": "code",
   "execution_count": null,
   "id": "4f27debe",
   "metadata": {},
   "outputs": [],
   "source": []
  },
  {
   "cell_type": "code",
   "execution_count": null,
   "id": "bbd47f7d",
   "metadata": {},
   "outputs": [],
   "source": []
  }
 ],
 "metadata": {
  "kernelspec": {
   "display_name": "Python 3 (ipykernel)",
   "language": "python",
   "name": "python3"
  },
  "language_info": {
   "codemirror_mode": {
    "name": "ipython",
    "version": 3
   },
   "file_extension": ".py",
   "mimetype": "text/x-python",
   "name": "python",
   "nbconvert_exporter": "python",
   "pygments_lexer": "ipython3",
   "version": "3.7.16"
  }
 },
 "nbformat": 4,
 "nbformat_minor": 5
}
