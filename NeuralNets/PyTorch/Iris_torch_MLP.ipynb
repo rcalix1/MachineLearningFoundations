{
 "cells": [
  {
   "cell_type": "code",
   "execution_count": 1,
   "id": "46187d42",
   "metadata": {},
   "outputs": [],
   "source": [
    "\n",
    "import torch\n",
    "\n",
    "import torch.nn as nn\n",
    "import torch.nn.functional as F\n",
    "import torch.optim as optim\n",
    "\n",
    "import pandas as pd\n",
    "\n",
    "from mlxtend.plotting import heatmap\n",
    "\n",
    "import numpy as np\n",
    "\n",
    "import matplotlib.pyplot as plt\n",
    "\n",
    "import sklearn\n",
    "\n",
    "from sklearn.model_selection import train_test_split\n",
    "\n",
    "import random\n"
   ]
  },
  {
   "cell_type": "code",
   "execution_count": 61,
   "id": "4665b97e",
   "metadata": {},
   "outputs": [],
   "source": [
    "\n",
    "from sklearn.metrics import confusion_matrix\n",
    "from sklearn.metrics import precision_score, recall_score, accuracy_score, f1_score\n"
   ]
  },
  {
   "cell_type": "code",
   "execution_count": 2,
   "id": "bd3fed59",
   "metadata": {},
   "outputs": [],
   "source": [
    "\n",
    "## !pip install mlxtend\n"
   ]
  },
  {
   "cell_type": "code",
   "execution_count": 3,
   "id": "1f12fbbd",
   "metadata": {},
   "outputs": [],
   "source": [
    "\n",
    "## XOR data\n"
   ]
  },
  {
   "cell_type": "code",
   "execution_count": 4,
   "id": "6789dd33",
   "metadata": {},
   "outputs": [],
   "source": [
    "\n",
    "## nn\n"
   ]
  },
  {
   "cell_type": "code",
   "execution_count": 5,
   "id": "b74b75a7",
   "metadata": {},
   "outputs": [],
   "source": [
    "\n",
    "\n",
    "## y = w * x + b\n",
    "\n",
    "## nn.Linear()\n"
   ]
  },
  {
   "cell_type": "markdown",
   "id": "44e65d2f",
   "metadata": {},
   "source": [
    "\n",
    "## First NN architecture\n",
    "\n",
    "* MLP\n"
   ]
  },
  {
   "cell_type": "code",
   "execution_count": 6,
   "id": "76da1cfe",
   "metadata": {},
   "outputs": [],
   "source": [
    "\n",
    "## MLP\n",
    "\n",
    "class MLP_Net(nn.Module):\n",
    "    ## init class\n",
    "    def __init__(self):\n",
    "        super().__init__()\n",
    "        \n",
    "        self.linear1 = nn.Linear(4 , 6)\n",
    "        self.linear2 = nn.Linear(6 , 3)\n",
    "        \n",
    "        ## define the layers\n",
    "        \n",
    "    ## perform the inference\n",
    "    def forward(self, x):\n",
    "        \n",
    "        h1 = self.linear1( x  )\n",
    "        y  = self.linear2( h1 )\n",
    "        \n",
    "        return y\n",
    "        \n"
   ]
  },
  {
   "cell_type": "code",
   "execution_count": 7,
   "id": "aae8d230",
   "metadata": {},
   "outputs": [],
   "source": [
    "\n",
    "model = MLP_Net()\n"
   ]
  },
  {
   "cell_type": "code",
   "execution_count": 8,
   "id": "2e0d8366",
   "metadata": {},
   "outputs": [
    {
     "data": {
      "text/plain": [
       "torch.Size([1, 4])"
      ]
     },
     "execution_count": 8,
     "metadata": {},
     "output_type": "execute_result"
    }
   ],
   "source": [
    "\n",
    "x = torch.randn(1, 4)\n",
    "x.shape\n"
   ]
  },
  {
   "cell_type": "code",
   "execution_count": 9,
   "id": "7248d18e",
   "metadata": {},
   "outputs": [],
   "source": [
    "\n",
    "y_pred = model(  x  )\n"
   ]
  },
  {
   "cell_type": "code",
   "execution_count": 10,
   "id": "2a23fd3e",
   "metadata": {},
   "outputs": [
    {
     "data": {
      "text/plain": [
       "torch.Size([1, 3])"
      ]
     },
     "execution_count": 10,
     "metadata": {},
     "output_type": "execute_result"
    }
   ],
   "source": [
    "\n",
    "y_pred.shape\n"
   ]
  },
  {
   "cell_type": "code",
   "execution_count": 11,
   "id": "17b2b3e9",
   "metadata": {},
   "outputs": [
    {
     "data": {
      "text/plain": [
       "torch.Size([150, 4])"
      ]
     },
     "execution_count": 11,
     "metadata": {},
     "output_type": "execute_result"
    }
   ],
   "source": [
    "\n",
    "xb = torch.randn(150, 4)\n",
    "xb.shape\n"
   ]
  },
  {
   "cell_type": "code",
   "execution_count": 12,
   "id": "f71a7ac6",
   "metadata": {},
   "outputs": [],
   "source": [
    "\n",
    "y_pred_b = model(  xb  )\n"
   ]
  },
  {
   "cell_type": "code",
   "execution_count": 13,
   "id": "a8f8c45b",
   "metadata": {},
   "outputs": [
    {
     "data": {
      "text/plain": [
       "torch.Size([150, 3])"
      ]
     },
     "execution_count": 13,
     "metadata": {},
     "output_type": "execute_result"
    }
   ],
   "source": [
    "\n",
    "y_pred_b.shape\n"
   ]
  },
  {
   "cell_type": "markdown",
   "id": "e8af09b2",
   "metadata": {},
   "source": [
    "\n",
    "## Build a NN for the Iris data set\n"
   ]
  },
  {
   "cell_type": "code",
   "execution_count": 57,
   "id": "e8921be1",
   "metadata": {},
   "outputs": [],
   "source": [
    "\n",
    "## 0.001, 0.0001, 0.0003, 0.01, 0.03\n",
    "\n",
    "batch_size    = 16\n",
    "learning_rate = 0.003 ## 0.001\n",
    "N_Epochs      = 4000\n",
    "\n",
    "epsilon = 0.0001\n"
   ]
  },
  {
   "cell_type": "code",
   "execution_count": 14,
   "id": "bdd9c77c",
   "metadata": {},
   "outputs": [],
   "source": [
    "\n",
    "path_data = 'iris.csv'\n",
    "\n",
    "iris_raw_data = pd.read_csv(path_data, delimiter=\",\")\n"
   ]
  },
  {
   "cell_type": "code",
   "execution_count": 15,
   "id": "6cb1a562",
   "metadata": {},
   "outputs": [
    {
     "data": {
      "text/html": [
       "<div>\n",
       "<style scoped>\n",
       "    .dataframe tbody tr th:only-of-type {\n",
       "        vertical-align: middle;\n",
       "    }\n",
       "\n",
       "    .dataframe tbody tr th {\n",
       "        vertical-align: top;\n",
       "    }\n",
       "\n",
       "    .dataframe thead th {\n",
       "        text-align: right;\n",
       "    }\n",
       "</style>\n",
       "<table border=\"1\" class=\"dataframe\">\n",
       "  <thead>\n",
       "    <tr style=\"text-align: right;\">\n",
       "      <th></th>\n",
       "      <th>sepal_length</th>\n",
       "      <th>sepal_width</th>\n",
       "      <th>petal_length</th>\n",
       "      <th>petal_width</th>\n",
       "      <th>species</th>\n",
       "    </tr>\n",
       "  </thead>\n",
       "  <tbody>\n",
       "    <tr>\n",
       "      <th>0</th>\n",
       "      <td>5.1</td>\n",
       "      <td>3.5</td>\n",
       "      <td>1.4</td>\n",
       "      <td>0.2</td>\n",
       "      <td>setosa</td>\n",
       "    </tr>\n",
       "    <tr>\n",
       "      <th>1</th>\n",
       "      <td>4.9</td>\n",
       "      <td>3.0</td>\n",
       "      <td>1.4</td>\n",
       "      <td>0.2</td>\n",
       "      <td>setosa</td>\n",
       "    </tr>\n",
       "    <tr>\n",
       "      <th>2</th>\n",
       "      <td>4.7</td>\n",
       "      <td>3.2</td>\n",
       "      <td>1.3</td>\n",
       "      <td>0.2</td>\n",
       "      <td>setosa</td>\n",
       "    </tr>\n",
       "    <tr>\n",
       "      <th>3</th>\n",
       "      <td>4.6</td>\n",
       "      <td>3.1</td>\n",
       "      <td>1.5</td>\n",
       "      <td>0.2</td>\n",
       "      <td>setosa</td>\n",
       "    </tr>\n",
       "    <tr>\n",
       "      <th>4</th>\n",
       "      <td>5.0</td>\n",
       "      <td>3.6</td>\n",
       "      <td>1.4</td>\n",
       "      <td>0.2</td>\n",
       "      <td>setosa</td>\n",
       "    </tr>\n",
       "    <tr>\n",
       "      <th>...</th>\n",
       "      <td>...</td>\n",
       "      <td>...</td>\n",
       "      <td>...</td>\n",
       "      <td>...</td>\n",
       "      <td>...</td>\n",
       "    </tr>\n",
       "    <tr>\n",
       "      <th>145</th>\n",
       "      <td>6.7</td>\n",
       "      <td>3.0</td>\n",
       "      <td>5.2</td>\n",
       "      <td>2.3</td>\n",
       "      <td>virginica</td>\n",
       "    </tr>\n",
       "    <tr>\n",
       "      <th>146</th>\n",
       "      <td>6.3</td>\n",
       "      <td>2.5</td>\n",
       "      <td>5.0</td>\n",
       "      <td>1.9</td>\n",
       "      <td>virginica</td>\n",
       "    </tr>\n",
       "    <tr>\n",
       "      <th>147</th>\n",
       "      <td>6.5</td>\n",
       "      <td>3.0</td>\n",
       "      <td>5.2</td>\n",
       "      <td>2.0</td>\n",
       "      <td>virginica</td>\n",
       "    </tr>\n",
       "    <tr>\n",
       "      <th>148</th>\n",
       "      <td>6.2</td>\n",
       "      <td>3.4</td>\n",
       "      <td>5.4</td>\n",
       "      <td>2.3</td>\n",
       "      <td>virginica</td>\n",
       "    </tr>\n",
       "    <tr>\n",
       "      <th>149</th>\n",
       "      <td>5.9</td>\n",
       "      <td>3.0</td>\n",
       "      <td>5.1</td>\n",
       "      <td>1.8</td>\n",
       "      <td>virginica</td>\n",
       "    </tr>\n",
       "  </tbody>\n",
       "</table>\n",
       "<p>150 rows × 5 columns</p>\n",
       "</div>"
      ],
      "text/plain": [
       "     sepal_length  sepal_width  petal_length  petal_width    species\n",
       "0             5.1          3.5           1.4          0.2     setosa\n",
       "1             4.9          3.0           1.4          0.2     setosa\n",
       "2             4.7          3.2           1.3          0.2     setosa\n",
       "3             4.6          3.1           1.5          0.2     setosa\n",
       "4             5.0          3.6           1.4          0.2     setosa\n",
       "..            ...          ...           ...          ...        ...\n",
       "145           6.7          3.0           5.2          2.3  virginica\n",
       "146           6.3          2.5           5.0          1.9  virginica\n",
       "147           6.5          3.0           5.2          2.0  virginica\n",
       "148           6.2          3.4           5.4          2.3  virginica\n",
       "149           5.9          3.0           5.1          1.8  virginica\n",
       "\n",
       "[150 rows x 5 columns]"
      ]
     },
     "execution_count": 15,
     "metadata": {},
     "output_type": "execute_result"
    }
   ],
   "source": [
    "\n",
    "iris_raw_data\n"
   ]
  },
  {
   "cell_type": "code",
   "execution_count": 16,
   "id": "132ada91",
   "metadata": {},
   "outputs": [],
   "source": [
    "\n",
    "iris_raw_data.species = iris_raw_data.species.map(  {'setosa':0, 'virginica':1, 'versicolor':2}   )\n"
   ]
  },
  {
   "cell_type": "code",
   "execution_count": 17,
   "id": "8cbeab9f",
   "metadata": {},
   "outputs": [
    {
     "data": {
      "text/html": [
       "<div>\n",
       "<style scoped>\n",
       "    .dataframe tbody tr th:only-of-type {\n",
       "        vertical-align: middle;\n",
       "    }\n",
       "\n",
       "    .dataframe tbody tr th {\n",
       "        vertical-align: top;\n",
       "    }\n",
       "\n",
       "    .dataframe thead th {\n",
       "        text-align: right;\n",
       "    }\n",
       "</style>\n",
       "<table border=\"1\" class=\"dataframe\">\n",
       "  <thead>\n",
       "    <tr style=\"text-align: right;\">\n",
       "      <th></th>\n",
       "      <th>sepal_length</th>\n",
       "      <th>sepal_width</th>\n",
       "      <th>petal_length</th>\n",
       "      <th>petal_width</th>\n",
       "      <th>species</th>\n",
       "    </tr>\n",
       "  </thead>\n",
       "  <tbody>\n",
       "    <tr>\n",
       "      <th>0</th>\n",
       "      <td>5.1</td>\n",
       "      <td>3.5</td>\n",
       "      <td>1.4</td>\n",
       "      <td>0.2</td>\n",
       "      <td>0</td>\n",
       "    </tr>\n",
       "    <tr>\n",
       "      <th>1</th>\n",
       "      <td>4.9</td>\n",
       "      <td>3.0</td>\n",
       "      <td>1.4</td>\n",
       "      <td>0.2</td>\n",
       "      <td>0</td>\n",
       "    </tr>\n",
       "    <tr>\n",
       "      <th>2</th>\n",
       "      <td>4.7</td>\n",
       "      <td>3.2</td>\n",
       "      <td>1.3</td>\n",
       "      <td>0.2</td>\n",
       "      <td>0</td>\n",
       "    </tr>\n",
       "    <tr>\n",
       "      <th>3</th>\n",
       "      <td>4.6</td>\n",
       "      <td>3.1</td>\n",
       "      <td>1.5</td>\n",
       "      <td>0.2</td>\n",
       "      <td>0</td>\n",
       "    </tr>\n",
       "    <tr>\n",
       "      <th>4</th>\n",
       "      <td>5.0</td>\n",
       "      <td>3.6</td>\n",
       "      <td>1.4</td>\n",
       "      <td>0.2</td>\n",
       "      <td>0</td>\n",
       "    </tr>\n",
       "    <tr>\n",
       "      <th>...</th>\n",
       "      <td>...</td>\n",
       "      <td>...</td>\n",
       "      <td>...</td>\n",
       "      <td>...</td>\n",
       "      <td>...</td>\n",
       "    </tr>\n",
       "    <tr>\n",
       "      <th>145</th>\n",
       "      <td>6.7</td>\n",
       "      <td>3.0</td>\n",
       "      <td>5.2</td>\n",
       "      <td>2.3</td>\n",
       "      <td>1</td>\n",
       "    </tr>\n",
       "    <tr>\n",
       "      <th>146</th>\n",
       "      <td>6.3</td>\n",
       "      <td>2.5</td>\n",
       "      <td>5.0</td>\n",
       "      <td>1.9</td>\n",
       "      <td>1</td>\n",
       "    </tr>\n",
       "    <tr>\n",
       "      <th>147</th>\n",
       "      <td>6.5</td>\n",
       "      <td>3.0</td>\n",
       "      <td>5.2</td>\n",
       "      <td>2.0</td>\n",
       "      <td>1</td>\n",
       "    </tr>\n",
       "    <tr>\n",
       "      <th>148</th>\n",
       "      <td>6.2</td>\n",
       "      <td>3.4</td>\n",
       "      <td>5.4</td>\n",
       "      <td>2.3</td>\n",
       "      <td>1</td>\n",
       "    </tr>\n",
       "    <tr>\n",
       "      <th>149</th>\n",
       "      <td>5.9</td>\n",
       "      <td>3.0</td>\n",
       "      <td>5.1</td>\n",
       "      <td>1.8</td>\n",
       "      <td>1</td>\n",
       "    </tr>\n",
       "  </tbody>\n",
       "</table>\n",
       "<p>150 rows × 5 columns</p>\n",
       "</div>"
      ],
      "text/plain": [
       "     sepal_length  sepal_width  petal_length  petal_width  species\n",
       "0             5.1          3.5           1.4          0.2        0\n",
       "1             4.9          3.0           1.4          0.2        0\n",
       "2             4.7          3.2           1.3          0.2        0\n",
       "3             4.6          3.1           1.5          0.2        0\n",
       "4             5.0          3.6           1.4          0.2        0\n",
       "..            ...          ...           ...          ...      ...\n",
       "145           6.7          3.0           5.2          2.3        1\n",
       "146           6.3          2.5           5.0          1.9        1\n",
       "147           6.5          3.0           5.2          2.0        1\n",
       "148           6.2          3.4           5.4          2.3        1\n",
       "149           5.9          3.0           5.1          1.8        1\n",
       "\n",
       "[150 rows x 5 columns]"
      ]
     },
     "execution_count": 17,
     "metadata": {},
     "output_type": "execute_result"
    }
   ],
   "source": [
    "\n",
    "iris_raw_data\n"
   ]
  },
  {
   "cell_type": "code",
   "execution_count": 18,
   "id": "3c19097c",
   "metadata": {},
   "outputs": [
    {
     "data": {
      "text/plain": [
       "['sepal_length', 'sepal_width', 'petal_length', 'petal_width', 'species']"
      ]
     },
     "execution_count": 18,
     "metadata": {},
     "output_type": "execute_result"
    }
   ],
   "source": [
    "\n",
    "headers_list = iris_raw_data.columns.values.tolist()\n",
    "headers_list\n"
   ]
  },
  {
   "cell_type": "code",
   "execution_count": 19,
   "id": "944362a3",
   "metadata": {},
   "outputs": [],
   "source": [
    "\n",
    "cm = np.corrcoef(  iris_raw_data[ headers_list ].values.T  )\n"
   ]
  },
  {
   "cell_type": "code",
   "execution_count": 20,
   "id": "26fc1bd1",
   "metadata": {},
   "outputs": [
    {
     "data": {
      "image/png": "[encoded data removed]",
      "text/plain": [
       "<Figure size 2000x1000 with 2 Axes>"
      ]
     },
     "metadata": {},
     "output_type": "display_data"
    }
   ],
   "source": [
    "\n",
    "hm = heatmap(cm, row_names= headers_list, column_names=headers_list, figsize=[20,10])\n",
    "plt.show()\n"
   ]
  },
  {
   "cell_type": "code",
   "execution_count": 21,
   "id": "27ff4e6d",
   "metadata": {},
   "outputs": [
    {
     "data": {
      "text/plain": [
       "array([[5.1, 3.5, 1.4, 0.2, 0. ],\n",
       "       [4.9, 3. , 1.4, 0.2, 0. ],\n",
       "       [4.7, 3.2, 1.3, 0.2, 0. ],\n",
       "       [4.6, 3.1, 1.5, 0.2, 0. ],\n",
       "       [5. , 3.6, 1.4, 0.2, 0. ],\n",
       "       [5.4, 3.9, 1.7, 0.4, 0. ],\n",
       "       [4.6, 3.4, 1.4, 0.3, 0. ],\n",
       "       [5. , 3.4, 1.5, 0.2, 0. ],\n",
       "       [4.4, 2.9, 1.4, 0.2, 0. ],\n",
       "       [4.9, 3.1, 1.5, 0.1, 0. ],\n",
       "       [5.4, 3.7, 1.5, 0.2, 0. ],\n",
       "       [4.8, 3.4, 1.6, 0.2, 0. ],\n",
       "       [4.8, 3. , 1.4, 0.1, 0. ],\n",
       "       [4.3, 3. , 1.1, 0.1, 0. ],\n",
       "       [5.8, 4. , 1.2, 0.2, 0. ],\n",
       "       [5.7, 4.4, 1.5, 0.4, 0. ],\n",
       "       [5.4, 3.9, 1.3, 0.4, 0. ],\n",
       "       [5.1, 3.5, 1.4, 0.3, 0. ],\n",
       "       [5.7, 3.8, 1.7, 0.3, 0. ],\n",
       "       [5.1, 3.8, 1.5, 0.3, 0. ],\n",
       "       [5.4, 3.4, 1.7, 0.2, 0. ],\n",
       "       [5.1, 3.7, 1.5, 0.4, 0. ],\n",
       "       [4.6, 3.6, 1. , 0.2, 0. ],\n",
       "       [5.1, 3.3, 1.7, 0.5, 0. ],\n",
       "       [4.8, 3.4, 1.9, 0.2, 0. ],\n",
       "       [5. , 3. , 1.6, 0.2, 0. ],\n",
       "       [5. , 3.4, 1.6, 0.4, 0. ],\n",
       "       [5.2, 3.5, 1.5, 0.2, 0. ],\n",
       "       [5.2, 3.4, 1.4, 0.2, 0. ],\n",
       "       [4.7, 3.2, 1.6, 0.2, 0. ],\n",
       "       [4.8, 3.1, 1.6, 0.2, 0. ],\n",
       "       [5.4, 3.4, 1.5, 0.4, 0. ],\n",
       "       [5.2, 4.1, 1.5, 0.1, 0. ],\n",
       "       [5.5, 4.2, 1.4, 0.2, 0. ],\n",
       "       [4.9, 3.1, 1.5, 0.1, 0. ],\n",
       "       [5. , 3.2, 1.2, 0.2, 0. ],\n",
       "       [5.5, 3.5, 1.3, 0.2, 0. ],\n",
       "       [4.9, 3.1, 1.5, 0.1, 0. ],\n",
       "       [4.4, 3. , 1.3, 0.2, 0. ],\n",
       "       [5.1, 3.4, 1.5, 0.2, 0. ],\n",
       "       [5. , 3.5, 1.3, 0.3, 0. ],\n",
       "       [4.5, 2.3, 1.3, 0.3, 0. ],\n",
       "       [4.4, 3.2, 1.3, 0.2, 0. ],\n",
       "       [5. , 3.5, 1.6, 0.6, 0. ],\n",
       "       [5.1, 3.8, 1.9, 0.4, 0. ],\n",
       "       [4.8, 3. , 1.4, 0.3, 0. ],\n",
       "       [5.1, 3.8, 1.6, 0.2, 0. ],\n",
       "       [4.6, 3.2, 1.4, 0.2, 0. ],\n",
       "       [5.3, 3.7, 1.5, 0.2, 0. ],\n",
       "       [5. , 3.3, 1.4, 0.2, 0. ],\n",
       "       [7. , 3.2, 4.7, 1.4, 2. ],\n",
       "       [6.4, 3.2, 4.5, 1.5, 2. ],\n",
       "       [6.9, 3.1, 4.9, 1.5, 2. ],\n",
       "       [5.5, 2.3, 4. , 1.3, 2. ],\n",
       "       [6.5, 2.8, 4.6, 1.5, 2. ],\n",
       "       [5.7, 2.8, 4.5, 1.3, 2. ],\n",
       "       [6.3, 3.3, 4.7, 1.6, 2. ],\n",
       "       [4.9, 2.4, 3.3, 1. , 2. ],\n",
       "       [6.6, 2.9, 4.6, 1.3, 2. ],\n",
       "       [5.2, 2.7, 3.9, 1.4, 2. ],\n",
       "       [5. , 2. , 3.5, 1. , 2. ],\n",
       "       [5.9, 3. , 4.2, 1.5, 2. ],\n",
       "       [6. , 2.2, 4. , 1. , 2. ],\n",
       "       [6.1, 2.9, 4.7, 1.4, 2. ],\n",
       "       [5.6, 2.9, 3.6, 1.3, 2. ],\n",
       "       [6.7, 3.1, 4.4, 1.4, 2. ],\n",
       "       [5.6, 3. , 4.5, 1.5, 2. ],\n",
       "       [5.8, 2.7, 4.1, 1. , 2. ],\n",
       "       [6.2, 2.2, 4.5, 1.5, 2. ],\n",
       "       [5.6, 2.5, 3.9, 1.1, 2. ],\n",
       "       [5.9, 3.2, 4.8, 1.8, 2. ],\n",
       "       [6.1, 2.8, 4. , 1.3, 2. ],\n",
       "       [6.3, 2.5, 4.9, 1.5, 2. ],\n",
       "       [6.1, 2.8, 4.7, 1.2, 2. ],\n",
       "       [6.4, 2.9, 4.3, 1.3, 2. ],\n",
       "       [6.6, 3. , 4.4, 1.4, 2. ],\n",
       "       [6.8, 2.8, 4.8, 1.4, 2. ],\n",
       "       [6.7, 3. , 5. , 1.7, 2. ],\n",
       "       [6. , 2.9, 4.5, 1.5, 2. ],\n",
       "       [5.7, 2.6, 3.5, 1. , 2. ],\n",
       "       [5.5, 2.4, 3.8, 1.1, 2. ],\n",
       "       [5.5, 2.4, 3.7, 1. , 2. ],\n",
       "       [5.8, 2.7, 3.9, 1.2, 2. ],\n",
       "       [6. , 2.7, 5.1, 1.6, 2. ],\n",
       "       [5.4, 3. , 4.5, 1.5, 2. ],\n",
       "       [6. , 3.4, 4.5, 1.6, 2. ],\n",
       "       [6.7, 3.1, 4.7, 1.5, 2. ],\n",
       "       [6.3, 2.3, 4.4, 1.3, 2. ],\n",
       "       [5.6, 3. , 4.1, 1.3, 2. ],\n",
       "       [5.5, 2.5, 4. , 1.3, 2. ],\n",
       "       [5.5, 2.6, 4.4, 1.2, 2. ],\n",
       "       [6.1, 3. , 4.6, 1.4, 2. ],\n",
       "       [5.8, 2.6, 4. , 1.2, 2. ],\n",
       "       [5. , 2.3, 3.3, 1. , 2. ],\n",
       "       [5.6, 2.7, 4.2, 1.3, 2. ],\n",
       "       [5.7, 3. , 4.2, 1.2, 2. ],\n",
       "       [5.7, 2.9, 4.2, 1.3, 2. ],\n",
       "       [6.2, 2.9, 4.3, 1.3, 2. ],\n",
       "       [5.1, 2.5, 3. , 1.1, 2. ],\n",
       "       [5.7, 2.8, 4.1, 1.3, 2. ],\n",
       "       [6.3, 3.3, 6. , 2.5, 1. ],\n",
       "       [5.8, 2.7, 5.1, 1.9, 1. ],\n",
       "       [7.1, 3. , 5.9, 2.1, 1. ],\n",
       "       [6.3, 2.9, 5.6, 1.8, 1. ],\n",
       "       [6.5, 3. , 5.8, 2.2, 1. ],\n",
       "       [7.6, 3. , 6.6, 2.1, 1. ],\n",
       "       [4.9, 2.5, 4.5, 1.7, 1. ],\n",
       "       [7.3, 2.9, 6.3, 1.8, 1. ],\n",
       "       [6.7, 2.5, 5.8, 1.8, 1. ],\n",
       "       [7.2, 3.6, 6.1, 2.5, 1. ],\n",
       "       [6.5, 3.2, 5.1, 2. , 1. ],\n",
       "       [6.4, 2.7, 5.3, 1.9, 1. ],\n",
       "       [6.8, 3. , 5.5, 2.1, 1. ],\n",
       "       [5.7, 2.5, 5. , 2. , 1. ],\n",
       "       [5.8, 2.8, 5.1, 2.4, 1. ],\n",
       "       [6.4, 3.2, 5.3, 2.3, 1. ],\n",
       "       [6.5, 3. , 5.5, 1.8, 1. ],\n",
       "       [7.7, 3.8, 6.7, 2.2, 1. ],\n",
       "       [7.7, 2.6, 6.9, 2.3, 1. ],\n",
       "       [6. , 2.2, 5. , 1.5, 1. ],\n",
       "       [6.9, 3.2, 5.7, 2.3, 1. ],\n",
       "       [5.6, 2.8, 4.9, 2. , 1. ],\n",
       "       [7.7, 2.8, 6.7, 2. , 1. ],\n",
       "       [6.3, 2.7, 4.9, 1.8, 1. ],\n",
       "       [6.7, 3.3, 5.7, 2.1, 1. ],\n",
       "       [7.2, 3.2, 6. , 1.8, 1. ],\n",
       "       [6.2, 2.8, 4.8, 1.8, 1. ],\n",
       "       [6.1, 3. , 4.9, 1.8, 1. ],\n",
       "       [6.4, 2.8, 5.6, 2.1, 1. ],\n",
       "       [7.2, 3. , 5.8, 1.6, 1. ],\n",
       "       [7.4, 2.8, 6.1, 1.9, 1. ],\n",
       "       [7.9, 3.8, 6.4, 2. , 1. ],\n",
       "       [6.4, 2.8, 5.6, 2.2, 1. ],\n",
       "       [6.3, 2.8, 5.1, 1.5, 1. ],\n",
       "       [6.1, 2.6, 5.6, 1.4, 1. ],\n",
       "       [7.7, 3. , 6.1, 2.3, 1. ],\n",
       "       [6.3, 3.4, 5.6, 2.4, 1. ],\n",
       "       [6.4, 3.1, 5.5, 1.8, 1. ],\n",
       "       [6. , 3. , 4.8, 1.8, 1. ],\n",
       "       [6.9, 3.1, 5.4, 2.1, 1. ],\n",
       "       [6.7, 3.1, 5.6, 2.4, 1. ],\n",
       "       [6.9, 3.1, 5.1, 2.3, 1. ],\n",
       "       [5.8, 2.7, 5.1, 1.9, 1. ],\n",
       "       [6.8, 3.2, 5.9, 2.3, 1. ],\n",
       "       [6.7, 3.3, 5.7, 2.5, 1. ],\n",
       "       [6.7, 3. , 5.2, 2.3, 1. ],\n",
       "       [6.3, 2.5, 5. , 1.9, 1. ],\n",
       "       [6.5, 3. , 5.2, 2. , 1. ],\n",
       "       [6.2, 3.4, 5.4, 2.3, 1. ],\n",
       "       [5.9, 3. , 5.1, 1.8, 1. ]])"
      ]
     },
     "execution_count": 21,
     "metadata": {},
     "output_type": "execute_result"
    }
   ],
   "source": [
    "\n",
    "iris_raw_data_np = iris_raw_data.to_numpy()\n",
    "iris_raw_data_np\n"
   ]
  },
  {
   "cell_type": "code",
   "execution_count": 22,
   "id": "08aa88e7",
   "metadata": {},
   "outputs": [
    {
     "data": {
      "text/plain": [
       "(150, 5)"
      ]
     },
     "execution_count": 22,
     "metadata": {},
     "output_type": "execute_result"
    }
   ],
   "source": [
    "\n",
    "iris_raw_data_np.shape\n"
   ]
  },
  {
   "cell_type": "code",
   "execution_count": 23,
   "id": "e7879f25",
   "metadata": {},
   "outputs": [],
   "source": [
    "\n",
    "X = iris_raw_data_np[:, :-1]\n",
    "\n",
    "y = iris_raw_data_np[:, 4:5]\n"
   ]
  },
  {
   "cell_type": "code",
   "execution_count": 24,
   "id": "d501e278",
   "metadata": {},
   "outputs": [
    {
     "data": {
      "text/plain": [
       "(150, 4)"
      ]
     },
     "execution_count": 24,
     "metadata": {},
     "output_type": "execute_result"
    }
   ],
   "source": [
    "\n",
    "X.shape\n"
   ]
  },
  {
   "cell_type": "code",
   "execution_count": 25,
   "id": "24951942",
   "metadata": {},
   "outputs": [
    {
     "data": {
      "text/plain": [
       "(150, 1)"
      ]
     },
     "execution_count": 25,
     "metadata": {},
     "output_type": "execute_result"
    }
   ],
   "source": [
    "\n",
    "y.shape\n"
   ]
  },
  {
   "cell_type": "code",
   "execution_count": 26,
   "id": "3129ac3e",
   "metadata": {},
   "outputs": [
    {
     "data": {
      "text/plain": [
       "array([[0.],\n",
       "       [0.],\n",
       "       [0.],\n",
       "       [0.],\n",
       "       [0.],\n",
       "       [0.],\n",
       "       [0.],\n",
       "       [0.],\n",
       "       [0.],\n",
       "       [0.],\n",
       "       [0.],\n",
       "       [0.],\n",
       "       [0.],\n",
       "       [0.],\n",
       "       [0.],\n",
       "       [0.],\n",
       "       [0.],\n",
       "       [0.],\n",
       "       [0.],\n",
       "       [0.],\n",
       "       [0.],\n",
       "       [0.],\n",
       "       [0.],\n",
       "       [0.],\n",
       "       [0.],\n",
       "       [0.],\n",
       "       [0.],\n",
       "       [0.],\n",
       "       [0.],\n",
       "       [0.],\n",
       "       [0.],\n",
       "       [0.],\n",
       "       [0.],\n",
       "       [0.],\n",
       "       [0.],\n",
       "       [0.],\n",
       "       [0.],\n",
       "       [0.],\n",
       "       [0.],\n",
       "       [0.],\n",
       "       [0.],\n",
       "       [0.],\n",
       "       [0.],\n",
       "       [0.],\n",
       "       [0.],\n",
       "       [0.],\n",
       "       [0.],\n",
       "       [0.],\n",
       "       [0.],\n",
       "       [0.],\n",
       "       [2.],\n",
       "       [2.],\n",
       "       [2.],\n",
       "       [2.],\n",
       "       [2.],\n",
       "       [2.],\n",
       "       [2.],\n",
       "       [2.],\n",
       "       [2.],\n",
       "       [2.],\n",
       "       [2.],\n",
       "       [2.],\n",
       "       [2.],\n",
       "       [2.],\n",
       "       [2.],\n",
       "       [2.],\n",
       "       [2.],\n",
       "       [2.],\n",
       "       [2.],\n",
       "       [2.],\n",
       "       [2.],\n",
       "       [2.],\n",
       "       [2.],\n",
       "       [2.],\n",
       "       [2.],\n",
       "       [2.],\n",
       "       [2.],\n",
       "       [2.],\n",
       "       [2.],\n",
       "       [2.],\n",
       "       [2.],\n",
       "       [2.],\n",
       "       [2.],\n",
       "       [2.],\n",
       "       [2.],\n",
       "       [2.],\n",
       "       [2.],\n",
       "       [2.],\n",
       "       [2.],\n",
       "       [2.],\n",
       "       [2.],\n",
       "       [2.],\n",
       "       [2.],\n",
       "       [2.],\n",
       "       [2.],\n",
       "       [2.],\n",
       "       [2.],\n",
       "       [2.],\n",
       "       [2.],\n",
       "       [2.],\n",
       "       [1.],\n",
       "       [1.],\n",
       "       [1.],\n",
       "       [1.],\n",
       "       [1.],\n",
       "       [1.],\n",
       "       [1.],\n",
       "       [1.],\n",
       "       [1.],\n",
       "       [1.],\n",
       "       [1.],\n",
       "       [1.],\n",
       "       [1.],\n",
       "       [1.],\n",
       "       [1.],\n",
       "       [1.],\n",
       "       [1.],\n",
       "       [1.],\n",
       "       [1.],\n",
       "       [1.],\n",
       "       [1.],\n",
       "       [1.],\n",
       "       [1.],\n",
       "       [1.],\n",
       "       [1.],\n",
       "       [1.],\n",
       "       [1.],\n",
       "       [1.],\n",
       "       [1.],\n",
       "       [1.],\n",
       "       [1.],\n",
       "       [1.],\n",
       "       [1.],\n",
       "       [1.],\n",
       "       [1.],\n",
       "       [1.],\n",
       "       [1.],\n",
       "       [1.],\n",
       "       [1.],\n",
       "       [1.],\n",
       "       [1.],\n",
       "       [1.],\n",
       "       [1.],\n",
       "       [1.],\n",
       "       [1.],\n",
       "       [1.],\n",
       "       [1.],\n",
       "       [1.],\n",
       "       [1.],\n",
       "       [1.]])"
      ]
     },
     "execution_count": 26,
     "metadata": {},
     "output_type": "execute_result"
    }
   ],
   "source": [
    "\n",
    "y\n"
   ]
  },
  {
   "cell_type": "code",
   "execution_count": 27,
   "id": "099be052",
   "metadata": {},
   "outputs": [],
   "source": [
    "\n",
    "y = y.astype(int)\n"
   ]
  },
  {
   "cell_type": "code",
   "execution_count": 28,
   "id": "ede33509",
   "metadata": {},
   "outputs": [
    {
     "data": {
      "text/plain": [
       "array([[0],\n",
       "       [0],\n",
       "       [0],\n",
       "       [0],\n",
       "       [0],\n",
       "       [0],\n",
       "       [0],\n",
       "       [0],\n",
       "       [0],\n",
       "       [0],\n",
       "       [0],\n",
       "       [0],\n",
       "       [0],\n",
       "       [0],\n",
       "       [0],\n",
       "       [0],\n",
       "       [0],\n",
       "       [0],\n",
       "       [0],\n",
       "       [0],\n",
       "       [0],\n",
       "       [0],\n",
       "       [0],\n",
       "       [0],\n",
       "       [0],\n",
       "       [0],\n",
       "       [0],\n",
       "       [0],\n",
       "       [0],\n",
       "       [0],\n",
       "       [0],\n",
       "       [0],\n",
       "       [0],\n",
       "       [0],\n",
       "       [0],\n",
       "       [0],\n",
       "       [0],\n",
       "       [0],\n",
       "       [0],\n",
       "       [0],\n",
       "       [0],\n",
       "       [0],\n",
       "       [0],\n",
       "       [0],\n",
       "       [0],\n",
       "       [0],\n",
       "       [0],\n",
       "       [0],\n",
       "       [0],\n",
       "       [0],\n",
       "       [2],\n",
       "       [2],\n",
       "       [2],\n",
       "       [2],\n",
       "       [2],\n",
       "       [2],\n",
       "       [2],\n",
       "       [2],\n",
       "       [2],\n",
       "       [2],\n",
       "       [2],\n",
       "       [2],\n",
       "       [2],\n",
       "       [2],\n",
       "       [2],\n",
       "       [2],\n",
       "       [2],\n",
       "       [2],\n",
       "       [2],\n",
       "       [2],\n",
       "       [2],\n",
       "       [2],\n",
       "       [2],\n",
       "       [2],\n",
       "       [2],\n",
       "       [2],\n",
       "       [2],\n",
       "       [2],\n",
       "       [2],\n",
       "       [2],\n",
       "       [2],\n",
       "       [2],\n",
       "       [2],\n",
       "       [2],\n",
       "       [2],\n",
       "       [2],\n",
       "       [2],\n",
       "       [2],\n",
       "       [2],\n",
       "       [2],\n",
       "       [2],\n",
       "       [2],\n",
       "       [2],\n",
       "       [2],\n",
       "       [2],\n",
       "       [2],\n",
       "       [2],\n",
       "       [2],\n",
       "       [2],\n",
       "       [2],\n",
       "       [1],\n",
       "       [1],\n",
       "       [1],\n",
       "       [1],\n",
       "       [1],\n",
       "       [1],\n",
       "       [1],\n",
       "       [1],\n",
       "       [1],\n",
       "       [1],\n",
       "       [1],\n",
       "       [1],\n",
       "       [1],\n",
       "       [1],\n",
       "       [1],\n",
       "       [1],\n",
       "       [1],\n",
       "       [1],\n",
       "       [1],\n",
       "       [1],\n",
       "       [1],\n",
       "       [1],\n",
       "       [1],\n",
       "       [1],\n",
       "       [1],\n",
       "       [1],\n",
       "       [1],\n",
       "       [1],\n",
       "       [1],\n",
       "       [1],\n",
       "       [1],\n",
       "       [1],\n",
       "       [1],\n",
       "       [1],\n",
       "       [1],\n",
       "       [1],\n",
       "       [1],\n",
       "       [1],\n",
       "       [1],\n",
       "       [1],\n",
       "       [1],\n",
       "       [1],\n",
       "       [1],\n",
       "       [1],\n",
       "       [1],\n",
       "       [1],\n",
       "       [1],\n",
       "       [1],\n",
       "       [1],\n",
       "       [1]])"
      ]
     },
     "execution_count": 28,
     "metadata": {},
     "output_type": "execute_result"
    }
   ],
   "source": [
    "\n",
    "y\n"
   ]
  },
  {
   "cell_type": "code",
   "execution_count": 29,
   "id": "575354bc",
   "metadata": {},
   "outputs": [
    {
     "data": {
      "text/plain": [
       "array([0, 1, 2])"
      ]
     },
     "execution_count": 29,
     "metadata": {},
     "output_type": "execute_result"
    }
   ],
   "source": [
    "\n",
    "the_set = np.unique(y)\n",
    "the_set\n"
   ]
  },
  {
   "cell_type": "code",
   "execution_count": 30,
   "id": "22881d86",
   "metadata": {},
   "outputs": [
    {
     "data": {
      "image/png": "[encoded data removed]",
      "text/plain": [
       "<Figure size 640x480 with 1 Axes>"
      ]
     },
     "metadata": {},
     "output_type": "display_data"
    }
   ],
   "source": [
    "\n",
    "_ = plt.hist(  y, bins='auto'  )\n",
    "plt.show()\n"
   ]
  },
  {
   "cell_type": "code",
   "execution_count": 31,
   "id": "ff6f1767",
   "metadata": {},
   "outputs": [],
   "source": [
    "\n",
    "random_seed = int(   random.random() * 100    )\n"
   ]
  },
  {
   "cell_type": "code",
   "execution_count": 32,
   "id": "0d138dab",
   "metadata": {},
   "outputs": [],
   "source": [
    "\n",
    "X_train, X_test, y_train, y_test = train_test_split( X, y, test_size=0.2, random_state = random_seed)\n"
   ]
  },
  {
   "cell_type": "code",
   "execution_count": 33,
   "id": "04255b3d",
   "metadata": {},
   "outputs": [
    {
     "name": "stdout",
     "output_type": "stream",
     "text": [
      "(120, 4)\n",
      "(30, 4)\n",
      "(120, 1)\n",
      "(30, 1)\n"
     ]
    }
   ],
   "source": [
    "\n",
    "print(X_train.shape)\n",
    "print(X_test.shape)\n",
    "print(y_train.shape)\n",
    "print(y_test.shape)\n"
   ]
  },
  {
   "cell_type": "code",
   "execution_count": 34,
   "id": "e719589c",
   "metadata": {},
   "outputs": [
    {
     "data": {
      "text/plain": [
       "dtype('float64')"
      ]
     },
     "execution_count": 34,
     "metadata": {},
     "output_type": "execute_result"
    }
   ],
   "source": [
    "\n",
    "X_test.dtype\n"
   ]
  },
  {
   "cell_type": "code",
   "execution_count": 35,
   "id": "f995d593",
   "metadata": {},
   "outputs": [
    {
     "data": {
      "text/plain": [
       "dtype('int32')"
      ]
     },
     "execution_count": 35,
     "metadata": {},
     "output_type": "execute_result"
    }
   ],
   "source": [
    "\n",
    "y_test.dtype \n"
   ]
  },
  {
   "cell_type": "code",
   "execution_count": 36,
   "id": "6e6fd14c",
   "metadata": {},
   "outputs": [],
   "source": [
    "\n",
    "## fix data type\n",
    "\n",
    "X_train = X_train.astype(  np.float32  )\n",
    "X_test  = X_test.astype(   np.float32  )\n",
    "y_train = y_train.astype(  np.int64 )       ## np.long  \n",
    "y_test  = y_test.astype(   np.int64 )\n"
   ]
  },
  {
   "cell_type": "code",
   "execution_count": 37,
   "id": "ca900235",
   "metadata": {},
   "outputs": [],
   "source": [
    "\n",
    "X_train_tr = torch.from_numpy(X_train)\n",
    "X_test_tr  = torch.from_numpy(X_test)\n",
    "y_train_tr = torch.from_numpy(y_train)\n",
    "y_test_tr  = torch.from_numpy(y_test)\n"
   ]
  },
  {
   "cell_type": "markdown",
   "id": "ec4a0fc7",
   "metadata": {},
   "source": [
    "\n",
    "## Create DataLoader\n"
   ]
  },
  {
   "cell_type": "code",
   "execution_count": 38,
   "id": "0210e9f3",
   "metadata": {},
   "outputs": [
    {
     "data": {
      "text/plain": [
       "120"
      ]
     },
     "execution_count": 38,
     "metadata": {},
     "output_type": "execute_result"
    }
   ],
   "source": [
    "\n",
    "X_train.shape[0]\n"
   ]
  },
  {
   "cell_type": "code",
   "execution_count": 45,
   "id": "95c89e3b",
   "metadata": {},
   "outputs": [
    {
     "data": {
      "text/plain": [
       "tensor([6.2000, 2.9000, 4.3000, 1.3000])"
      ]
     },
     "execution_count": 45,
     "metadata": {},
     "output_type": "execute_result"
    }
   ],
   "source": [
    "\n",
    "X_train_tr[3]\n"
   ]
  },
  {
   "cell_type": "code",
   "execution_count": 46,
   "id": "de3848f4",
   "metadata": {},
   "outputs": [
    {
     "data": {
      "text/plain": [
       "2"
      ]
     },
     "execution_count": 46,
     "metadata": {},
     "output_type": "execute_result"
    }
   ],
   "source": [
    "\n",
    "y_train_tr[3].item()\n"
   ]
  },
  {
   "cell_type": "code",
   "execution_count": 47,
   "id": "9b1f2cf0",
   "metadata": {},
   "outputs": [],
   "source": [
    "\n",
    "\n",
    "\n",
    "iris_train_list = [  ( X_train_tr[i],  y_train_tr[i].item()  )  for i in range( X_train.shape[0] ) ]\n",
    "\n",
    "iris_test_list  = [  ( X_test_tr[i],   y_test_tr[i].item()   )  for i in range( X_test.shape[0]  ) ]\n"
   ]
  },
  {
   "cell_type": "code",
   "execution_count": 48,
   "id": "5d0c4199",
   "metadata": {},
   "outputs": [],
   "source": [
    "\n",
    "## iris_test_list  \n",
    "\n",
    "batch_size = 16\n",
    "\n"
   ]
  },
  {
   "cell_type": "code",
   "execution_count": 49,
   "id": "ce18f101",
   "metadata": {},
   "outputs": [],
   "source": [
    "\n",
    "train_dl = torch.utils.data.DataLoader( iris_train_list, batch_size=batch_size, shuffle=True )\n"
   ]
  },
  {
   "cell_type": "code",
   "execution_count": 50,
   "id": "057d757c",
   "metadata": {},
   "outputs": [
    {
     "data": {
      "text/plain": [
       "<torch.utils.data.dataloader.DataLoader at 0x1b2eab9fd08>"
      ]
     },
     "execution_count": 50,
     "metadata": {},
     "output_type": "execute_result"
    }
   ],
   "source": [
    "\n",
    "train_dl\n"
   ]
  },
  {
   "cell_type": "code",
   "execution_count": 51,
   "id": "5c292118",
   "metadata": {},
   "outputs": [],
   "source": [
    "\n",
    "all_test_data = X_test.shape[0]\n",
    "\n",
    "test_dl  = torch.utils.data.DataLoader(iris_test_list,  batch_size=all_test_data, shuffle=True)\n"
   ]
  },
  {
   "cell_type": "code",
   "execution_count": 52,
   "id": "4bb27847",
   "metadata": {},
   "outputs": [],
   "source": [
    "\n",
    "## MLP\n",
    "\n",
    "class MLP_Net(nn.Module):\n",
    "    ## init the class\n",
    "    def __init__(self):\n",
    "        super().__init__()\n",
    "    \n",
    "        self.linear1 = nn.Linear(4, 5)\n",
    "        \n",
    "        self.act1    = nn.Sigmoid()\n",
    "        self.linear2 = nn.Linear(5, 3)\n",
    "        self.act2    = nn.Softmax(dim=1)\n",
    "\n",
    "        \n",
    "        \n",
    "    ## perform inference\n",
    "    def forward(self, x):\n",
    "        \n",
    "\n",
    "        x      = self.linear1(x)\n",
    "        x      = self.act1(x)\n",
    "        x      = self.linear2(x)\n",
    "        y_pred = self.act2(x)\n",
    "        \n",
    "        return y_pred\n",
    "        \n"
   ]
  },
  {
   "cell_type": "code",
   "execution_count": 53,
   "id": "aba266ab",
   "metadata": {},
   "outputs": [],
   "source": [
    "\n",
    "## Deep Learning with 2 hidden layers\n",
    "\n",
    "class DL_Net(nn.Module):\n",
    "    \n",
    "    def __init__(self):\n",
    "        super().__init__()\n",
    "        \n",
    "\n",
    "        \n",
    "        self.linear1 = nn.Linear(4, 15)\n",
    "        self.act1    = nn.ReLU()\n",
    "        self.linear2 = nn.Linear(15, 9)\n",
    "        self.act2    = nn.ReLU()\n",
    "        self.linear3 = nn.Linear(9, 3)\n",
    "        self.act3    = nn.Softmax(dim=1)\n",
    "  \n",
    "        \n",
    "    ## perform inference\n",
    "    def forward(self, x):\n",
    "        \n",
    "  \n",
    "        x      = self.linear1(x)\n",
    "        x      = self.act1(x)\n",
    "        x      = self.linear2(x)\n",
    "        x      = self.act2(x)\n",
    "\n",
    "        x      = self.linear3(x)\n",
    "        y_pred = self.act3(x)\n",
    "        \n",
    "        return y_pred\n"
   ]
  },
  {
   "cell_type": "markdown",
   "id": "68f68dd8",
   "metadata": {},
   "source": [
    "\n",
    "## Training Loop\n"
   ]
  },
  {
   "cell_type": "code",
   "execution_count": 54,
   "id": "013e847c",
   "metadata": {},
   "outputs": [],
   "source": [
    "\n",
    "def training_loop( N_Epochs, model, loss_fn, opt  ):\n",
    "    \n",
    "    for epoch in range(N_Epochs):\n",
    "        for xb, yb in train_dl:\n",
    "            \n",
    "            ## yb = torch.squeeze(yb, dim=1)\n",
    "            \n",
    "            y_pred = model(xb)\n",
    "            ## print(    yb.shape   )\n",
    "            ## print( y_pred.shape  )\n",
    "            loss   = loss_fn(y_pred, yb)\n",
    "            \n",
    "            opt.zero_grad()\n",
    "            loss.backward()\n",
    "            opt.step()\n",
    "            \n",
    "        if epoch % 50 == 0:\n",
    "            print(epoch, \"loss=\", loss)\n",
    "            \n"
   ]
  },
  {
   "cell_type": "markdown",
   "id": "c560c143",
   "metadata": {},
   "source": [
    "\n",
    "## Core Functions for MLP\n"
   ]
  },
  {
   "cell_type": "code",
   "execution_count": 58,
   "id": "3e4b897c",
   "metadata": {},
   "outputs": [
    {
     "name": "stdout",
     "output_type": "stream",
     "text": [
      "0 loss= tensor(1.0910, grad_fn=<NllLossBackward0>)\n",
      "50 loss= tensor(0.7686, grad_fn=<NllLossBackward0>)\n",
      "100 loss= tensor(0.6812, grad_fn=<NllLossBackward0>)\n",
      "150 loss= tensor(0.6437, grad_fn=<NllLossBackward0>)\n",
      "200 loss= tensor(0.6407, grad_fn=<NllLossBackward0>)\n",
      "250 loss= tensor(0.5878, grad_fn=<NllLossBackward0>)\n",
      "300 loss= tensor(0.5679, grad_fn=<NllLossBackward0>)\n",
      "350 loss= tensor(0.5759, grad_fn=<NllLossBackward0>)\n",
      "400 loss= tensor(0.6022, grad_fn=<NllLossBackward0>)\n",
      "450 loss= tensor(0.5720, grad_fn=<NllLossBackward0>)\n",
      "500 loss= tensor(0.5663, grad_fn=<NllLossBackward0>)\n",
      "550 loss= tensor(0.5909, grad_fn=<NllLossBackward0>)\n",
      "600 loss= tensor(0.5593, grad_fn=<NllLossBackward0>)\n",
      "650 loss= tensor(0.6303, grad_fn=<NllLossBackward0>)\n",
      "700 loss= tensor(0.5536, grad_fn=<NllLossBackward0>)\n",
      "750 loss= tensor(0.5569, grad_fn=<NllLossBackward0>)\n",
      "800 loss= tensor(0.5682, grad_fn=<NllLossBackward0>)\n",
      "850 loss= tensor(0.5736, grad_fn=<NllLossBackward0>)\n",
      "900 loss= tensor(0.5527, grad_fn=<NllLossBackward0>)\n",
      "950 loss= tensor(0.5606, grad_fn=<NllLossBackward0>)\n",
      "1000 loss= tensor(0.5585, grad_fn=<NllLossBackward0>)\n",
      "1050 loss= tensor(0.5710, grad_fn=<NllLossBackward0>)\n",
      "1100 loss= tensor(0.5520, grad_fn=<NllLossBackward0>)\n",
      "1150 loss= tensor(0.5518, grad_fn=<NllLossBackward0>)\n",
      "1200 loss= tensor(0.5518, grad_fn=<NllLossBackward0>)\n",
      "1250 loss= tensor(0.5586, grad_fn=<NllLossBackward0>)\n",
      "1300 loss= tensor(0.5642, grad_fn=<NllLossBackward0>)\n",
      "1350 loss= tensor(0.5517, grad_fn=<NllLossBackward0>)\n",
      "1400 loss= tensor(0.5516, grad_fn=<NllLossBackward0>)\n",
      "1450 loss= tensor(0.5518, grad_fn=<NllLossBackward0>)\n",
      "1500 loss= tensor(0.5516, grad_fn=<NllLossBackward0>)\n",
      "1550 loss= tensor(0.5522, grad_fn=<NllLossBackward0>)\n",
      "1600 loss= tensor(0.5516, grad_fn=<NllLossBackward0>)\n",
      "1650 loss= tensor(0.5530, grad_fn=<NllLossBackward0>)\n",
      "1700 loss= tensor(0.5515, grad_fn=<NllLossBackward0>)\n",
      "1750 loss= tensor(0.5534, grad_fn=<NllLossBackward0>)\n",
      "1800 loss= tensor(0.5529, grad_fn=<NllLossBackward0>)\n",
      "1850 loss= tensor(0.6661, grad_fn=<NllLossBackward0>)\n",
      "1900 loss= tensor(0.6654, grad_fn=<NllLossBackward0>)\n",
      "1950 loss= tensor(0.5627, grad_fn=<NllLossBackward0>)\n",
      "2000 loss= tensor(0.5515, grad_fn=<NllLossBackward0>)\n",
      "2050 loss= tensor(0.5515, grad_fn=<NllLossBackward0>)\n",
      "2100 loss= tensor(0.5567, grad_fn=<NllLossBackward0>)\n",
      "2150 loss= tensor(0.5593, grad_fn=<NllLossBackward0>)\n",
      "2200 loss= tensor(0.5998, grad_fn=<NllLossBackward0>)\n",
      "2250 loss= tensor(0.5515, grad_fn=<NllLossBackward0>)\n",
      "2300 loss= tensor(0.5515, grad_fn=<NllLossBackward0>)\n",
      "2350 loss= tensor(0.5529, grad_fn=<NllLossBackward0>)\n",
      "2400 loss= tensor(0.5545, grad_fn=<NllLossBackward0>)\n",
      "2450 loss= tensor(0.6695, grad_fn=<NllLossBackward0>)\n",
      "2500 loss= tensor(0.5535, grad_fn=<NllLossBackward0>)\n",
      "2550 loss= tensor(0.5517, grad_fn=<NllLossBackward0>)\n",
      "2600 loss= tensor(0.6006, grad_fn=<NllLossBackward0>)\n",
      "2650 loss= tensor(0.5752, grad_fn=<NllLossBackward0>)\n",
      "2700 loss= tensor(0.5523, grad_fn=<NllLossBackward0>)\n",
      "2750 loss= tensor(0.5514, grad_fn=<NllLossBackward0>)\n",
      "2800 loss= tensor(0.6691, grad_fn=<NllLossBackward0>)\n",
      "2850 loss= tensor(0.5515, grad_fn=<NllLossBackward0>)\n",
      "2900 loss= tensor(0.5798, grad_fn=<NllLossBackward0>)\n",
      "2950 loss= tensor(0.5514, grad_fn=<NllLossBackward0>)\n",
      "3000 loss= tensor(0.5514, grad_fn=<NllLossBackward0>)\n",
      "3050 loss= tensor(0.5537, grad_fn=<NllLossBackward0>)\n",
      "3100 loss= tensor(0.5553, grad_fn=<NllLossBackward0>)\n",
      "3150 loss= tensor(0.5514, grad_fn=<NllLossBackward0>)\n",
      "3200 loss= tensor(0.5515, grad_fn=<NllLossBackward0>)\n",
      "3250 loss= tensor(0.5514, grad_fn=<NllLossBackward0>)\n",
      "3300 loss= tensor(0.5519, grad_fn=<NllLossBackward0>)\n",
      "3350 loss= tensor(0.5514, grad_fn=<NllLossBackward0>)\n",
      "3400 loss= tensor(0.5517, grad_fn=<NllLossBackward0>)\n",
      "3450 loss= tensor(0.5852, grad_fn=<NllLossBackward0>)\n",
      "3500 loss= tensor(0.5517, grad_fn=<NllLossBackward0>)\n",
      "3550 loss= tensor(0.5514, grad_fn=<NllLossBackward0>)\n",
      "3600 loss= tensor(0.5514, grad_fn=<NllLossBackward0>)\n",
      "3650 loss= tensor(0.5514, grad_fn=<NllLossBackward0>)\n",
      "3700 loss= tensor(0.5514, grad_fn=<NllLossBackward0>)\n",
      "3750 loss= tensor(0.5514, grad_fn=<NllLossBackward0>)\n",
      "3800 loss= tensor(0.5662, grad_fn=<NllLossBackward0>)\n",
      "3850 loss= tensor(0.5517, grad_fn=<NllLossBackward0>)\n",
      "3900 loss= tensor(0.5516, grad_fn=<NllLossBackward0>)\n",
      "3950 loss= tensor(0.5542, grad_fn=<NllLossBackward0>)\n"
     ]
    }
   ],
   "source": [
    "\n",
    "model      = MLP_Net()\n",
    "## model      = DL_Net(  )\n",
    "\n",
    "opt        = torch.optim.Adam(    model.parameters(), lr=learning_rate )\n",
    "\n",
    "## the y_test data can be integers and does not need to be one hot encoded with this function\n",
    "loss_fn    = nn.CrossEntropyLoss( )   \n",
    "\n",
    "training_loop(  N_Epochs, model, loss_fn, opt  )\n"
   ]
  },
  {
   "cell_type": "code",
   "execution_count": 59,
   "id": "da4f259a",
   "metadata": {},
   "outputs": [],
   "source": [
    "\n",
    "def print_metrics_function(y_test, y_pred):\n",
    "    print('Accuracy: %.2f' % accuracy_score(y_test, y_pred))\n",
    "    confmat = confusion_matrix(y_true=y_test, y_pred=y_pred)\n",
    "    print(\"Confusion Matrix:\")\n",
    "    print(confmat)\n",
    "    print('Precision: %.3f' % precision_score(y_true=y_test, y_pred=y_pred, average='weighted'))\n",
    "    print('Recall: %.3f' % recall_score(y_true=y_test, y_pred=y_pred, average='weighted'))\n",
    "    print('F1-measure: %.3f' % f1_score(y_true=y_test, y_pred=y_pred, average='weighted'))\n"
   ]
  },
  {
   "cell_type": "code",
   "execution_count": 62,
   "id": "280a27c8",
   "metadata": {},
   "outputs": [
    {
     "name": "stdout",
     "output_type": "stream",
     "text": [
      "Accuracy: 0.93\n",
      "Confusion Matrix:\n",
      "[[ 7  0  0]\n",
      " [ 0 10  2]\n",
      " [ 0  0 11]]\n",
      "Precision: 0.944\n",
      "Recall: 0.933\n",
      "F1-measure: 0.933\n"
     ]
    }
   ],
   "source": [
    "\n",
    "with torch.no_grad():\n",
    "    for x_real, y_real in test_dl:\n",
    "        ## batch_size = imgs.shape[0]\n",
    "        y_pred = model(  x_real  )\n",
    "        vals, indeces = torch.max( y_pred, dim=1  )\n",
    "        preds = indeces\n",
    "        print_metrics_function(y_real, preds)\n",
    "   \n"
   ]
  },
  {
   "cell_type": "markdown",
   "id": "72436ab2",
   "metadata": {},
   "source": [
    "\n",
    "## Core Functions for Deep Learning\n"
   ]
  },
  {
   "cell_type": "code",
   "execution_count": 64,
   "id": "53129ac0",
   "metadata": {},
   "outputs": [
    {
     "name": "stdout",
     "output_type": "stream",
     "text": [
      "0 loss= tensor(1.1372, grad_fn=<NllLossBackward0>)\n",
      "50 loss= tensor(0.5595, grad_fn=<NllLossBackward0>)\n",
      "100 loss= tensor(0.5817, grad_fn=<NllLossBackward0>)\n",
      "150 loss= tensor(0.5516, grad_fn=<NllLossBackward0>)\n",
      "200 loss= tensor(0.5516, grad_fn=<NllLossBackward0>)\n",
      "250 loss= tensor(0.5522, grad_fn=<NllLossBackward0>)\n",
      "300 loss= tensor(0.5838, grad_fn=<NllLossBackward0>)\n",
      "350 loss= tensor(0.5528, grad_fn=<NllLossBackward0>)\n",
      "400 loss= tensor(0.5524, grad_fn=<NllLossBackward0>)\n",
      "450 loss= tensor(0.5517, grad_fn=<NllLossBackward0>)\n",
      "500 loss= tensor(0.5931, grad_fn=<NllLossBackward0>)\n",
      "550 loss= tensor(0.5638, grad_fn=<NllLossBackward0>)\n",
      "600 loss= tensor(0.5529, grad_fn=<NllLossBackward0>)\n",
      "650 loss= tensor(0.5516, grad_fn=<NllLossBackward0>)\n",
      "700 loss= tensor(0.5515, grad_fn=<NllLossBackward0>)\n",
      "750 loss= tensor(0.5525, grad_fn=<NllLossBackward0>)\n",
      "800 loss= tensor(0.5675, grad_fn=<NllLossBackward0>)\n",
      "850 loss= tensor(0.5515, grad_fn=<NllLossBackward0>)\n",
      "900 loss= tensor(0.6047, grad_fn=<NllLossBackward0>)\n",
      "950 loss= tensor(0.5931, grad_fn=<NllLossBackward0>)\n",
      "1000 loss= tensor(0.5617, grad_fn=<NllLossBackward0>)\n",
      "1050 loss= tensor(0.5515, grad_fn=<NllLossBackward0>)\n",
      "1100 loss= tensor(0.5778, grad_fn=<NllLossBackward0>)\n",
      "1150 loss= tensor(0.5515, grad_fn=<NllLossBackward0>)\n",
      "1200 loss= tensor(0.5540, grad_fn=<NllLossBackward0>)\n",
      "1250 loss= tensor(0.5563, grad_fn=<NllLossBackward0>)\n",
      "1300 loss= tensor(0.5515, grad_fn=<NllLossBackward0>)\n",
      "1350 loss= tensor(0.5515, grad_fn=<NllLossBackward0>)\n",
      "1400 loss= tensor(0.6764, grad_fn=<NllLossBackward0>)\n",
      "1450 loss= tensor(0.5514, grad_fn=<NllLossBackward0>)\n",
      "1500 loss= tensor(0.5515, grad_fn=<NllLossBackward0>)\n",
      "1550 loss= tensor(0.5514, grad_fn=<NllLossBackward0>)\n",
      "1600 loss= tensor(0.5541, grad_fn=<NllLossBackward0>)\n",
      "1650 loss= tensor(0.5515, grad_fn=<NllLossBackward0>)\n",
      "1700 loss= tensor(0.5514, grad_fn=<NllLossBackward0>)\n",
      "1750 loss= tensor(0.5514, grad_fn=<NllLossBackward0>)\n",
      "1800 loss= tensor(0.5514, grad_fn=<NllLossBackward0>)\n",
      "1850 loss= tensor(0.5514, grad_fn=<NllLossBackward0>)\n",
      "1900 loss= tensor(0.5514, grad_fn=<NllLossBackward0>)\n",
      "1950 loss= tensor(0.5515, grad_fn=<NllLossBackward0>)\n",
      "2000 loss= tensor(0.5514, grad_fn=<NllLossBackward0>)\n",
      "2050 loss= tensor(0.5542, grad_fn=<NllLossBackward0>)\n",
      "2100 loss= tensor(0.5515, grad_fn=<NllLossBackward0>)\n",
      "2150 loss= tensor(0.5515, grad_fn=<NllLossBackward0>)\n",
      "2200 loss= tensor(0.5514, grad_fn=<NllLossBackward0>)\n",
      "2250 loss= tensor(0.6763, grad_fn=<NllLossBackward0>)\n",
      "2300 loss= tensor(0.5514, grad_fn=<NllLossBackward0>)\n",
      "2350 loss= tensor(0.5514, grad_fn=<NllLossBackward0>)\n",
      "2400 loss= tensor(0.5514, grad_fn=<NllLossBackward0>)\n",
      "2450 loss= tensor(0.6764, grad_fn=<NllLossBackward0>)\n",
      "2500 loss= tensor(0.5515, grad_fn=<NllLossBackward0>)\n",
      "2550 loss= tensor(0.5514, grad_fn=<NllLossBackward0>)\n",
      "2600 loss= tensor(0.5514, grad_fn=<NllLossBackward0>)\n",
      "2650 loss= tensor(0.5514, grad_fn=<NllLossBackward0>)\n",
      "2700 loss= tensor(0.5514, grad_fn=<NllLossBackward0>)\n",
      "2750 loss= tensor(0.5514, grad_fn=<NllLossBackward0>)\n",
      "2800 loss= tensor(0.5514, grad_fn=<NllLossBackward0>)\n",
      "2850 loss= tensor(0.5514, grad_fn=<NllLossBackward0>)\n",
      "2900 loss= tensor(0.6767, grad_fn=<NllLossBackward0>)\n",
      "2950 loss= tensor(0.5771, grad_fn=<NllLossBackward0>)\n",
      "3000 loss= tensor(0.6764, grad_fn=<NllLossBackward0>)\n",
      "3050 loss= tensor(0.5514, grad_fn=<NllLossBackward0>)\n",
      "3100 loss= tensor(0.5514, grad_fn=<NllLossBackward0>)\n",
      "3150 loss= tensor(0.5514, grad_fn=<NllLossBackward0>)\n",
      "3200 loss= tensor(0.5514, grad_fn=<NllLossBackward0>)\n",
      "3250 loss= tensor(0.6176, grad_fn=<NllLossBackward0>)\n",
      "3300 loss= tensor(0.5514, grad_fn=<NllLossBackward0>)\n",
      "3350 loss= tensor(0.5515, grad_fn=<NllLossBackward0>)\n",
      "3400 loss= tensor(0.5528, grad_fn=<NllLossBackward0>)\n",
      "3450 loss= tensor(0.5514, grad_fn=<NllLossBackward0>)\n",
      "3500 loss= tensor(0.5515, grad_fn=<NllLossBackward0>)\n",
      "3550 loss= tensor(0.5514, grad_fn=<NllLossBackward0>)\n",
      "3600 loss= tensor(0.6763, grad_fn=<NllLossBackward0>)\n",
      "3650 loss= tensor(0.5514, grad_fn=<NllLossBackward0>)\n",
      "3700 loss= tensor(0.5514, grad_fn=<NllLossBackward0>)\n",
      "3750 loss= tensor(0.5514, grad_fn=<NllLossBackward0>)\n",
      "3800 loss= tensor(0.6764, grad_fn=<NllLossBackward0>)\n",
      "3850 loss= tensor(0.5514, grad_fn=<NllLossBackward0>)\n",
      "3900 loss= tensor(0.5514, grad_fn=<NllLossBackward0>)\n",
      "3950 loss= tensor(0.5514, grad_fn=<NllLossBackward0>)\n"
     ]
    }
   ],
   "source": [
    "\n",
    "model      = DL_Net(  )\n",
    "\n",
    "opt        = torch.optim.Adam(    model.parameters(), lr=learning_rate )\n",
    "\n",
    "## the y_test data can be integers and does not need to be one hot encoded with this function\n",
    "loss_fn    = nn.CrossEntropyLoss( )   \n",
    "\n",
    "training_loop(  N_Epochs, model, loss_fn, opt  )\n"
   ]
  },
  {
   "cell_type": "code",
   "execution_count": 65,
   "id": "75ad9685",
   "metadata": {},
   "outputs": [
    {
     "name": "stdout",
     "output_type": "stream",
     "text": [
      "Accuracy: 0.97\n",
      "Confusion Matrix:\n",
      "[[ 7  0  0]\n",
      " [ 0 12  0]\n",
      " [ 0  1 10]]\n",
      "Precision: 0.969\n",
      "Recall: 0.967\n",
      "F1-measure: 0.967\n"
     ]
    }
   ],
   "source": [
    "\n",
    "with torch.no_grad():\n",
    "    for x_real, y_real in test_dl:\n",
    "        ## batch_size = imgs.shape[0]\n",
    "        y_pred = model(  x_real  )\n",
    "        vals, indeces = torch.max( y_pred, dim=1  )\n",
    "        preds = indeces\n",
    "        print_metrics_function(y_real, preds)\n",
    "   \n"
   ]
  },
  {
   "cell_type": "code",
   "execution_count": null,
   "id": "08f706c1",
   "metadata": {},
   "outputs": [],
   "source": [
    "\n",
    "\n"
   ]
  },
  {
   "cell_type": "code",
   "execution_count": null,
   "id": "eb159507",
   "metadata": {},
   "outputs": [],
   "source": []
  },
  {
   "cell_type": "code",
   "execution_count": null,
   "id": "b27b7a84",
   "metadata": {},
   "outputs": [],
   "source": []
  },
  {
   "cell_type": "code",
   "execution_count": null,
   "id": "b126b79a",
   "metadata": {},
   "outputs": [],
   "source": []
  },
  {
   "cell_type": "code",
   "execution_count": null,
   "id": "11c2cc9e",
   "metadata": {},
   "outputs": [],
   "source": []
  },
  {
   "cell_type": "code",
   "execution_count": null,
   "id": "bb40c273",
   "metadata": {},
   "outputs": [],
   "source": []
  },
  {
   "cell_type": "code",
   "execution_count": null,
   "id": "8fc6a73c",
   "metadata": {},
   "outputs": [],
   "source": []
  },
  {
   "cell_type": "code",
   "execution_count": null,
   "id": "9999523f",
   "metadata": {},
   "outputs": [],
   "source": []
  },
  {
   "cell_type": "code",
   "execution_count": null,
   "id": "2d77afb1",
   "metadata": {},
   "outputs": [],
   "source": []
  },
  {
   "cell_type": "code",
   "execution_count": null,
   "id": "e0c245d0",
   "metadata": {},
   "outputs": [],
   "source": []
  },
  {
   "cell_type": "code",
   "execution_count": null,
   "id": "77ac2a04",
   "metadata": {},
   "outputs": [],
   "source": []
  },
  {
   "cell_type": "code",
   "execution_count": null,
   "id": "569a7e45",
   "metadata": {},
   "outputs": [],
   "source": []
  },
  {
   "cell_type": "code",
   "execution_count": null,
   "id": "263b8968",
   "metadata": {},
   "outputs": [],
   "source": []
  },
  {
   "cell_type": "code",
   "execution_count": null,
   "id": "af1e40e7",
   "metadata": {},
   "outputs": [],
   "source": []
  }
 ],
 "metadata": {
  "kernelspec": {
   "display_name": "Python 3 (ipykernel)",
   "language": "python",
   "name": "python3"
  },
  "language_info": {
   "codemirror_mode": {
    "name": "ipython",
    "version": 3
   },
   "file_extension": ".py",
   "mimetype": "text/x-python",
   "name": "python",
   "nbconvert_exporter": "python",
   "pygments_lexer": "ipython3",
   "version": "3.7.16"
  }
 },
 "nbformat": 4,
 "nbformat_minor": 5
}
