{
 "cells": [
  {
   "cell_type": "markdown",
   "id": "cac52523",
   "metadata": {},
   "source": [
    "\n",
    "## Anomaly detection with Hopfield Networks\n"
   ]
  },
  {
   "cell_type": "code",
   "execution_count": 1,
   "id": "98247b20",
   "metadata": {},
   "outputs": [],
   "source": [
    "\n",
    "import torch\n",
    "import numpy as np\n"
   ]
  },
  {
   "cell_type": "code",
   "execution_count": 2,
   "id": "155af1c9",
   "metadata": {},
   "outputs": [],
   "source": [
    "\n",
    "class HopfieldNet:\n",
    "    \n",
    "    def __init__(self, size):\n",
    "        self.size    = size\n",
    "        self.weights = np.zeros( (size, size) )\n",
    "    \n",
    "    def train(self, patterns):\n",
    "        \n",
    "        for p in patterns:\n",
    "            ## self.weights += np.outer(p, p)\n",
    "            self.weights = self.weights + np.outer(p, p)\n",
    "            \n",
    "        np.fill_diagonal( self.weights, 0 )     # No self-connections\n",
    "        ## self.weights /= len(patterns)\n",
    "        self.weights = self.weights / len(patterns)\n",
    "    \n",
    "    def reconstruct(self, pattern, steps=10):\n",
    "        \n",
    "        for _ in range(steps):\n",
    "            pattern = np.sign(   np.dot(  self.weights, pattern)   )\n",
    "            \n",
    "        return pattern\n"
   ]
  },
  {
   "cell_type": "code",
   "execution_count": 3,
   "id": "939d85f5",
   "metadata": {},
   "outputs": [],
   "source": [
    "\n",
    "data = np.array(\n",
    "    [\n",
    "    [1, 1, 1, -1, 1, 1],  # Sample 1 (normal)\n",
    "    [1, 1, -1, 1, 1, 1],  # Sample 2 (normal)\n",
    "    [1, 1, 1, -1, 1, 1],  # Sample 3 (normal)\n",
    "    [1, 1, 1, -1, 1, 1],  # Sample 4 (normal)\n",
    "    ]\n",
    ")\n"
   ]
  },
  {
   "cell_type": "code",
   "execution_count": 4,
   "id": "9ebf13f9",
   "metadata": {},
   "outputs": [
    {
     "name": "stdout",
     "output_type": "stream",
     "text": [
      "(4, 6)\n"
     ]
    },
    {
     "data": {
      "text/plain": [
       "array([[ 1,  1,  1, -1,  1,  1],\n",
       "       [ 1,  1, -1,  1,  1,  1],\n",
       "       [ 1,  1,  1, -1,  1,  1],\n",
       "       [ 1,  1,  1, -1,  1,  1]])"
      ]
     },
     "execution_count": 4,
     "metadata": {},
     "output_type": "execute_result"
    }
   ],
   "source": [
    "\n",
    "print( data.shape )\n",
    "\n",
    "data\n"
   ]
  },
  {
   "cell_type": "code",
   "execution_count": 5,
   "id": "0b7f662a",
   "metadata": {},
   "outputs": [
    {
     "data": {
      "text/plain": [
       "array([[0., 0., 0., 0., 0., 0.],\n",
       "       [0., 0., 0., 0., 0., 0.],\n",
       "       [0., 0., 0., 0., 0., 0.],\n",
       "       [0., 0., 0., 0., 0., 0.],\n",
       "       [0., 0., 0., 0., 0., 0.],\n",
       "       [0., 0., 0., 0., 0., 0.]])"
      ]
     },
     "execution_count": 5,
     "metadata": {},
     "output_type": "execute_result"
    }
   ],
   "source": [
    "\n",
    "hopfield = HopfieldNet( size=6 )\n",
    "\n",
    "hopfield.weights\n"
   ]
  },
  {
   "cell_type": "code",
   "execution_count": 6,
   "id": "a6c41b8c",
   "metadata": {},
   "outputs": [],
   "source": [
    "\n",
    "hopfield.train( data )\n"
   ]
  },
  {
   "cell_type": "code",
   "execution_count": 7,
   "id": "e98eadd0",
   "metadata": {},
   "outputs": [],
   "source": [
    "\n",
    "def hamming_distance(a, b):\n",
    "    \"\"\"\n",
    "    Calculate the Hamming distance between two strings.\n",
    "    \"\"\"\n",
    "\n",
    "    ## arr1 = np.array(list(str1), dtype=int)\n",
    "    \n",
    "    # XOR to find differing bits, then count the number of 1s\n",
    "    return np.count_nonzero(a != b)\n"
   ]
  },
  {
   "cell_type": "markdown",
   "id": "e7a7fd75",
   "metadata": {},
   "source": [
    "\n",
    "## Normal sample\n"
   ]
  },
  {
   "cell_type": "code",
   "execution_count": 8,
   "id": "a058cc1a",
   "metadata": {},
   "outputs": [
    {
     "name": "stdout",
     "output_type": "stream",
     "text": [
      "Test sample:      [1, 1, 1, -1, 1, 1]\n",
      "Recalled sample:  [ 1.  1.  1. -1.  1.  1.]\n"
     ]
    }
   ],
   "source": [
    "\n",
    "# Test \n",
    "\n",
    "test_sample     = [1,  1, 1, -1, 1, 1]\n",
    "\n",
    "recalled_sample = hopfield.reconstruct(test_sample)\n",
    "\n",
    "print(\"Test sample:     \",         test_sample)\n",
    "print(\"Recalled sample: \", recalled_sample)\n",
    "\n"
   ]
  },
  {
   "cell_type": "code",
   "execution_count": 9,
   "id": "d5a9348f",
   "metadata": {},
   "outputs": [
    {
     "data": {
      "text/plain": [
       "0"
      ]
     },
     "execution_count": 9,
     "metadata": {},
     "output_type": "execute_result"
    }
   ],
   "source": [
    "\n",
    "test_sample_tr     = torch.from_numpy( np.array( test_sample  )   )\n",
    "recalled_sample_tr = torch.from_numpy( recalled_sample )\n",
    "\n",
    "\n",
    "distance = hamming_distance(test_sample_tr, recalled_sample_tr)\n",
    "distance\n",
    "\n"
   ]
  },
  {
   "cell_type": "markdown",
   "id": "9ed4d5f3",
   "metadata": {},
   "source": [
    "\n",
    "## Abnormal sample\n"
   ]
  },
  {
   "cell_type": "code",
   "execution_count": 10,
   "id": "8a236ed2",
   "metadata": {},
   "outputs": [
    {
     "name": "stdout",
     "output_type": "stream",
     "text": [
      "Test sample:      [-1, -1, 1, -1, -1, -1]\n",
      "Recalled sample:  [-1. -1. -1.  1. -1. -1.]\n"
     ]
    }
   ],
   "source": [
    "\n",
    "# Test \n",
    "\n",
    "test_sample     = [-1, -1, 1, -1, -1, -1]\n",
    "\n",
    "recalled_sample = hopfield.reconstruct(test_sample)\n",
    "\n",
    "print(\"Test sample:     \",         test_sample)\n",
    "print(\"Recalled sample: \", recalled_sample)\n",
    "\n",
    "\n"
   ]
  },
  {
   "cell_type": "code",
   "execution_count": 11,
   "id": "9a9a015f",
   "metadata": {},
   "outputs": [
    {
     "data": {
      "text/plain": [
       "2"
      ]
     },
     "execution_count": 11,
     "metadata": {},
     "output_type": "execute_result"
    }
   ],
   "source": [
    "\n",
    "test_sample_tr     = torch.from_numpy( np.array( test_sample  )   )\n",
    "recalled_sample_tr = torch.from_numpy( recalled_sample )\n",
    "\n",
    "distance = hamming_distance(test_sample_tr, recalled_sample_tr)\n",
    "distance\n"
   ]
  },
  {
   "cell_type": "markdown",
   "id": "e3ec3c65",
   "metadata": {},
   "source": [
    "\n",
    "## Breaking down the operations\n"
   ]
  },
  {
   "cell_type": "code",
   "execution_count": 12,
   "id": "920efe71",
   "metadata": {},
   "outputs": [
    {
     "name": "stdout",
     "output_type": "stream",
     "text": [
      "[ 1  1  1 -1  1  1]\n",
      "[[ 1  1  1 -1  1  1]\n",
      " [ 1  1  1 -1  1  1]\n",
      " [ 1  1  1 -1  1  1]\n",
      " [-1 -1 -1  1 -1 -1]\n",
      " [ 1  1  1 -1  1  1]\n",
      " [ 1  1  1 -1  1  1]]\n",
      "[[ 1.  1.  1. -1.  1.  1.]\n",
      " [ 1.  1.  1. -1.  1.  1.]\n",
      " [ 1.  1.  1. -1.  1.  1.]\n",
      " [-1. -1. -1.  1. -1. -1.]\n",
      " [ 1.  1.  1. -1.  1.  1.]\n",
      " [ 1.  1.  1. -1.  1.  1.]]\n",
      "[ 1  1 -1  1  1  1]\n",
      "[[ 1  1 -1  1  1  1]\n",
      " [ 1  1 -1  1  1  1]\n",
      " [-1 -1  1 -1 -1 -1]\n",
      " [ 1  1 -1  1  1  1]\n",
      " [ 1  1 -1  1  1  1]\n",
      " [ 1  1 -1  1  1  1]]\n",
      "[[ 2.  2.  0.  0.  2.  2.]\n",
      " [ 2.  2.  0.  0.  2.  2.]\n",
      " [ 0.  0.  2. -2.  0.  0.]\n",
      " [ 0.  0. -2.  2.  0.  0.]\n",
      " [ 2.  2.  0.  0.  2.  2.]\n",
      " [ 2.  2.  0.  0.  2.  2.]]\n",
      "[ 1  1  1 -1  1  1]\n",
      "[[ 1  1  1 -1  1  1]\n",
      " [ 1  1  1 -1  1  1]\n",
      " [ 1  1  1 -1  1  1]\n",
      " [-1 -1 -1  1 -1 -1]\n",
      " [ 1  1  1 -1  1  1]\n",
      " [ 1  1  1 -1  1  1]]\n",
      "[[ 3.  3.  1. -1.  3.  3.]\n",
      " [ 3.  3.  1. -1.  3.  3.]\n",
      " [ 1.  1.  3. -3.  1.  1.]\n",
      " [-1. -1. -3.  3. -1. -1.]\n",
      " [ 3.  3.  1. -1.  3.  3.]\n",
      " [ 3.  3.  1. -1.  3.  3.]]\n",
      "[ 1  1  1 -1  1  1]\n",
      "[[ 1  1  1 -1  1  1]\n",
      " [ 1  1  1 -1  1  1]\n",
      " [ 1  1  1 -1  1  1]\n",
      " [-1 -1 -1  1 -1 -1]\n",
      " [ 1  1  1 -1  1  1]\n",
      " [ 1  1  1 -1  1  1]]\n",
      "[[ 4.  4.  2. -2.  4.  4.]\n",
      " [ 4.  4.  2. -2.  4.  4.]\n",
      " [ 2.  2.  4. -4.  2.  2.]\n",
      " [-2. -2. -4.  4. -2. -2.]\n",
      " [ 4.  4.  2. -2.  4.  4.]\n",
      " [ 4.  4.  2. -2.  4.  4.]]\n"
     ]
    }
   ],
   "source": [
    "\n",
    "size = 6\n",
    "weights = np.zeros( (size, size) )\n",
    "\n",
    "for p in data:\n",
    "    print( p )\n",
    "    print( np.outer(p, p) )\n",
    "    weights = weights + np.outer(p, p)\n",
    "    print( weights ) \n",
    "            \n",
    "    \n"
   ]
  },
  {
   "cell_type": "code",
   "execution_count": 13,
   "id": "0f3eab67",
   "metadata": {},
   "outputs": [
    {
     "data": {
      "text/plain": [
       "array([[ 0.,  4.,  2., -2.,  4.,  4.],\n",
       "       [ 4.,  0.,  2., -2.,  4.,  4.],\n",
       "       [ 2.,  2.,  0., -4.,  2.,  2.],\n",
       "       [-2., -2., -4.,  0., -2., -2.],\n",
       "       [ 4.,  4.,  2., -2.,  0.,  4.],\n",
       "       [ 4.,  4.,  2., -2.,  4.,  0.]])"
      ]
     },
     "execution_count": 13,
     "metadata": {},
     "output_type": "execute_result"
    }
   ],
   "source": [
    "\n",
    "np.fill_diagonal( weights, 0 )     \n",
    "\n",
    "weights\n"
   ]
  },
  {
   "cell_type": "code",
   "execution_count": 14,
   "id": "d2f1fbed",
   "metadata": {},
   "outputs": [
    {
     "data": {
      "text/plain": [
       "array([[ 0. ,  1. ,  0.5, -0.5,  1. ,  1. ],\n",
       "       [ 1. ,  0. ,  0.5, -0.5,  1. ,  1. ],\n",
       "       [ 0.5,  0.5,  0. , -1. ,  0.5,  0.5],\n",
       "       [-0.5, -0.5, -1. ,  0. , -0.5, -0.5],\n",
       "       [ 1. ,  1. ,  0.5, -0.5,  0. ,  1. ],\n",
       "       [ 1. ,  1. ,  0.5, -0.5,  1. ,  0. ]])"
      ]
     },
     "execution_count": 14,
     "metadata": {},
     "output_type": "execute_result"
    }
   ],
   "source": [
    "\n",
    "## self.weights /= len(patterns)\n",
    "weights = weights / len(data)\n",
    "weights\n"
   ]
  },
  {
   "cell_type": "markdown",
   "id": "ccc2521a",
   "metadata": {},
   "source": [
    "\n",
    "## Example assumming samples of images size (10, 10)\n"
   ]
  },
  {
   "cell_type": "code",
   "execution_count": 55,
   "id": "d7f7313b",
   "metadata": {},
   "outputs": [
    {
     "data": {
      "text/plain": [
       "array([0, 0, 0, 0, 0, 0, 0, 0, 0, 0, 0, 0, 0, 0, 0, 0, 0, 0, 0, 0, 0, 0,\n",
       "       0, 0, 0, 0, 0, 0, 0, 0, 0, 0, 0, 0, 0, 0, 0, 0, 0, 0, 0, 0, 0, 0,\n",
       "       0, 0, 0, 0, 0, 0, 0, 0, 0, 0, 0, 0, 0, 0, 0, 0, 0, 0, 0, 0, 0, 0,\n",
       "       0, 0, 0, 0, 0, 0, 0, 0, 0, 0, 0, 0, 0, 0, 0, 0, 0, 0, 0, 0, 0, 0,\n",
       "       0, 0, 0, 0, 0, 0, 0, 0, 0, 0, 0, 0, 0, 0, 0, 0, 0, 0, 0, 0, 0, 0,\n",
       "       0, 0, 0, 0, 0, 0, 0, 0, 0, 0, 0, 0, 0, 0, 0, 0, 0, 0, 0, 0, 0, 0,\n",
       "       0, 0, 0, 0, 0, 0, 0, 0, 0, 0, 0, 0, 0, 0, 0, 0, 0, 0, 0, 0, 0, 0,\n",
       "       0, 0, 0, 0, 0, 0, 0, 0, 0, 0, 0, 0, 0, 0, 0, 0, 0, 0, 0, 0, 0, 0,\n",
       "       0, 0, 0, 0, 0, 0, 0, 0, 0, 0, 0, 0, 0, 0, 0, 0, 0, 0, 0, 0, 0, 0,\n",
       "       0, 0, 0, 0, 0, 0, 0, 0, 0, 0, 0, 0, 0, 0, 0, 0, 0, 0, 0, 0, 0, 0,\n",
       "       0, 0, 0, 0, 0, 0, 0, 0, 0, 0, 0, 0, 0, 0, 0, 0, 0, 0, 0, 0, 0, 0,\n",
       "       0, 0, 0, 0, 0, 0, 0, 0, 0, 0, 0, 0, 0, 0, 0, 0, 0, 0, 0, 0, 0, 0,\n",
       "       0, 0, 0, 0, 0, 0, 0, 0, 0, 0, 0, 0, 0, 0, 0, 0, 0, 0, 0, 0, 0, 0,\n",
       "       0, 0, 0, 0, 0, 0, 0, 0, 0, 0, 0, 0, 0, 0, 0, 0, 0, 0, 0, 0, 0, 0,\n",
       "       0, 0, 0, 0, 0, 0, 0, 0, 0, 0, 0, 0, 0, 0, 0, 0, 0, 0, 0, 0, 0, 0,\n",
       "       0, 0, 0, 0, 0, 0, 0, 0, 0, 0, 0, 0, 0, 0, 0, 0, 0, 0, 0, 0, 0, 0,\n",
       "       0, 0, 0, 0, 0, 0, 0, 0, 0, 0, 0, 0, 0, 0, 0, 0, 0, 0, 0, 0, 0, 0,\n",
       "       0, 0, 0, 0, 0, 0, 0, 0, 0, 0, 0, 0, 0, 0, 0, 0, 0, 0, 0, 0, 0, 0,\n",
       "       0, 0, 0, 0, 0, 0, 0, 0, 0, 0, 0, 0, 0, 0, 0, 0, 0, 0, 0, 0, 0, 0,\n",
       "       0, 0, 0, 0, 0, 0, 0, 0, 0, 0, 0, 0, 0, 0, 0, 0, 0, 0, 0, 0, 0, 0,\n",
       "       0, 0, 0, 0, 0, 0, 0, 0, 0, 0, 0, 0, 0, 0, 0, 0, 0, 0, 0, 0, 0, 0,\n",
       "       0, 0, 0, 0, 0, 0, 0, 0, 0, 0, 0, 0, 0, 0, 0, 0, 0, 0, 0, 0, 0, 0,\n",
       "       0, 0, 0, 0, 0, 0, 0, 0, 0, 0, 0, 0, 0, 0, 0, 0, 0, 0, 0, 0, 0, 0,\n",
       "       0, 0, 0, 0, 0, 0, 0, 0, 0, 0, 0, 0, 0, 0, 0, 0, 0, 0, 0, 0, 0, 0,\n",
       "       0, 0, 0, 0, 0, 0, 0, 0, 0, 0, 0, 0, 0, 0, 0, 0, 0, 0, 0, 0, 0, 0,\n",
       "       0, 0, 0, 0, 0, 0, 0, 0, 0, 0, 0, 0, 0, 0, 0, 0, 0, 0, 0, 0, 0, 0,\n",
       "       0, 0, 0, 0, 0, 0, 0, 0, 0, 0, 0, 0, 0, 0, 0, 0, 0, 0, 0, 0, 1, 1,\n",
       "       1, 1, 1, 1, 1, 1, 1, 1, 1, 1, 1, 1, 1, 1, 1, 1, 1, 1, 1, 1, 1, 1,\n",
       "       1, 1, 1, 1, 1, 1, 1, 1, 1, 1, 1, 1, 1, 1, 1, 1, 1, 1, 1, 1, 1, 1,\n",
       "       1, 1, 1, 1, 1, 1, 1, 1, 1, 1, 1, 1, 1, 1, 1, 1, 1, 1, 1, 1, 1, 1,\n",
       "       1, 1, 1, 1, 1, 1, 1, 1, 1, 1, 1, 1, 1, 1, 1, 1, 1, 1, 1, 1, 1, 1,\n",
       "       1, 1, 1, 1, 1, 1, 1, 1, 1, 1, 1, 1, 1, 1, 1, 1, 1, 1, 1, 1, 1, 1,\n",
       "       1, 1, 1, 1, 1, 1, 1, 1, 1, 1, 1, 1, 1, 1, 1, 1, 1, 1, 1, 1, 1, 1,\n",
       "       1, 1, 1, 1, 1, 1, 1, 1, 1, 1, 1, 1, 1, 1, 1, 1, 1, 1, 1, 1, 1, 1,\n",
       "       1, 1, 1, 1, 1, 1, 1, 1, 1, 1, 1, 1, 1, 1, 1, 1, 1, 1, 1, 1, 1, 1,\n",
       "       1, 1, 1, 1, 1, 1, 1, 1, 1, 1, 1, 1, 1, 1])"
      ]
     },
     "execution_count": 55,
     "metadata": {},
     "output_type": "execute_result"
    }
   ],
   "source": [
    "\n",
    "my_array = [0] * 592 + [1] * 192\n",
    "\n",
    "my_array = np.array( my_array )\n",
    "\n",
    "my_array\n"
   ]
  },
  {
   "cell_type": "code",
   "execution_count": 56,
   "id": "233588e3",
   "metadata": {},
   "outputs": [
    {
     "name": "stdout",
     "output_type": "stream",
     "text": [
      "(28, 28)\n"
     ]
    },
    {
     "data": {
      "text/plain": [
       "array([[1, 0, 0, 0, 0, 0, 1, 1, 0, 1, 0, 0, 0, 0, 1, 0, 0, 0, 0, 0, 0, 0,\n",
       "        0, 0, 1, 1, 0, 0],\n",
       "       [0, 1, 0, 0, 0, 1, 0, 0, 0, 0, 0, 0, 0, 1, 0, 1, 0, 0, 0, 1, 0, 0,\n",
       "        1, 0, 0, 1, 1, 0],\n",
       "       [0, 0, 0, 0, 0, 0, 0, 1, 1, 1, 0, 1, 0, 1, 0, 0, 0, 0, 0, 0, 0, 0,\n",
       "        1, 0, 0, 0, 0, 0],\n",
       "       [0, 0, 1, 0, 0, 0, 0, 0, 1, 0, 1, 0, 0, 0, 0, 0, 0, 0, 0, 1, 1, 0,\n",
       "        1, 1, 0, 0, 1, 0],\n",
       "       [0, 1, 0, 0, 0, 0, 0, 0, 0, 1, 1, 0, 0, 0, 0, 0, 1, 1, 1, 0, 0, 0,\n",
       "        0, 1, 1, 0, 0, 0],\n",
       "       [0, 0, 0, 0, 0, 1, 0, 1, 0, 0, 1, 0, 0, 0, 0, 1, 0, 1, 0, 0, 0, 0,\n",
       "        0, 0, 0, 1, 0, 0],\n",
       "       [0, 0, 0, 1, 0, 1, 0, 0, 1, 0, 0, 0, 1, 0, 0, 1, 1, 0, 0, 1, 0, 0,\n",
       "        1, 0, 0, 0, 0, 0],\n",
       "       [0, 0, 0, 0, 0, 0, 0, 0, 0, 0, 0, 0, 0, 0, 1, 0, 0, 0, 0, 0, 0, 0,\n",
       "        0, 0, 0, 1, 0, 0],\n",
       "       [1, 1, 0, 0, 1, 0, 0, 0, 1, 0, 0, 1, 0, 0, 0, 0, 0, 0, 0, 1, 0, 0,\n",
       "        0, 1, 0, 0, 0, 0],\n",
       "       [0, 0, 1, 0, 0, 1, 0, 1, 0, 0, 1, 1, 1, 0, 0, 0, 0, 0, 1, 1, 0, 0,\n",
       "        0, 0, 1, 0, 0, 0],\n",
       "       [0, 0, 0, 0, 1, 0, 1, 0, 0, 0, 0, 1, 0, 1, 0, 0, 0, 0, 0, 1, 0, 0,\n",
       "        1, 0, 0, 0, 0, 0],\n",
       "       [0, 0, 0, 0, 1, 0, 0, 0, 0, 0, 0, 0, 0, 0, 0, 0, 1, 1, 0, 0, 0, 0,\n",
       "        0, 0, 0, 0, 0, 0],\n",
       "       [1, 0, 0, 1, 0, 1, 0, 0, 1, 0, 0, 0, 0, 0, 0, 1, 0, 0, 1, 0, 0, 0,\n",
       "        0, 1, 0, 1, 1, 0],\n",
       "       [0, 0, 0, 0, 0, 0, 0, 0, 0, 0, 0, 0, 0, 0, 1, 0, 0, 0, 1, 0, 0, 0,\n",
       "        0, 0, 0, 0, 0, 0],\n",
       "       [1, 1, 1, 1, 0, 0, 1, 1, 0, 0, 0, 0, 0, 0, 1, 0, 0, 0, 1, 1, 0, 1,\n",
       "        1, 0, 0, 0, 1, 1],\n",
       "       [0, 1, 0, 0, 0, 0, 0, 0, 0, 0, 0, 1, 0, 0, 0, 0, 0, 0, 0, 0, 1, 0,\n",
       "        1, 0, 0, 0, 0, 0],\n",
       "       [0, 0, 0, 0, 0, 0, 0, 0, 0, 0, 0, 0, 0, 1, 0, 0, 0, 0, 0, 0, 0, 1,\n",
       "        0, 0, 0, 0, 0, 0],\n",
       "       [0, 0, 1, 0, 0, 0, 0, 1, 1, 0, 0, 0, 0, 1, 0, 0, 0, 0, 0, 0, 0, 0,\n",
       "        0, 0, 1, 0, 0, 0],\n",
       "       [1, 0, 0, 0, 0, 0, 1, 0, 0, 0, 0, 1, 0, 0, 1, 0, 0, 0, 1, 1, 1, 1,\n",
       "        1, 0, 0, 1, 0, 1],\n",
       "       [0, 0, 0, 0, 0, 1, 0, 0, 0, 0, 1, 0, 1, 0, 0, 0, 0, 0, 0, 0, 0, 0,\n",
       "        1, 1, 0, 0, 0, 1],\n",
       "       [0, 0, 0, 0, 0, 0, 0, 1, 0, 0, 1, 0, 0, 1, 0, 0, 0, 1, 0, 0, 1, 0,\n",
       "        0, 1, 1, 0, 0, 0],\n",
       "       [0, 0, 0, 0, 0, 0, 0, 0, 0, 1, 0, 0, 0, 0, 0, 0, 0, 1, 0, 1, 0, 0,\n",
       "        0, 0, 0, 0, 0, 0],\n",
       "       [0, 0, 1, 1, 0, 0, 0, 0, 1, 1, 0, 0, 0, 1, 0, 1, 0, 0, 1, 0, 0, 0,\n",
       "        1, 0, 0, 0, 0, 0],\n",
       "       [1, 0, 1, 1, 0, 0, 1, 0, 1, 1, 1, 0, 1, 0, 0, 1, 0, 1, 0, 0, 1, 0,\n",
       "        1, 0, 1, 0, 0, 0],\n",
       "       [0, 0, 0, 0, 0, 0, 1, 0, 0, 0, 1, 1, 0, 0, 0, 1, 0, 0, 1, 0, 0, 0,\n",
       "        0, 0, 0, 1, 0, 1],\n",
       "       [0, 1, 0, 0, 1, 0, 0, 1, 0, 0, 0, 1, 0, 1, 0, 0, 0, 0, 1, 1, 0, 1,\n",
       "        0, 0, 1, 0, 0, 1],\n",
       "       [0, 0, 0, 0, 0, 1, 0, 0, 1, 0, 0, 0, 0, 0, 0, 0, 0, 0, 1, 0, 1, 0,\n",
       "        0, 0, 0, 0, 0, 0],\n",
       "       [0, 0, 0, 0, 0, 0, 1, 0, 1, 1, 1, 1, 1, 0, 0, 0, 0, 1, 1, 0, 0, 0,\n",
       "        0, 0, 1, 0, 0, 1]])"
      ]
     },
     "execution_count": 56,
     "metadata": {},
     "output_type": "execute_result"
    }
   ],
   "source": [
    "\n",
    "np.random.shuffle( my_array )\n",
    "\n",
    "image = my_array\n",
    "\n",
    "image = image.reshape((28,28))\n",
    "\n",
    "## image = np.array( image, dtype=np.uint8)   ## for PIL images\n",
    "\n",
    "print( image.shape )\n",
    "\n",
    "image\n"
   ]
  },
  {
   "cell_type": "code",
   "execution_count": 57,
   "id": "7ddb1d71",
   "metadata": {},
   "outputs": [
    {
     "data": {
      "text/plain": [
       "array([[ 1, -1, -1, -1, -1, -1,  1,  1, -1,  1, -1, -1, -1, -1,  1, -1,\n",
       "        -1, -1, -1, -1, -1, -1, -1, -1,  1,  1, -1, -1],\n",
       "       [-1,  1, -1, -1, -1,  1, -1, -1, -1, -1, -1, -1, -1,  1, -1,  1,\n",
       "        -1, -1, -1,  1, -1, -1,  1, -1, -1,  1,  1, -1],\n",
       "       [-1, -1, -1, -1, -1, -1, -1,  1,  1,  1, -1,  1, -1,  1, -1, -1,\n",
       "        -1, -1, -1, -1, -1, -1,  1, -1, -1, -1, -1, -1],\n",
       "       [-1, -1,  1, -1, -1, -1, -1, -1,  1, -1,  1, -1, -1, -1, -1, -1,\n",
       "        -1, -1, -1,  1,  1, -1,  1,  1, -1, -1,  1, -1],\n",
       "       [-1,  1, -1, -1, -1, -1, -1, -1, -1,  1,  1, -1, -1, -1, -1, -1,\n",
       "         1,  1,  1, -1, -1, -1, -1,  1,  1, -1, -1, -1],\n",
       "       [-1, -1, -1, -1, -1,  1, -1,  1, -1, -1,  1, -1, -1, -1, -1,  1,\n",
       "        -1,  1, -1, -1, -1, -1, -1, -1, -1,  1, -1, -1],\n",
       "       [-1, -1, -1,  1, -1,  1, -1, -1,  1, -1, -1, -1,  1, -1, -1,  1,\n",
       "         1, -1, -1,  1, -1, -1,  1, -1, -1, -1, -1, -1],\n",
       "       [-1, -1, -1, -1, -1, -1, -1, -1, -1, -1, -1, -1, -1, -1,  1, -1,\n",
       "        -1, -1, -1, -1, -1, -1, -1, -1, -1,  1, -1, -1],\n",
       "       [ 1,  1, -1, -1,  1, -1, -1, -1,  1, -1, -1,  1, -1, -1, -1, -1,\n",
       "        -1, -1, -1,  1, -1, -1, -1,  1, -1, -1, -1, -1],\n",
       "       [-1, -1,  1, -1, -1,  1, -1,  1, -1, -1,  1,  1,  1, -1, -1, -1,\n",
       "        -1, -1,  1,  1, -1, -1, -1, -1,  1, -1, -1, -1],\n",
       "       [-1, -1, -1, -1,  1, -1,  1, -1, -1, -1, -1,  1, -1,  1, -1, -1,\n",
       "        -1, -1, -1,  1, -1, -1,  1, -1, -1, -1, -1, -1],\n",
       "       [-1, -1, -1, -1,  1, -1, -1, -1, -1, -1, -1, -1, -1, -1, -1, -1,\n",
       "         1,  1, -1, -1, -1, -1, -1, -1, -1, -1, -1, -1],\n",
       "       [ 1, -1, -1,  1, -1,  1, -1, -1,  1, -1, -1, -1, -1, -1, -1,  1,\n",
       "        -1, -1,  1, -1, -1, -1, -1,  1, -1,  1,  1, -1],\n",
       "       [-1, -1, -1, -1, -1, -1, -1, -1, -1, -1, -1, -1, -1, -1,  1, -1,\n",
       "        -1, -1,  1, -1, -1, -1, -1, -1, -1, -1, -1, -1],\n",
       "       [ 1,  1,  1,  1, -1, -1,  1,  1, -1, -1, -1, -1, -1, -1,  1, -1,\n",
       "        -1, -1,  1,  1, -1,  1,  1, -1, -1, -1,  1,  1],\n",
       "       [-1,  1, -1, -1, -1, -1, -1, -1, -1, -1, -1,  1, -1, -1, -1, -1,\n",
       "        -1, -1, -1, -1,  1, -1,  1, -1, -1, -1, -1, -1],\n",
       "       [-1, -1, -1, -1, -1, -1, -1, -1, -1, -1, -1, -1, -1,  1, -1, -1,\n",
       "        -1, -1, -1, -1, -1,  1, -1, -1, -1, -1, -1, -1],\n",
       "       [-1, -1,  1, -1, -1, -1, -1,  1,  1, -1, -1, -1, -1,  1, -1, -1,\n",
       "        -1, -1, -1, -1, -1, -1, -1, -1,  1, -1, -1, -1],\n",
       "       [ 1, -1, -1, -1, -1, -1,  1, -1, -1, -1, -1,  1, -1, -1,  1, -1,\n",
       "        -1, -1,  1,  1,  1,  1,  1, -1, -1,  1, -1,  1],\n",
       "       [-1, -1, -1, -1, -1,  1, -1, -1, -1, -1,  1, -1,  1, -1, -1, -1,\n",
       "        -1, -1, -1, -1, -1, -1,  1,  1, -1, -1, -1,  1],\n",
       "       [-1, -1, -1, -1, -1, -1, -1,  1, -1, -1,  1, -1, -1,  1, -1, -1,\n",
       "        -1,  1, -1, -1,  1, -1, -1,  1,  1, -1, -1, -1],\n",
       "       [-1, -1, -1, -1, -1, -1, -1, -1, -1,  1, -1, -1, -1, -1, -1, -1,\n",
       "        -1,  1, -1,  1, -1, -1, -1, -1, -1, -1, -1, -1],\n",
       "       [-1, -1,  1,  1, -1, -1, -1, -1,  1,  1, -1, -1, -1,  1, -1,  1,\n",
       "        -1, -1,  1, -1, -1, -1,  1, -1, -1, -1, -1, -1],\n",
       "       [ 1, -1,  1,  1, -1, -1,  1, -1,  1,  1,  1, -1,  1, -1, -1,  1,\n",
       "        -1,  1, -1, -1,  1, -1,  1, -1,  1, -1, -1, -1],\n",
       "       [-1, -1, -1, -1, -1, -1,  1, -1, -1, -1,  1,  1, -1, -1, -1,  1,\n",
       "        -1, -1,  1, -1, -1, -1, -1, -1, -1,  1, -1,  1],\n",
       "       [-1,  1, -1, -1,  1, -1, -1,  1, -1, -1, -1,  1, -1,  1, -1, -1,\n",
       "        -1, -1,  1,  1, -1,  1, -1, -1,  1, -1, -1,  1],\n",
       "       [-1, -1, -1, -1, -1,  1, -1, -1,  1, -1, -1, -1, -1, -1, -1, -1,\n",
       "        -1, -1,  1, -1,  1, -1, -1, -1, -1, -1, -1, -1],\n",
       "       [-1, -1, -1, -1, -1, -1,  1, -1,  1,  1,  1,  1,  1, -1, -1, -1,\n",
       "        -1,  1,  1, -1, -1, -1, -1, -1,  1, -1, -1,  1]])"
      ]
     },
     "execution_count": 57,
     "metadata": {},
     "output_type": "execute_result"
    }
   ],
   "source": [
    "\n",
    "states = image * 2 - 1     ##  to polar values of (-1, 1)\n",
    "states\n"
   ]
  },
  {
   "cell_type": "code",
   "execution_count": 58,
   "id": "1e1a7886",
   "metadata": {},
   "outputs": [
    {
     "data": {
      "text/plain": [
       "array([ 1, -1, -1, -1, -1, -1,  1,  1, -1,  1, -1, -1, -1, -1,  1, -1, -1,\n",
       "       -1, -1, -1, -1, -1, -1, -1,  1,  1, -1, -1, -1,  1, -1, -1, -1,  1,\n",
       "       -1, -1, -1, -1, -1, -1, -1,  1, -1,  1, -1, -1, -1,  1, -1, -1,  1,\n",
       "       -1, -1,  1,  1, -1, -1, -1, -1, -1, -1, -1, -1,  1,  1,  1, -1,  1,\n",
       "       -1,  1, -1, -1, -1, -1, -1, -1, -1, -1,  1, -1, -1, -1, -1, -1, -1,\n",
       "       -1,  1, -1, -1, -1, -1, -1,  1, -1,  1, -1, -1, -1, -1, -1, -1, -1,\n",
       "       -1,  1,  1, -1,  1,  1, -1, -1,  1, -1, -1,  1, -1, -1, -1, -1, -1,\n",
       "       -1, -1,  1,  1, -1, -1, -1, -1, -1,  1,  1,  1, -1, -1, -1, -1,  1,\n",
       "        1, -1, -1, -1, -1, -1, -1, -1, -1,  1, -1,  1, -1, -1,  1, -1, -1,\n",
       "       -1, -1,  1, -1,  1, -1, -1, -1, -1, -1, -1, -1,  1, -1, -1, -1, -1,\n",
       "       -1,  1, -1,  1, -1, -1,  1, -1, -1, -1,  1, -1, -1,  1,  1, -1, -1,\n",
       "        1, -1, -1,  1, -1, -1, -1, -1, -1, -1, -1, -1, -1, -1, -1, -1, -1,\n",
       "       -1, -1, -1, -1, -1, -1,  1, -1, -1, -1, -1, -1, -1, -1, -1, -1, -1,\n",
       "        1, -1, -1,  1,  1, -1, -1,  1, -1, -1, -1,  1, -1, -1,  1, -1, -1,\n",
       "       -1, -1, -1, -1, -1,  1, -1, -1, -1,  1, -1, -1, -1, -1, -1, -1,  1,\n",
       "       -1, -1,  1, -1,  1, -1, -1,  1,  1,  1, -1, -1, -1, -1, -1,  1,  1,\n",
       "       -1, -1, -1, -1,  1, -1, -1, -1, -1, -1, -1, -1,  1, -1,  1, -1, -1,\n",
       "       -1, -1,  1, -1,  1, -1, -1, -1, -1, -1,  1, -1, -1,  1, -1, -1, -1,\n",
       "       -1, -1, -1, -1, -1, -1,  1, -1, -1, -1, -1, -1, -1, -1, -1, -1, -1,\n",
       "       -1,  1,  1, -1, -1, -1, -1, -1, -1, -1, -1, -1, -1,  1, -1, -1,  1,\n",
       "       -1,  1, -1, -1,  1, -1, -1, -1, -1, -1, -1,  1, -1, -1,  1, -1, -1,\n",
       "       -1, -1,  1, -1,  1,  1, -1, -1, -1, -1, -1, -1, -1, -1, -1, -1, -1,\n",
       "       -1, -1, -1, -1,  1, -1, -1, -1,  1, -1, -1, -1, -1, -1, -1, -1, -1,\n",
       "       -1,  1,  1,  1,  1, -1, -1,  1,  1, -1, -1, -1, -1, -1, -1,  1, -1,\n",
       "       -1, -1,  1,  1, -1,  1,  1, -1, -1, -1,  1,  1, -1,  1, -1, -1, -1,\n",
       "       -1, -1, -1, -1, -1, -1,  1, -1, -1, -1, -1, -1, -1, -1, -1,  1, -1,\n",
       "        1, -1, -1, -1, -1, -1, -1, -1, -1, -1, -1, -1, -1, -1, -1, -1, -1,\n",
       "       -1, -1,  1, -1, -1, -1, -1, -1, -1, -1,  1, -1, -1, -1, -1, -1, -1,\n",
       "       -1, -1,  1, -1, -1, -1, -1,  1,  1, -1, -1, -1, -1,  1, -1, -1, -1,\n",
       "       -1, -1, -1, -1, -1, -1, -1,  1, -1, -1, -1,  1, -1, -1, -1, -1, -1,\n",
       "        1, -1, -1, -1, -1,  1, -1, -1,  1, -1, -1, -1,  1,  1,  1,  1,  1,\n",
       "       -1, -1,  1, -1,  1, -1, -1, -1, -1, -1,  1, -1, -1, -1, -1,  1, -1,\n",
       "        1, -1, -1, -1, -1, -1, -1, -1, -1, -1,  1,  1, -1, -1, -1,  1, -1,\n",
       "       -1, -1, -1, -1, -1, -1,  1, -1, -1,  1, -1, -1,  1, -1, -1, -1,  1,\n",
       "       -1, -1,  1, -1, -1,  1,  1, -1, -1, -1, -1, -1, -1, -1, -1, -1, -1,\n",
       "       -1, -1,  1, -1, -1, -1, -1, -1, -1, -1,  1, -1,  1, -1, -1, -1, -1,\n",
       "       -1, -1, -1, -1, -1, -1,  1,  1, -1, -1, -1, -1,  1,  1, -1, -1, -1,\n",
       "        1, -1,  1, -1, -1,  1, -1, -1, -1,  1, -1, -1, -1, -1, -1,  1, -1,\n",
       "        1,  1, -1, -1,  1, -1,  1,  1,  1, -1,  1, -1, -1,  1, -1,  1, -1,\n",
       "       -1,  1, -1,  1, -1,  1, -1, -1, -1, -1, -1, -1, -1, -1, -1,  1, -1,\n",
       "       -1, -1,  1,  1, -1, -1, -1,  1, -1, -1,  1, -1, -1, -1, -1, -1, -1,\n",
       "        1, -1,  1, -1,  1, -1, -1,  1, -1, -1,  1, -1, -1, -1,  1, -1,  1,\n",
       "       -1, -1, -1, -1,  1,  1, -1,  1, -1, -1,  1, -1, -1,  1, -1, -1, -1,\n",
       "       -1, -1,  1, -1, -1,  1, -1, -1, -1, -1, -1, -1, -1, -1, -1,  1, -1,\n",
       "        1, -1, -1, -1, -1, -1, -1, -1, -1, -1, -1, -1, -1, -1,  1, -1,  1,\n",
       "        1,  1,  1,  1, -1, -1, -1, -1,  1,  1, -1, -1, -1, -1, -1,  1, -1,\n",
       "       -1,  1])"
      ]
     },
     "execution_count": 58,
     "metadata": {},
     "output_type": "execute_result"
    }
   ],
   "source": [
    "\n",
    "states = states.flatten() \n",
    "\n",
    "states\n"
   ]
  },
  {
   "cell_type": "code",
   "execution_count": null,
   "id": "737a35c9",
   "metadata": {},
   "outputs": [],
   "source": []
  },
  {
   "cell_type": "code",
   "execution_count": null,
   "id": "91378566",
   "metadata": {},
   "outputs": [],
   "source": []
  },
  {
   "cell_type": "code",
   "execution_count": null,
   "id": "e31acb52",
   "metadata": {},
   "outputs": [],
   "source": []
  },
  {
   "cell_type": "code",
   "execution_count": 49,
   "id": "4d4f622f",
   "metadata": {},
   "outputs": [],
   "source": [
    "\n",
    "from PIL import Image\n"
   ]
  },
  {
   "cell_type": "code",
   "execution_count": 50,
   "id": "a11d34b9",
   "metadata": {},
   "outputs": [],
   "source": [
    "\n",
    "MyImg = Image.fromarray(  image*255   )\n"
   ]
  },
  {
   "cell_type": "code",
   "execution_count": 51,
   "id": "09b0c023",
   "metadata": {},
   "outputs": [],
   "source": [
    "\n",
    "MyImg.save('the_image.png')\n"
   ]
  },
  {
   "cell_type": "code",
   "execution_count": 52,
   "id": "ed82d05f",
   "metadata": {},
   "outputs": [
    {
     "data": {
      "image/png": "[encoded data removed]",
      "text/plain": [
       "<PIL.Image.Image image mode=L size=28x28>"
      ]
     },
     "execution_count": 52,
     "metadata": {},
     "output_type": "execute_result"
    }
   ],
   "source": [
    "\n",
    "MyImg\n"
   ]
  },
  {
   "cell_type": "code",
   "execution_count": 47,
   "id": "303a5e59",
   "metadata": {},
   "outputs": [
    {
     "data": {
      "image/png": "[encoded data removed]",
      "text/plain": [
       "<PIL.Image.Image image mode=L size=100x100>"
      ]
     },
     "execution_count": 47,
     "metadata": {},
     "output_type": "execute_result"
    }
   ],
   "source": [
    "\n",
    "rand_array = np.random.randint(low=0, high=2, size=(100,100), dtype=np.uint8)\n",
    "im  = Image.fromarray( rand_array * 255)\n",
    "im\n"
   ]
  },
  {
   "cell_type": "code",
   "execution_count": null,
   "id": "8da96954",
   "metadata": {},
   "outputs": [],
   "source": []
  },
  {
   "cell_type": "code",
   "execution_count": null,
   "id": "965c4c2a",
   "metadata": {},
   "outputs": [],
   "source": []
  },
  {
   "cell_type": "code",
   "execution_count": null,
   "id": "a16b6bad",
   "metadata": {},
   "outputs": [],
   "source": []
  },
  {
   "cell_type": "code",
   "execution_count": null,
   "id": "ac433119",
   "metadata": {},
   "outputs": [],
   "source": []
  },
  {
   "cell_type": "code",
   "execution_count": null,
   "id": "3b9f45e5",
   "metadata": {},
   "outputs": [],
   "source": []
  }
 ],
 "metadata": {
  "kernelspec": {
   "display_name": "Python 3 (ipykernel)",
   "language": "python",
   "name": "python3"
  },
  "language_info": {
   "codemirror_mode": {
    "name": "ipython",
    "version": 3
   },
   "file_extension": ".py",
   "mimetype": "text/x-python",
   "name": "python",
   "nbconvert_exporter": "python",
   "pygments_lexer": "ipython3",
   "version": "3.7.16"
  }
 },
 "nbformat": 4,
 "nbformat_minor": 5
}
