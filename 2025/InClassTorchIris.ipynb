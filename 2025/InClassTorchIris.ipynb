{
 "cells": [
  {
   "cell_type": "code",
   "execution_count": 1,
   "id": "32f12993",
   "metadata": {},
   "outputs": [],
   "source": [
    "\n",
    "## !pip install mlxtend\n"
   ]
  },
  {
   "cell_type": "code",
   "execution_count": 2,
   "id": "8cbf08eb",
   "metadata": {},
   "outputs": [],
   "source": [
    "\n",
    "import numpy as np\n",
    "import torch\n",
    "import pandas as pd\n",
    "import sklearn\n",
    "import random\n",
    "\n",
    "import torch.nn as nn\n",
    "import torch.nn.functional as F\n",
    "import torch.optim as optim\n"
   ]
  },
  {
   "cell_type": "code",
   "execution_count": 3,
   "id": "e5b9cbb0",
   "metadata": {},
   "outputs": [],
   "source": [
    "\n",
    "import matplotlib.pyplot as plt\n",
    "\n",
    "from mlxtend.plotting import heatmap\n",
    "from sklearn.model_selection import train_test_split\n",
    "from torch.utils.data import TensorDataset, DataLoader\n"
   ]
  },
  {
   "cell_type": "code",
   "execution_count": 4,
   "id": "3a1d5712",
   "metadata": {},
   "outputs": [],
   "source": [
    "\n",
    "from sklearn.metrics import confusion_matrix\n",
    "from sklearn.metrics import precision_score, recall_score, accuracy_score, f1_score\n"
   ]
  },
  {
   "cell_type": "code",
   "execution_count": 5,
   "id": "e5dbdafc",
   "metadata": {},
   "outputs": [],
   "source": [
    "\n",
    "batch_size    = 16\n",
    "learning_rate = 0.003 ## 0.001\n",
    "N_Epochs      = 4000\n",
    "\n",
    "epsilon = 0.0001\n"
   ]
  },
  {
   "cell_type": "code",
   "execution_count": 6,
   "id": "b9a9357b",
   "metadata": {},
   "outputs": [],
   "source": [
    "\n",
    "path_data = 'iris.csv'\n",
    "\n",
    "iris_raw_data = pd.read_csv( path_data, delimiter=\",\" )\n"
   ]
  },
  {
   "cell_type": "code",
   "execution_count": 7,
   "id": "b07bc75a",
   "metadata": {},
   "outputs": [
    {
     "data": {
      "text/html": [
       "<div>\n",
       "<style scoped>\n",
       "    .dataframe tbody tr th:only-of-type {\n",
       "        vertical-align: middle;\n",
       "    }\n",
       "\n",
       "    .dataframe tbody tr th {\n",
       "        vertical-align: top;\n",
       "    }\n",
       "\n",
       "    .dataframe thead th {\n",
       "        text-align: right;\n",
       "    }\n",
       "</style>\n",
       "<table border=\"1\" class=\"dataframe\">\n",
       "  <thead>\n",
       "    <tr style=\"text-align: right;\">\n",
       "      <th></th>\n",
       "      <th>sepal_length</th>\n",
       "      <th>sepal_width</th>\n",
       "      <th>petal_length</th>\n",
       "      <th>petal_width</th>\n",
       "      <th>species</th>\n",
       "    </tr>\n",
       "  </thead>\n",
       "  <tbody>\n",
       "    <tr>\n",
       "      <th>0</th>\n",
       "      <td>5.1</td>\n",
       "      <td>3.5</td>\n",
       "      <td>1.4</td>\n",
       "      <td>0.2</td>\n",
       "      <td>setosa</td>\n",
       "    </tr>\n",
       "    <tr>\n",
       "      <th>1</th>\n",
       "      <td>4.9</td>\n",
       "      <td>3.0</td>\n",
       "      <td>1.4</td>\n",
       "      <td>0.2</td>\n",
       "      <td>setosa</td>\n",
       "    </tr>\n",
       "    <tr>\n",
       "      <th>2</th>\n",
       "      <td>4.7</td>\n",
       "      <td>3.2</td>\n",
       "      <td>1.3</td>\n",
       "      <td>0.2</td>\n",
       "      <td>setosa</td>\n",
       "    </tr>\n",
       "    <tr>\n",
       "      <th>3</th>\n",
       "      <td>4.6</td>\n",
       "      <td>3.1</td>\n",
       "      <td>1.5</td>\n",
       "      <td>0.2</td>\n",
       "      <td>setosa</td>\n",
       "    </tr>\n",
       "    <tr>\n",
       "      <th>4</th>\n",
       "      <td>5.0</td>\n",
       "      <td>3.6</td>\n",
       "      <td>1.4</td>\n",
       "      <td>0.2</td>\n",
       "      <td>setosa</td>\n",
       "    </tr>\n",
       "    <tr>\n",
       "      <th>...</th>\n",
       "      <td>...</td>\n",
       "      <td>...</td>\n",
       "      <td>...</td>\n",
       "      <td>...</td>\n",
       "      <td>...</td>\n",
       "    </tr>\n",
       "    <tr>\n",
       "      <th>145</th>\n",
       "      <td>6.7</td>\n",
       "      <td>3.0</td>\n",
       "      <td>5.2</td>\n",
       "      <td>2.3</td>\n",
       "      <td>virginica</td>\n",
       "    </tr>\n",
       "    <tr>\n",
       "      <th>146</th>\n",
       "      <td>6.3</td>\n",
       "      <td>2.5</td>\n",
       "      <td>5.0</td>\n",
       "      <td>1.9</td>\n",
       "      <td>virginica</td>\n",
       "    </tr>\n",
       "    <tr>\n",
       "      <th>147</th>\n",
       "      <td>6.5</td>\n",
       "      <td>3.0</td>\n",
       "      <td>5.2</td>\n",
       "      <td>2.0</td>\n",
       "      <td>virginica</td>\n",
       "    </tr>\n",
       "    <tr>\n",
       "      <th>148</th>\n",
       "      <td>6.2</td>\n",
       "      <td>3.4</td>\n",
       "      <td>5.4</td>\n",
       "      <td>2.3</td>\n",
       "      <td>virginica</td>\n",
       "    </tr>\n",
       "    <tr>\n",
       "      <th>149</th>\n",
       "      <td>5.9</td>\n",
       "      <td>3.0</td>\n",
       "      <td>5.1</td>\n",
       "      <td>1.8</td>\n",
       "      <td>virginica</td>\n",
       "    </tr>\n",
       "  </tbody>\n",
       "</table>\n",
       "<p>150 rows × 5 columns</p>\n",
       "</div>"
      ],
      "text/plain": [
       "     sepal_length  sepal_width  petal_length  petal_width    species\n",
       "0             5.1          3.5           1.4          0.2     setosa\n",
       "1             4.9          3.0           1.4          0.2     setosa\n",
       "2             4.7          3.2           1.3          0.2     setosa\n",
       "3             4.6          3.1           1.5          0.2     setosa\n",
       "4             5.0          3.6           1.4          0.2     setosa\n",
       "..            ...          ...           ...          ...        ...\n",
       "145           6.7          3.0           5.2          2.3  virginica\n",
       "146           6.3          2.5           5.0          1.9  virginica\n",
       "147           6.5          3.0           5.2          2.0  virginica\n",
       "148           6.2          3.4           5.4          2.3  virginica\n",
       "149           5.9          3.0           5.1          1.8  virginica\n",
       "\n",
       "[150 rows x 5 columns]"
      ]
     },
     "execution_count": 7,
     "metadata": {},
     "output_type": "execute_result"
    }
   ],
   "source": [
    "\n",
    "iris_raw_data\n"
   ]
  },
  {
   "cell_type": "code",
   "execution_count": 8,
   "id": "f2eebf67",
   "metadata": {},
   "outputs": [],
   "source": [
    "\n",
    "iris_raw_data.species = iris_raw_data.species.map( {'setosa':0 , 'virginica':1, 'versicolor':2} )\n"
   ]
  },
  {
   "cell_type": "code",
   "execution_count": 9,
   "id": "64e78503",
   "metadata": {},
   "outputs": [
    {
     "data": {
      "text/html": [
       "<div>\n",
       "<style scoped>\n",
       "    .dataframe tbody tr th:only-of-type {\n",
       "        vertical-align: middle;\n",
       "    }\n",
       "\n",
       "    .dataframe tbody tr th {\n",
       "        vertical-align: top;\n",
       "    }\n",
       "\n",
       "    .dataframe thead th {\n",
       "        text-align: right;\n",
       "    }\n",
       "</style>\n",
       "<table border=\"1\" class=\"dataframe\">\n",
       "  <thead>\n",
       "    <tr style=\"text-align: right;\">\n",
       "      <th></th>\n",
       "      <th>sepal_length</th>\n",
       "      <th>sepal_width</th>\n",
       "      <th>petal_length</th>\n",
       "      <th>petal_width</th>\n",
       "      <th>species</th>\n",
       "    </tr>\n",
       "  </thead>\n",
       "  <tbody>\n",
       "    <tr>\n",
       "      <th>0</th>\n",
       "      <td>5.1</td>\n",
       "      <td>3.5</td>\n",
       "      <td>1.4</td>\n",
       "      <td>0.2</td>\n",
       "      <td>0</td>\n",
       "    </tr>\n",
       "    <tr>\n",
       "      <th>1</th>\n",
       "      <td>4.9</td>\n",
       "      <td>3.0</td>\n",
       "      <td>1.4</td>\n",
       "      <td>0.2</td>\n",
       "      <td>0</td>\n",
       "    </tr>\n",
       "    <tr>\n",
       "      <th>2</th>\n",
       "      <td>4.7</td>\n",
       "      <td>3.2</td>\n",
       "      <td>1.3</td>\n",
       "      <td>0.2</td>\n",
       "      <td>0</td>\n",
       "    </tr>\n",
       "    <tr>\n",
       "      <th>3</th>\n",
       "      <td>4.6</td>\n",
       "      <td>3.1</td>\n",
       "      <td>1.5</td>\n",
       "      <td>0.2</td>\n",
       "      <td>0</td>\n",
       "    </tr>\n",
       "    <tr>\n",
       "      <th>4</th>\n",
       "      <td>5.0</td>\n",
       "      <td>3.6</td>\n",
       "      <td>1.4</td>\n",
       "      <td>0.2</td>\n",
       "      <td>0</td>\n",
       "    </tr>\n",
       "    <tr>\n",
       "      <th>...</th>\n",
       "      <td>...</td>\n",
       "      <td>...</td>\n",
       "      <td>...</td>\n",
       "      <td>...</td>\n",
       "      <td>...</td>\n",
       "    </tr>\n",
       "    <tr>\n",
       "      <th>145</th>\n",
       "      <td>6.7</td>\n",
       "      <td>3.0</td>\n",
       "      <td>5.2</td>\n",
       "      <td>2.3</td>\n",
       "      <td>1</td>\n",
       "    </tr>\n",
       "    <tr>\n",
       "      <th>146</th>\n",
       "      <td>6.3</td>\n",
       "      <td>2.5</td>\n",
       "      <td>5.0</td>\n",
       "      <td>1.9</td>\n",
       "      <td>1</td>\n",
       "    </tr>\n",
       "    <tr>\n",
       "      <th>147</th>\n",
       "      <td>6.5</td>\n",
       "      <td>3.0</td>\n",
       "      <td>5.2</td>\n",
       "      <td>2.0</td>\n",
       "      <td>1</td>\n",
       "    </tr>\n",
       "    <tr>\n",
       "      <th>148</th>\n",
       "      <td>6.2</td>\n",
       "      <td>3.4</td>\n",
       "      <td>5.4</td>\n",
       "      <td>2.3</td>\n",
       "      <td>1</td>\n",
       "    </tr>\n",
       "    <tr>\n",
       "      <th>149</th>\n",
       "      <td>5.9</td>\n",
       "      <td>3.0</td>\n",
       "      <td>5.1</td>\n",
       "      <td>1.8</td>\n",
       "      <td>1</td>\n",
       "    </tr>\n",
       "  </tbody>\n",
       "</table>\n",
       "<p>150 rows × 5 columns</p>\n",
       "</div>"
      ],
      "text/plain": [
       "     sepal_length  sepal_width  petal_length  petal_width  species\n",
       "0             5.1          3.5           1.4          0.2        0\n",
       "1             4.9          3.0           1.4          0.2        0\n",
       "2             4.7          3.2           1.3          0.2        0\n",
       "3             4.6          3.1           1.5          0.2        0\n",
       "4             5.0          3.6           1.4          0.2        0\n",
       "..            ...          ...           ...          ...      ...\n",
       "145           6.7          3.0           5.2          2.3        1\n",
       "146           6.3          2.5           5.0          1.9        1\n",
       "147           6.5          3.0           5.2          2.0        1\n",
       "148           6.2          3.4           5.4          2.3        1\n",
       "149           5.9          3.0           5.1          1.8        1\n",
       "\n",
       "[150 rows x 5 columns]"
      ]
     },
     "execution_count": 9,
     "metadata": {},
     "output_type": "execute_result"
    }
   ],
   "source": [
    "\n",
    "iris_raw_data\n"
   ]
  },
  {
   "cell_type": "code",
   "execution_count": 10,
   "id": "17615210",
   "metadata": {},
   "outputs": [
    {
     "data": {
      "text/plain": [
       "['sepal_length', 'sepal_width', 'petal_length', 'petal_width', 'species']"
      ]
     },
     "execution_count": 10,
     "metadata": {},
     "output_type": "execute_result"
    }
   ],
   "source": [
    "\n",
    "headers_list = iris_raw_data.columns.values.tolist()\n",
    "\n",
    "headers_list\n"
   ]
  },
  {
   "cell_type": "code",
   "execution_count": 11,
   "id": "ead8cc26",
   "metadata": {},
   "outputs": [
    {
     "data": {
      "image/png": "[encoded data removed]",
      "text/plain": [
       "<Figure size 2000x1000 with 2 Axes>"
      ]
     },
     "metadata": {},
     "output_type": "display_data"
    }
   ],
   "source": [
    "\n",
    "cm = np.corrcoef(   iris_raw_data[headers_list].values.T   )\n",
    "hm = heatmap(cm, row_names=headers_list, column_names=headers_list, figsize=(20,10))\n",
    "plt.show()\n"
   ]
  },
  {
   "cell_type": "code",
   "execution_count": 12,
   "id": "45447249",
   "metadata": {},
   "outputs": [],
   "source": [
    "\n",
    "## Convert Pandas to Numpy\n",
    "\n",
    "iris_raw_data_np = iris_raw_data.to_numpy()\n"
   ]
  },
  {
   "cell_type": "code",
   "execution_count": 13,
   "id": "c8845d15",
   "metadata": {},
   "outputs": [
    {
     "data": {
      "text/plain": [
       "array([[5.1, 3.5, 1.4, 0.2, 0. ],\n",
       "       [4.9, 3. , 1.4, 0.2, 0. ],\n",
       "       [4.7, 3.2, 1.3, 0.2, 0. ],\n",
       "       [4.6, 3.1, 1.5, 0.2, 0. ],\n",
       "       [5. , 3.6, 1.4, 0.2, 0. ],\n",
       "       [5.4, 3.9, 1.7, 0.4, 0. ],\n",
       "       [4.6, 3.4, 1.4, 0.3, 0. ],\n",
       "       [5. , 3.4, 1.5, 0.2, 0. ],\n",
       "       [4.4, 2.9, 1.4, 0.2, 0. ],\n",
       "       [4.9, 3.1, 1.5, 0.1, 0. ],\n",
       "       [5.4, 3.7, 1.5, 0.2, 0. ],\n",
       "       [4.8, 3.4, 1.6, 0.2, 0. ],\n",
       "       [4.8, 3. , 1.4, 0.1, 0. ],\n",
       "       [4.3, 3. , 1.1, 0.1, 0. ],\n",
       "       [5.8, 4. , 1.2, 0.2, 0. ],\n",
       "       [5.7, 4.4, 1.5, 0.4, 0. ],\n",
       "       [5.4, 3.9, 1.3, 0.4, 0. ],\n",
       "       [5.1, 3.5, 1.4, 0.3, 0. ],\n",
       "       [5.7, 3.8, 1.7, 0.3, 0. ],\n",
       "       [5.1, 3.8, 1.5, 0.3, 0. ],\n",
       "       [5.4, 3.4, 1.7, 0.2, 0. ],\n",
       "       [5.1, 3.7, 1.5, 0.4, 0. ],\n",
       "       [4.6, 3.6, 1. , 0.2, 0. ],\n",
       "       [5.1, 3.3, 1.7, 0.5, 0. ],\n",
       "       [4.8, 3.4, 1.9, 0.2, 0. ],\n",
       "       [5. , 3. , 1.6, 0.2, 0. ],\n",
       "       [5. , 3.4, 1.6, 0.4, 0. ],\n",
       "       [5.2, 3.5, 1.5, 0.2, 0. ],\n",
       "       [5.2, 3.4, 1.4, 0.2, 0. ],\n",
       "       [4.7, 3.2, 1.6, 0.2, 0. ],\n",
       "       [4.8, 3.1, 1.6, 0.2, 0. ],\n",
       "       [5.4, 3.4, 1.5, 0.4, 0. ],\n",
       "       [5.2, 4.1, 1.5, 0.1, 0. ],\n",
       "       [5.5, 4.2, 1.4, 0.2, 0. ],\n",
       "       [4.9, 3.1, 1.5, 0.1, 0. ],\n",
       "       [5. , 3.2, 1.2, 0.2, 0. ],\n",
       "       [5.5, 3.5, 1.3, 0.2, 0. ],\n",
       "       [4.9, 3.1, 1.5, 0.1, 0. ],\n",
       "       [4.4, 3. , 1.3, 0.2, 0. ],\n",
       "       [5.1, 3.4, 1.5, 0.2, 0. ],\n",
       "       [5. , 3.5, 1.3, 0.3, 0. ],\n",
       "       [4.5, 2.3, 1.3, 0.3, 0. ],\n",
       "       [4.4, 3.2, 1.3, 0.2, 0. ],\n",
       "       [5. , 3.5, 1.6, 0.6, 0. ],\n",
       "       [5.1, 3.8, 1.9, 0.4, 0. ],\n",
       "       [4.8, 3. , 1.4, 0.3, 0. ],\n",
       "       [5.1, 3.8, 1.6, 0.2, 0. ],\n",
       "       [4.6, 3.2, 1.4, 0.2, 0. ],\n",
       "       [5.3, 3.7, 1.5, 0.2, 0. ],\n",
       "       [5. , 3.3, 1.4, 0.2, 0. ],\n",
       "       [7. , 3.2, 4.7, 1.4, 2. ],\n",
       "       [6.4, 3.2, 4.5, 1.5, 2. ],\n",
       "       [6.9, 3.1, 4.9, 1.5, 2. ],\n",
       "       [5.5, 2.3, 4. , 1.3, 2. ],\n",
       "       [6.5, 2.8, 4.6, 1.5, 2. ],\n",
       "       [5.7, 2.8, 4.5, 1.3, 2. ],\n",
       "       [6.3, 3.3, 4.7, 1.6, 2. ],\n",
       "       [4.9, 2.4, 3.3, 1. , 2. ],\n",
       "       [6.6, 2.9, 4.6, 1.3, 2. ],\n",
       "       [5.2, 2.7, 3.9, 1.4, 2. ],\n",
       "       [5. , 2. , 3.5, 1. , 2. ],\n",
       "       [5.9, 3. , 4.2, 1.5, 2. ],\n",
       "       [6. , 2.2, 4. , 1. , 2. ],\n",
       "       [6.1, 2.9, 4.7, 1.4, 2. ],\n",
       "       [5.6, 2.9, 3.6, 1.3, 2. ],\n",
       "       [6.7, 3.1, 4.4, 1.4, 2. ],\n",
       "       [5.6, 3. , 4.5, 1.5, 2. ],\n",
       "       [5.8, 2.7, 4.1, 1. , 2. ],\n",
       "       [6.2, 2.2, 4.5, 1.5, 2. ],\n",
       "       [5.6, 2.5, 3.9, 1.1, 2. ],\n",
       "       [5.9, 3.2, 4.8, 1.8, 2. ],\n",
       "       [6.1, 2.8, 4. , 1.3, 2. ],\n",
       "       [6.3, 2.5, 4.9, 1.5, 2. ],\n",
       "       [6.1, 2.8, 4.7, 1.2, 2. ],\n",
       "       [6.4, 2.9, 4.3, 1.3, 2. ],\n",
       "       [6.6, 3. , 4.4, 1.4, 2. ],\n",
       "       [6.8, 2.8, 4.8, 1.4, 2. ],\n",
       "       [6.7, 3. , 5. , 1.7, 2. ],\n",
       "       [6. , 2.9, 4.5, 1.5, 2. ],\n",
       "       [5.7, 2.6, 3.5, 1. , 2. ],\n",
       "       [5.5, 2.4, 3.8, 1.1, 2. ],\n",
       "       [5.5, 2.4, 3.7, 1. , 2. ],\n",
       "       [5.8, 2.7, 3.9, 1.2, 2. ],\n",
       "       [6. , 2.7, 5.1, 1.6, 2. ],\n",
       "       [5.4, 3. , 4.5, 1.5, 2. ],\n",
       "       [6. , 3.4, 4.5, 1.6, 2. ],\n",
       "       [6.7, 3.1, 4.7, 1.5, 2. ],\n",
       "       [6.3, 2.3, 4.4, 1.3, 2. ],\n",
       "       [5.6, 3. , 4.1, 1.3, 2. ],\n",
       "       [5.5, 2.5, 4. , 1.3, 2. ],\n",
       "       [5.5, 2.6, 4.4, 1.2, 2. ],\n",
       "       [6.1, 3. , 4.6, 1.4, 2. ],\n",
       "       [5.8, 2.6, 4. , 1.2, 2. ],\n",
       "       [5. , 2.3, 3.3, 1. , 2. ],\n",
       "       [5.6, 2.7, 4.2, 1.3, 2. ],\n",
       "       [5.7, 3. , 4.2, 1.2, 2. ],\n",
       "       [5.7, 2.9, 4.2, 1.3, 2. ],\n",
       "       [6.2, 2.9, 4.3, 1.3, 2. ],\n",
       "       [5.1, 2.5, 3. , 1.1, 2. ],\n",
       "       [5.7, 2.8, 4.1, 1.3, 2. ],\n",
       "       [6.3, 3.3, 6. , 2.5, 1. ],\n",
       "       [5.8, 2.7, 5.1, 1.9, 1. ],\n",
       "       [7.1, 3. , 5.9, 2.1, 1. ],\n",
       "       [6.3, 2.9, 5.6, 1.8, 1. ],\n",
       "       [6.5, 3. , 5.8, 2.2, 1. ],\n",
       "       [7.6, 3. , 6.6, 2.1, 1. ],\n",
       "       [4.9, 2.5, 4.5, 1.7, 1. ],\n",
       "       [7.3, 2.9, 6.3, 1.8, 1. ],\n",
       "       [6.7, 2.5, 5.8, 1.8, 1. ],\n",
       "       [7.2, 3.6, 6.1, 2.5, 1. ],\n",
       "       [6.5, 3.2, 5.1, 2. , 1. ],\n",
       "       [6.4, 2.7, 5.3, 1.9, 1. ],\n",
       "       [6.8, 3. , 5.5, 2.1, 1. ],\n",
       "       [5.7, 2.5, 5. , 2. , 1. ],\n",
       "       [5.8, 2.8, 5.1, 2.4, 1. ],\n",
       "       [6.4, 3.2, 5.3, 2.3, 1. ],\n",
       "       [6.5, 3. , 5.5, 1.8, 1. ],\n",
       "       [7.7, 3.8, 6.7, 2.2, 1. ],\n",
       "       [7.7, 2.6, 6.9, 2.3, 1. ],\n",
       "       [6. , 2.2, 5. , 1.5, 1. ],\n",
       "       [6.9, 3.2, 5.7, 2.3, 1. ],\n",
       "       [5.6, 2.8, 4.9, 2. , 1. ],\n",
       "       [7.7, 2.8, 6.7, 2. , 1. ],\n",
       "       [6.3, 2.7, 4.9, 1.8, 1. ],\n",
       "       [6.7, 3.3, 5.7, 2.1, 1. ],\n",
       "       [7.2, 3.2, 6. , 1.8, 1. ],\n",
       "       [6.2, 2.8, 4.8, 1.8, 1. ],\n",
       "       [6.1, 3. , 4.9, 1.8, 1. ],\n",
       "       [6.4, 2.8, 5.6, 2.1, 1. ],\n",
       "       [7.2, 3. , 5.8, 1.6, 1. ],\n",
       "       [7.4, 2.8, 6.1, 1.9, 1. ],\n",
       "       [7.9, 3.8, 6.4, 2. , 1. ],\n",
       "       [6.4, 2.8, 5.6, 2.2, 1. ],\n",
       "       [6.3, 2.8, 5.1, 1.5, 1. ],\n",
       "       [6.1, 2.6, 5.6, 1.4, 1. ],\n",
       "       [7.7, 3. , 6.1, 2.3, 1. ],\n",
       "       [6.3, 3.4, 5.6, 2.4, 1. ],\n",
       "       [6.4, 3.1, 5.5, 1.8, 1. ],\n",
       "       [6. , 3. , 4.8, 1.8, 1. ],\n",
       "       [6.9, 3.1, 5.4, 2.1, 1. ],\n",
       "       [6.7, 3.1, 5.6, 2.4, 1. ],\n",
       "       [6.9, 3.1, 5.1, 2.3, 1. ],\n",
       "       [5.8, 2.7, 5.1, 1.9, 1. ],\n",
       "       [6.8, 3.2, 5.9, 2.3, 1. ],\n",
       "       [6.7, 3.3, 5.7, 2.5, 1. ],\n",
       "       [6.7, 3. , 5.2, 2.3, 1. ],\n",
       "       [6.3, 2.5, 5. , 1.9, 1. ],\n",
       "       [6.5, 3. , 5.2, 2. , 1. ],\n",
       "       [6.2, 3.4, 5.4, 2.3, 1. ],\n",
       "       [5.9, 3. , 5.1, 1.8, 1. ]])"
      ]
     },
     "execution_count": 13,
     "metadata": {},
     "output_type": "execute_result"
    }
   ],
   "source": [
    "\n",
    "iris_raw_data_np\n"
   ]
  },
  {
   "cell_type": "code",
   "execution_count": 14,
   "id": "870edb4f",
   "metadata": {},
   "outputs": [
    {
     "data": {
      "text/plain": [
       "(150, 5)"
      ]
     },
     "execution_count": 14,
     "metadata": {},
     "output_type": "execute_result"
    }
   ],
   "source": [
    "\n",
    "iris_raw_data_np.shape\n"
   ]
  },
  {
   "cell_type": "code",
   "execution_count": 15,
   "id": "fa9f5228",
   "metadata": {},
   "outputs": [],
   "source": [
    "\n",
    "X = iris_raw_data_np[:, :-1]\n",
    "\n",
    "\n",
    "y = iris_raw_data_np[:, 4:5]\n"
   ]
  },
  {
   "cell_type": "code",
   "execution_count": 16,
   "id": "03af7b69",
   "metadata": {},
   "outputs": [
    {
     "data": {
      "text/plain": [
       "array([[0.],\n",
       "       [0.],\n",
       "       [0.],\n",
       "       [0.],\n",
       "       [0.],\n",
       "       [0.],\n",
       "       [0.],\n",
       "       [0.],\n",
       "       [0.],\n",
       "       [0.],\n",
       "       [0.],\n",
       "       [0.],\n",
       "       [0.],\n",
       "       [0.],\n",
       "       [0.],\n",
       "       [0.],\n",
       "       [0.],\n",
       "       [0.],\n",
       "       [0.],\n",
       "       [0.],\n",
       "       [0.],\n",
       "       [0.],\n",
       "       [0.],\n",
       "       [0.],\n",
       "       [0.],\n",
       "       [0.],\n",
       "       [0.],\n",
       "       [0.],\n",
       "       [0.],\n",
       "       [0.],\n",
       "       [0.],\n",
       "       [0.],\n",
       "       [0.],\n",
       "       [0.],\n",
       "       [0.],\n",
       "       [0.],\n",
       "       [0.],\n",
       "       [0.],\n",
       "       [0.],\n",
       "       [0.],\n",
       "       [0.],\n",
       "       [0.],\n",
       "       [0.],\n",
       "       [0.],\n",
       "       [0.],\n",
       "       [0.],\n",
       "       [0.],\n",
       "       [0.],\n",
       "       [0.],\n",
       "       [0.],\n",
       "       [2.],\n",
       "       [2.],\n",
       "       [2.],\n",
       "       [2.],\n",
       "       [2.],\n",
       "       [2.],\n",
       "       [2.],\n",
       "       [2.],\n",
       "       [2.],\n",
       "       [2.],\n",
       "       [2.],\n",
       "       [2.],\n",
       "       [2.],\n",
       "       [2.],\n",
       "       [2.],\n",
       "       [2.],\n",
       "       [2.],\n",
       "       [2.],\n",
       "       [2.],\n",
       "       [2.],\n",
       "       [2.],\n",
       "       [2.],\n",
       "       [2.],\n",
       "       [2.],\n",
       "       [2.],\n",
       "       [2.],\n",
       "       [2.],\n",
       "       [2.],\n",
       "       [2.],\n",
       "       [2.],\n",
       "       [2.],\n",
       "       [2.],\n",
       "       [2.],\n",
       "       [2.],\n",
       "       [2.],\n",
       "       [2.],\n",
       "       [2.],\n",
       "       [2.],\n",
       "       [2.],\n",
       "       [2.],\n",
       "       [2.],\n",
       "       [2.],\n",
       "       [2.],\n",
       "       [2.],\n",
       "       [2.],\n",
       "       [2.],\n",
       "       [2.],\n",
       "       [2.],\n",
       "       [2.],\n",
       "       [2.],\n",
       "       [1.],\n",
       "       [1.],\n",
       "       [1.],\n",
       "       [1.],\n",
       "       [1.],\n",
       "       [1.],\n",
       "       [1.],\n",
       "       [1.],\n",
       "       [1.],\n",
       "       [1.],\n",
       "       [1.],\n",
       "       [1.],\n",
       "       [1.],\n",
       "       [1.],\n",
       "       [1.],\n",
       "       [1.],\n",
       "       [1.],\n",
       "       [1.],\n",
       "       [1.],\n",
       "       [1.],\n",
       "       [1.],\n",
       "       [1.],\n",
       "       [1.],\n",
       "       [1.],\n",
       "       [1.],\n",
       "       [1.],\n",
       "       [1.],\n",
       "       [1.],\n",
       "       [1.],\n",
       "       [1.],\n",
       "       [1.],\n",
       "       [1.],\n",
       "       [1.],\n",
       "       [1.],\n",
       "       [1.],\n",
       "       [1.],\n",
       "       [1.],\n",
       "       [1.],\n",
       "       [1.],\n",
       "       [1.],\n",
       "       [1.],\n",
       "       [1.],\n",
       "       [1.],\n",
       "       [1.],\n",
       "       [1.],\n",
       "       [1.],\n",
       "       [1.],\n",
       "       [1.],\n",
       "       [1.],\n",
       "       [1.]])"
      ]
     },
     "execution_count": 16,
     "metadata": {},
     "output_type": "execute_result"
    }
   ],
   "source": [
    "\n",
    "y\n"
   ]
  },
  {
   "cell_type": "code",
   "execution_count": 17,
   "id": "e36d3e0d",
   "metadata": {},
   "outputs": [],
   "source": [
    "\n",
    "y = y.astype(int)\n"
   ]
  },
  {
   "cell_type": "code",
   "execution_count": 18,
   "id": "124fe88b",
   "metadata": {},
   "outputs": [
    {
     "data": {
      "text/plain": [
       "array([[0],\n",
       "       [0],\n",
       "       [0],\n",
       "       [0],\n",
       "       [0],\n",
       "       [0],\n",
       "       [0],\n",
       "       [0],\n",
       "       [0],\n",
       "       [0],\n",
       "       [0],\n",
       "       [0],\n",
       "       [0],\n",
       "       [0],\n",
       "       [0],\n",
       "       [0],\n",
       "       [0],\n",
       "       [0],\n",
       "       [0],\n",
       "       [0],\n",
       "       [0],\n",
       "       [0],\n",
       "       [0],\n",
       "       [0],\n",
       "       [0],\n",
       "       [0],\n",
       "       [0],\n",
       "       [0],\n",
       "       [0],\n",
       "       [0],\n",
       "       [0],\n",
       "       [0],\n",
       "       [0],\n",
       "       [0],\n",
       "       [0],\n",
       "       [0],\n",
       "       [0],\n",
       "       [0],\n",
       "       [0],\n",
       "       [0],\n",
       "       [0],\n",
       "       [0],\n",
       "       [0],\n",
       "       [0],\n",
       "       [0],\n",
       "       [0],\n",
       "       [0],\n",
       "       [0],\n",
       "       [0],\n",
       "       [0],\n",
       "       [2],\n",
       "       [2],\n",
       "       [2],\n",
       "       [2],\n",
       "       [2],\n",
       "       [2],\n",
       "       [2],\n",
       "       [2],\n",
       "       [2],\n",
       "       [2],\n",
       "       [2],\n",
       "       [2],\n",
       "       [2],\n",
       "       [2],\n",
       "       [2],\n",
       "       [2],\n",
       "       [2],\n",
       "       [2],\n",
       "       [2],\n",
       "       [2],\n",
       "       [2],\n",
       "       [2],\n",
       "       [2],\n",
       "       [2],\n",
       "       [2],\n",
       "       [2],\n",
       "       [2],\n",
       "       [2],\n",
       "       [2],\n",
       "       [2],\n",
       "       [2],\n",
       "       [2],\n",
       "       [2],\n",
       "       [2],\n",
       "       [2],\n",
       "       [2],\n",
       "       [2],\n",
       "       [2],\n",
       "       [2],\n",
       "       [2],\n",
       "       [2],\n",
       "       [2],\n",
       "       [2],\n",
       "       [2],\n",
       "       [2],\n",
       "       [2],\n",
       "       [2],\n",
       "       [2],\n",
       "       [2],\n",
       "       [2],\n",
       "       [1],\n",
       "       [1],\n",
       "       [1],\n",
       "       [1],\n",
       "       [1],\n",
       "       [1],\n",
       "       [1],\n",
       "       [1],\n",
       "       [1],\n",
       "       [1],\n",
       "       [1],\n",
       "       [1],\n",
       "       [1],\n",
       "       [1],\n",
       "       [1],\n",
       "       [1],\n",
       "       [1],\n",
       "       [1],\n",
       "       [1],\n",
       "       [1],\n",
       "       [1],\n",
       "       [1],\n",
       "       [1],\n",
       "       [1],\n",
       "       [1],\n",
       "       [1],\n",
       "       [1],\n",
       "       [1],\n",
       "       [1],\n",
       "       [1],\n",
       "       [1],\n",
       "       [1],\n",
       "       [1],\n",
       "       [1],\n",
       "       [1],\n",
       "       [1],\n",
       "       [1],\n",
       "       [1],\n",
       "       [1],\n",
       "       [1],\n",
       "       [1],\n",
       "       [1],\n",
       "       [1],\n",
       "       [1],\n",
       "       [1],\n",
       "       [1],\n",
       "       [1],\n",
       "       [1],\n",
       "       [1],\n",
       "       [1]])"
      ]
     },
     "execution_count": 18,
     "metadata": {},
     "output_type": "execute_result"
    }
   ],
   "source": [
    "\n",
    "y\n"
   ]
  },
  {
   "cell_type": "code",
   "execution_count": 19,
   "id": "38e397e2",
   "metadata": {},
   "outputs": [
    {
     "data": {
      "text/plain": [
       "array([0, 1, 2])"
      ]
     },
     "execution_count": 19,
     "metadata": {},
     "output_type": "execute_result"
    }
   ],
   "source": [
    "\n",
    "the_set = np.unique(y)\n",
    "\n",
    "the_set\n"
   ]
  },
  {
   "cell_type": "code",
   "execution_count": 20,
   "id": "4521bd18",
   "metadata": {},
   "outputs": [
    {
     "data": {
      "text/plain": [
       "3"
      ]
     },
     "execution_count": 20,
     "metadata": {},
     "output_type": "execute_result"
    }
   ],
   "source": [
    "\n",
    "len(  the_set  )\n"
   ]
  },
  {
   "cell_type": "code",
   "execution_count": 21,
   "id": "42b84d33",
   "metadata": {},
   "outputs": [
    {
     "data": {
      "image/png": "[encoded data removed]",
      "text/plain": [
       "<Figure size 640x480 with 1 Axes>"
      ]
     },
     "metadata": {},
     "output_type": "display_data"
    }
   ],
   "source": [
    "\n",
    "_ = plt.hist(y, bins='auto') \n",
    "\n",
    "plt.title(\"Histogram with 'auto' bins for Iris\")\n",
    "\n",
    "plt.show()\n"
   ]
  },
  {
   "cell_type": "code",
   "execution_count": 22,
   "id": "b4578a8d",
   "metadata": {},
   "outputs": [
    {
     "name": "stdout",
     "output_type": "stream",
     "text": [
      "(150, 4)\n",
      "(150, 1)\n"
     ]
    }
   ],
   "source": [
    "\n",
    "print(X.shape)\n",
    "\n",
    "print(y.shape)\n"
   ]
  },
  {
   "cell_type": "code",
   "execution_count": 23,
   "id": "7dd812be",
   "metadata": {},
   "outputs": [],
   "source": [
    "\n",
    "random_seed = int( random.random() * 100 )     ## 42\n"
   ]
  },
  {
   "cell_type": "code",
   "execution_count": 24,
   "id": "3586ec1c",
   "metadata": {},
   "outputs": [],
   "source": [
    "\n",
    "X_train, X_test, y_train, y_test = train_test_split(X, y, test_size=0.2, random_state=random_seed)\n"
   ]
  },
  {
   "cell_type": "code",
   "execution_count": 25,
   "id": "d9fb1b37",
   "metadata": {},
   "outputs": [
    {
     "name": "stdout",
     "output_type": "stream",
     "text": [
      "(120, 4)\n",
      "(30, 4)\n",
      "(120, 1)\n",
      "(30, 1)\n"
     ]
    }
   ],
   "source": [
    "\n",
    "print(X_train.shape)\n",
    "print(X_test.shape)\n",
    "print(y_train.shape)\n",
    "print(y_test.shape)\n"
   ]
  },
  {
   "cell_type": "code",
   "execution_count": 26,
   "id": "cc1ccce1",
   "metadata": {},
   "outputs": [
    {
     "data": {
      "text/plain": [
       "dtype('float64')"
      ]
     },
     "execution_count": 26,
     "metadata": {},
     "output_type": "execute_result"
    }
   ],
   "source": [
    "\n",
    "X_test.dtype \n"
   ]
  },
  {
   "cell_type": "code",
   "execution_count": 27,
   "id": "6ffee3fa",
   "metadata": {},
   "outputs": [
    {
     "data": {
      "text/plain": [
       "dtype('int32')"
      ]
     },
     "execution_count": 27,
     "metadata": {},
     "output_type": "execute_result"
    }
   ],
   "source": [
    "\n",
    "y_test.dtype\n"
   ]
  },
  {
   "cell_type": "code",
   "execution_count": 28,
   "id": "5d27f2f5",
   "metadata": {},
   "outputs": [],
   "source": [
    "\n",
    "X_train = X_train.astype(  np.float32  )\n",
    "X_test  = X_test.astype(   np.float32  )\n",
    "y_train = y_train.astype(  np.int64 )       ## np.long  \n",
    "y_test  = y_test.astype(   np.int64 )\n"
   ]
  },
  {
   "cell_type": "code",
   "execution_count": 29,
   "id": "0f744ed0",
   "metadata": {},
   "outputs": [
    {
     "data": {
      "text/plain": [
       "dtype('float32')"
      ]
     },
     "execution_count": 29,
     "metadata": {},
     "output_type": "execute_result"
    }
   ],
   "source": [
    "\n",
    "X_test.dtype \n"
   ]
  },
  {
   "cell_type": "code",
   "execution_count": 30,
   "id": "c44a20a9",
   "metadata": {},
   "outputs": [],
   "source": [
    "\n",
    "X_train_tr = torch.from_numpy(X_train)\n",
    "X_test_tr  = torch.from_numpy(X_test)\n",
    "y_train_tr = torch.from_numpy(y_train)\n",
    "y_test_tr  = torch.from_numpy(y_test)\n"
   ]
  },
  {
   "cell_type": "markdown",
   "id": "23455a65",
   "metadata": {},
   "source": [
    "\n",
    "## Standardization\n"
   ]
  },
  {
   "cell_type": "code",
   "execution_count": 31,
   "id": "40038918",
   "metadata": {},
   "outputs": [],
   "source": [
    "\n",
    "x_means      = X_train_tr.mean(0, keepdim=True ) \n",
    "\n",
    "x_deviations = X_train_tr.std( 0, keepdim=True) + epsilon\n"
   ]
  },
  {
   "cell_type": "code",
   "execution_count": 32,
   "id": "fe0ddbce",
   "metadata": {},
   "outputs": [
    {
     "data": {
      "text/plain": [
       "tensor([[5.8525, 3.0500, 3.8008, 1.2083]])"
      ]
     },
     "execution_count": 32,
     "metadata": {},
     "output_type": "execute_result"
    }
   ],
   "source": [
    "\n",
    "x_means\n"
   ]
  },
  {
   "cell_type": "code",
   "execution_count": 33,
   "id": "8ffaba69",
   "metadata": {},
   "outputs": [
    {
     "data": {
      "text/plain": [
       "torch.Size([1, 4])"
      ]
     },
     "execution_count": 33,
     "metadata": {},
     "output_type": "execute_result"
    }
   ],
   "source": [
    "\n",
    "x_means.shape\n"
   ]
  },
  {
   "cell_type": "code",
   "execution_count": 34,
   "id": "13f1a327",
   "metadata": {},
   "outputs": [
    {
     "data": {
      "text/plain": [
       "tensor([[0.8188, 0.4483, 1.7524, 0.7643]])"
      ]
     },
     "execution_count": 34,
     "metadata": {},
     "output_type": "execute_result"
    }
   ],
   "source": [
    "\n",
    "x_deviations\n"
   ]
  },
  {
   "cell_type": "code",
   "execution_count": 35,
   "id": "f35dc1a8",
   "metadata": {},
   "outputs": [
    {
     "data": {
      "text/plain": [
       "torch.Size([1, 4])"
      ]
     },
     "execution_count": 35,
     "metadata": {},
     "output_type": "execute_result"
    }
   ],
   "source": [
    "\n",
    "x_deviations.shape\n"
   ]
  },
  {
   "cell_type": "code",
   "execution_count": 36,
   "id": "10d21dbb",
   "metadata": {},
   "outputs": [],
   "source": [
    "\n",
    "X_train_tr_scaled = (X_train_tr - x_means) / x_deviations\n"
   ]
  },
  {
   "cell_type": "code",
   "execution_count": 37,
   "id": "615df9d3",
   "metadata": {},
   "outputs": [
    {
     "data": {
      "text/plain": [
       "torch.Size([120, 4])"
      ]
     },
     "execution_count": 37,
     "metadata": {},
     "output_type": "execute_result"
    }
   ],
   "source": [
    "\n",
    "X_train_tr_scaled.shape\n"
   ]
  },
  {
   "cell_type": "code",
   "execution_count": 39,
   "id": "8f46b5bd",
   "metadata": {},
   "outputs": [
    {
     "data": {
      "text/plain": [
       "tensor([[5.1000, 3.5000, 1.4000, 0.3000],\n",
       "        [5.5000, 2.4000, 3.7000, 1.0000],\n",
       "        [6.3000, 2.9000, 5.6000, 1.8000],\n",
       "        [5.5000, 4.2000, 1.4000, 0.2000],\n",
       "        [5.8000, 2.7000, 5.1000, 1.9000],\n",
       "        [5.7000, 4.4000, 1.5000, 0.4000],\n",
       "        [5.6000, 2.9000, 3.6000, 1.3000],\n",
       "        [5.5000, 2.4000, 3.8000, 1.1000],\n",
       "        [5.8000, 4.0000, 1.2000, 0.2000],\n",
       "        [6.0000, 2.2000, 4.0000, 1.0000],\n",
       "        [5.1000, 2.5000, 3.0000, 1.1000],\n",
       "        [5.0000, 3.4000, 1.6000, 0.4000],\n",
       "        [4.4000, 2.9000, 1.4000, 0.2000],\n",
       "        [5.1000, 3.8000, 1.5000, 0.3000],\n",
       "        [4.8000, 3.0000, 1.4000, 0.1000],\n",
       "        [5.4000, 3.7000, 1.5000, 0.2000],\n",
       "        [5.1000, 3.8000, 1.6000, 0.2000],\n",
       "        [5.5000, 3.5000, 1.3000, 0.2000],\n",
       "        [6.7000, 3.3000, 5.7000, 2.1000],\n",
       "        [5.0000, 3.4000, 1.5000, 0.2000],\n",
       "        [6.4000, 2.8000, 5.6000, 2.2000],\n",
       "        [6.0000, 3.4000, 4.5000, 1.6000],\n",
       "        [6.9000, 3.1000, 4.9000, 1.5000],\n",
       "        [6.1000, 2.9000, 4.7000, 1.4000],\n",
       "        [5.3000, 3.7000, 1.5000, 0.2000],\n",
       "        [6.4000, 2.7000, 5.3000, 1.9000],\n",
       "        [5.8000, 2.6000, 4.0000, 1.2000],\n",
       "        [6.1000, 3.0000, 4.6000, 1.4000],\n",
       "        [6.9000, 3.2000, 5.7000, 2.3000],\n",
       "        [4.9000, 3.1000, 1.5000, 0.1000],\n",
       "        [5.7000, 2.5000, 5.0000, 2.0000],\n",
       "        [5.4000, 3.9000, 1.7000, 0.4000],\n",
       "        [6.7000, 3.3000, 5.7000, 2.5000],\n",
       "        [4.9000, 2.5000, 4.5000, 1.7000],\n",
       "        [5.8000, 2.8000, 5.1000, 2.4000],\n",
       "        [6.0000, 3.0000, 4.8000, 1.8000],\n",
       "        [6.7000, 3.1000, 4.7000, 1.5000],\n",
       "        [4.9000, 2.4000, 3.3000, 1.0000],\n",
       "        [5.0000, 2.3000, 3.3000, 1.0000],\n",
       "        [6.0000, 2.7000, 5.1000, 1.6000],\n",
       "        [7.6000, 3.0000, 6.6000, 2.1000],\n",
       "        [5.1000, 3.5000, 1.4000, 0.2000],\n",
       "        [6.7000, 3.1000, 5.6000, 2.4000],\n",
       "        [7.9000, 3.8000, 6.4000, 2.0000],\n",
       "        [4.9000, 3.1000, 1.5000, 0.1000],\n",
       "        [5.6000, 2.7000, 4.2000, 1.3000],\n",
       "        [5.7000, 3.8000, 1.7000, 0.3000],\n",
       "        [6.4000, 3.2000, 5.3000, 2.3000],\n",
       "        [7.7000, 2.8000, 6.7000, 2.0000],\n",
       "        [5.0000, 3.5000, 1.6000, 0.6000],\n",
       "        [6.4000, 3.2000, 4.5000, 1.5000],\n",
       "        [5.6000, 2.5000, 3.9000, 1.1000],\n",
       "        [4.7000, 3.2000, 1.6000, 0.2000],\n",
       "        [5.4000, 3.4000, 1.7000, 0.2000],\n",
       "        [6.3000, 2.3000, 4.4000, 1.3000],\n",
       "        [5.7000, 2.8000, 4.5000, 1.3000],\n",
       "        [6.5000, 2.8000, 4.6000, 1.5000],\n",
       "        [5.4000, 3.0000, 4.5000, 1.5000],\n",
       "        [6.4000, 3.1000, 5.5000, 1.8000],\n",
       "        [6.6000, 2.9000, 4.6000, 1.3000],\n",
       "        [6.9000, 3.1000, 5.4000, 2.1000],\n",
       "        [5.2000, 3.4000, 1.4000, 0.2000],\n",
       "        [4.7000, 3.2000, 1.3000, 0.2000],\n",
       "        [5.8000, 2.7000, 4.1000, 1.0000],\n",
       "        [5.7000, 3.0000, 4.2000, 1.2000],\n",
       "        [5.9000, 3.2000, 4.8000, 1.8000],\n",
       "        [4.4000, 3.2000, 1.3000, 0.2000],\n",
       "        [5.6000, 2.8000, 4.9000, 2.0000],\n",
       "        [5.0000, 2.0000, 3.5000, 1.0000],\n",
       "        [4.6000, 3.2000, 1.4000, 0.2000],\n",
       "        [7.1000, 3.0000, 5.9000, 2.1000],\n",
       "        [6.3000, 3.4000, 5.6000, 2.4000],\n",
       "        [5.5000, 2.3000, 4.0000, 1.3000],\n",
       "        [6.1000, 3.0000, 4.9000, 1.8000],\n",
       "        [5.9000, 3.0000, 5.1000, 1.8000],\n",
       "        [4.9000, 3.1000, 1.5000, 0.1000],\n",
       "        [5.1000, 3.8000, 1.9000, 0.4000],\n",
       "        [7.3000, 2.9000, 6.3000, 1.8000],\n",
       "        [6.7000, 3.1000, 4.4000, 1.4000],\n",
       "        [6.2000, 2.2000, 4.5000, 1.5000],\n",
       "        [7.2000, 3.0000, 5.8000, 1.6000],\n",
       "        [5.0000, 3.6000, 1.4000, 0.2000],\n",
       "        [6.3000, 3.3000, 4.7000, 1.6000],\n",
       "        [6.2000, 2.9000, 4.3000, 1.3000],\n",
       "        [5.0000, 3.0000, 1.6000, 0.2000],\n",
       "        [5.7000, 2.6000, 3.5000, 1.0000],\n",
       "        [5.6000, 3.0000, 4.1000, 1.3000],\n",
       "        [6.5000, 3.0000, 5.2000, 2.0000],\n",
       "        [5.8000, 2.7000, 5.1000, 1.9000],\n",
       "        [5.2000, 2.7000, 3.9000, 1.4000],\n",
       "        [5.2000, 3.5000, 1.5000, 0.2000],\n",
       "        [6.5000, 3.2000, 5.1000, 2.0000],\n",
       "        [5.2000, 4.1000, 1.5000, 0.1000],\n",
       "        [6.8000, 3.0000, 5.5000, 2.1000],\n",
       "        [4.8000, 3.1000, 1.6000, 0.2000],\n",
       "        [4.8000, 3.0000, 1.4000, 0.3000],\n",
       "        [6.1000, 2.8000, 4.7000, 1.2000],\n",
       "        [7.2000, 3.6000, 6.1000, 2.5000],\n",
       "        [6.3000, 2.7000, 4.9000, 1.8000],\n",
       "        [5.7000, 2.9000, 4.2000, 1.3000],\n",
       "        [6.0000, 2.2000, 5.0000, 1.5000],\n",
       "        [6.3000, 3.3000, 6.0000, 2.5000],\n",
       "        [5.0000, 3.2000, 1.2000, 0.2000],\n",
       "        [5.5000, 2.5000, 4.0000, 1.3000],\n",
       "        [5.8000, 2.7000, 3.9000, 1.2000],\n",
       "        [4.3000, 3.0000, 1.1000, 0.1000],\n",
       "        [6.5000, 3.0000, 5.8000, 2.2000],\n",
       "        [7.7000, 3.8000, 6.7000, 2.2000],\n",
       "        [6.4000, 2.8000, 5.6000, 2.1000],\n",
       "        [6.4000, 2.9000, 4.3000, 1.3000],\n",
       "        [7.7000, 2.6000, 6.9000, 2.3000],\n",
       "        [6.9000, 3.1000, 5.1000, 2.3000],\n",
       "        [6.3000, 2.8000, 5.1000, 1.5000],\n",
       "        [5.0000, 3.3000, 1.4000, 0.2000],\n",
       "        [4.6000, 3.6000, 1.0000, 0.2000],\n",
       "        [6.8000, 2.8000, 4.8000, 1.4000],\n",
       "        [4.6000, 3.1000, 1.5000, 0.2000],\n",
       "        [7.4000, 2.8000, 6.1000, 1.9000],\n",
       "        [6.1000, 2.6000, 5.6000, 1.4000],\n",
       "        [6.6000, 3.0000, 4.4000, 1.4000]])"
      ]
     },
     "execution_count": 39,
     "metadata": {},
     "output_type": "execute_result"
    }
   ],
   "source": [
    "\n",
    "X_train_tr\n"
   ]
  },
  {
   "cell_type": "code",
   "execution_count": 38,
   "id": "ea506d94",
   "metadata": {},
   "outputs": [
    {
     "data": {
      "text/plain": [
       "tensor([[-9.1904e-01,  1.0039e+00, -1.3700e+00, -1.1885e+00],\n",
       "        [-4.3052e-01, -1.4501e+00, -5.7541e-02, -2.7259e-01],\n",
       "        [ 5.4654e-01, -3.3463e-01,  1.0267e+00,  7.7415e-01],\n",
       "        [-4.3052e-01,  2.5655e+00, -1.3700e+00, -1.3193e+00],\n",
       "        [-6.4119e-02, -7.8081e-01,  7.4137e-01,  9.0500e-01],\n",
       "        [-1.8625e-01,  3.0117e+00, -1.3130e+00, -1.0576e+00],\n",
       "        [-3.0838e-01, -3.3463e-01, -1.1461e-01,  1.1994e-01],\n",
       "        [-4.3052e-01, -1.4501e+00, -4.7564e-04, -1.4175e-01],\n",
       "        [-6.4119e-02,  2.1193e+00, -1.4842e+00, -1.3193e+00],\n",
       "        [ 1.8014e-01, -1.8963e+00,  1.1365e-01, -2.7259e-01],\n",
       "        [-9.1904e-01, -1.2270e+00, -4.5700e-01, -1.4175e-01],\n",
       "        [-1.0412e+00,  7.8081e-01, -1.2559e+00, -1.0576e+00],\n",
       "        [-1.7740e+00, -3.3463e-01, -1.3700e+00, -1.3193e+00],\n",
       "        [-9.1904e-01,  1.6732e+00, -1.3130e+00, -1.1885e+00],\n",
       "        [-1.2854e+00, -1.1154e-01, -1.3700e+00, -1.4502e+00],\n",
       "        [-5.5265e-01,  1.4501e+00, -1.3130e+00, -1.3193e+00],\n",
       "        [-9.1904e-01,  1.6732e+00, -1.2559e+00, -1.3193e+00],\n",
       "        [-4.3052e-01,  1.0039e+00, -1.4271e+00, -1.3193e+00],\n",
       "        [ 1.0351e+00,  5.5772e-01,  1.0838e+00,  1.1667e+00],\n",
       "        [-1.0412e+00,  7.8081e-01, -1.3130e+00, -1.3193e+00],\n",
       "        [ 6.6867e-01, -5.5772e-01,  1.0267e+00,  1.2975e+00],\n",
       "        [ 1.8014e-01,  7.8081e-01,  3.9898e-01,  5.1247e-01],\n",
       "        [ 1.2793e+00,  1.1154e-01,  6.2724e-01,  3.8163e-01],\n",
       "        [ 3.0228e-01, -3.3463e-01,  5.1311e-01,  2.5078e-01],\n",
       "        [-6.7478e-01,  1.4501e+00, -1.3130e+00, -1.3193e+00],\n",
       "        [ 6.6867e-01, -7.8081e-01,  8.5550e-01,  9.0500e-01],\n",
       "        [-6.4119e-02, -1.0039e+00,  1.1365e-01, -1.0904e-02],\n",
       "        [ 3.0228e-01, -1.1154e-01,  4.5604e-01,  2.5078e-01],\n",
       "        [ 1.2793e+00,  3.3463e-01,  1.0838e+00,  1.4284e+00],\n",
       "        [-1.1633e+00,  1.1154e-01, -1.3130e+00, -1.4502e+00],\n",
       "        [-1.8625e-01, -1.2270e+00,  6.8431e-01,  1.0358e+00],\n",
       "        [-5.5265e-01,  1.8963e+00, -1.1988e+00, -1.0576e+00],\n",
       "        [ 1.0351e+00,  5.5772e-01,  1.0838e+00,  1.6901e+00],\n",
       "        [-1.1633e+00, -1.2270e+00,  3.9898e-01,  6.4331e-01],\n",
       "        [-6.4119e-02, -5.5772e-01,  7.4137e-01,  1.5592e+00],\n",
       "        [ 1.8014e-01, -1.1154e-01,  5.7018e-01,  7.7415e-01],\n",
       "        [ 1.0351e+00,  1.1154e-01,  5.1311e-01,  3.8163e-01],\n",
       "        [-1.1633e+00, -1.4501e+00, -2.8580e-01, -2.7259e-01],\n",
       "        [-1.0412e+00, -1.6732e+00, -2.8580e-01, -2.7259e-01],\n",
       "        [ 1.8014e-01, -7.8081e-01,  7.4137e-01,  5.1247e-01],\n",
       "        [ 2.1343e+00, -1.1154e-01,  1.5973e+00,  1.1667e+00],\n",
       "        [-9.1904e-01,  1.0039e+00, -1.3700e+00, -1.3193e+00],\n",
       "        [ 1.0351e+00,  1.1154e-01,  1.0267e+00,  1.5592e+00],\n",
       "        [ 2.5007e+00,  1.6732e+00,  1.4832e+00,  1.0358e+00],\n",
       "        [-1.1633e+00,  1.1154e-01, -1.3130e+00, -1.4502e+00],\n",
       "        [-3.0838e-01, -7.8081e-01,  2.2778e-01,  1.1994e-01],\n",
       "        [-1.8625e-01,  1.6732e+00, -1.1988e+00, -1.1885e+00],\n",
       "        [ 6.6867e-01,  3.3463e-01,  8.5550e-01,  1.4284e+00],\n",
       "        [ 2.2564e+00, -5.5772e-01,  1.6544e+00,  1.0358e+00],\n",
       "        [-1.0412e+00,  1.0039e+00, -1.2559e+00, -7.9596e-01],\n",
       "        [ 6.6867e-01,  3.3463e-01,  3.9898e-01,  3.8163e-01],\n",
       "        [-3.0838e-01, -1.2270e+00,  5.6590e-02, -1.4175e-01],\n",
       "        [-1.4076e+00,  3.3463e-01, -1.2559e+00, -1.3193e+00],\n",
       "        [-5.5265e-01,  7.8081e-01, -1.1988e+00, -1.3193e+00],\n",
       "        [ 5.4654e-01, -1.6732e+00,  3.4191e-01,  1.1994e-01],\n",
       "        [-1.8625e-01, -5.5772e-01,  3.9898e-01,  1.1994e-01],\n",
       "        [ 7.9081e-01, -5.5772e-01,  4.5604e-01,  3.8163e-01],\n",
       "        [-5.5265e-01, -1.1154e-01,  3.9898e-01,  3.8163e-01],\n",
       "        [ 6.6867e-01,  1.1154e-01,  9.6963e-01,  7.7415e-01],\n",
       "        [ 9.1294e-01, -3.3463e-01,  4.5604e-01,  1.1994e-01],\n",
       "        [ 1.2793e+00,  1.1154e-01,  9.1257e-01,  1.1667e+00],\n",
       "        [-7.9691e-01,  7.8081e-01, -1.3700e+00, -1.3193e+00],\n",
       "        [-1.4076e+00,  3.3463e-01, -1.4271e+00, -1.3193e+00],\n",
       "        [-6.4119e-02, -7.8081e-01,  1.7072e-01, -2.7259e-01],\n",
       "        [-1.8625e-01, -1.1154e-01,  2.2778e-01, -1.0904e-02],\n",
       "        [ 5.8013e-02,  3.3463e-01,  5.7018e-01,  7.7415e-01],\n",
       "        [-1.7740e+00,  3.3463e-01, -1.4271e+00, -1.3193e+00],\n",
       "        [-3.0838e-01, -5.5772e-01,  6.2724e-01,  1.0358e+00],\n",
       "        [-1.0412e+00, -2.3424e+00, -1.7167e-01, -2.7259e-01],\n",
       "        [-1.5297e+00,  3.3463e-01, -1.3700e+00, -1.3193e+00],\n",
       "        [ 1.5236e+00, -1.1154e-01,  1.1979e+00,  1.1667e+00],\n",
       "        [ 5.4654e-01,  7.8081e-01,  1.0267e+00,  1.5592e+00],\n",
       "        [-4.3052e-01, -1.6732e+00,  1.1365e-01,  1.1994e-01],\n",
       "        [ 3.0228e-01, -1.1154e-01,  6.2724e-01,  7.7415e-01],\n",
       "        [ 5.8013e-02, -1.1154e-01,  7.4137e-01,  7.7415e-01],\n",
       "        [-1.1633e+00,  1.1154e-01, -1.3130e+00, -1.4502e+00],\n",
       "        [-9.1904e-01,  1.6732e+00, -1.0847e+00, -1.0576e+00],\n",
       "        [ 1.7679e+00, -3.3463e-01,  1.4262e+00,  7.7415e-01],\n",
       "        [ 1.0351e+00,  1.1154e-01,  3.4191e-01,  2.5078e-01],\n",
       "        [ 4.2441e-01, -1.8963e+00,  3.9898e-01,  3.8163e-01],\n",
       "        [ 1.6457e+00, -1.1154e-01,  1.1408e+00,  5.1247e-01],\n",
       "        [-1.0412e+00,  1.2270e+00, -1.3700e+00, -1.3193e+00],\n",
       "        [ 5.4654e-01,  5.5772e-01,  5.1311e-01,  5.1247e-01],\n",
       "        [ 4.2441e-01, -3.3463e-01,  2.8485e-01,  1.1994e-01],\n",
       "        [-1.0412e+00, -1.1154e-01, -1.2559e+00, -1.3193e+00],\n",
       "        [-1.8625e-01, -1.0039e+00, -1.7167e-01, -2.7259e-01],\n",
       "        [-3.0838e-01, -1.1154e-01,  1.7072e-01,  1.1994e-01],\n",
       "        [ 7.9081e-01, -1.1154e-01,  7.9844e-01,  1.0358e+00],\n",
       "        [-6.4119e-02, -7.8081e-01,  7.4137e-01,  9.0500e-01],\n",
       "        [-7.9691e-01, -7.8081e-01,  5.6590e-02,  2.5078e-01],\n",
       "        [-7.9691e-01,  1.0039e+00, -1.3130e+00, -1.3193e+00],\n",
       "        [ 7.9081e-01,  3.3463e-01,  7.4137e-01,  1.0358e+00],\n",
       "        [-7.9691e-01,  2.3424e+00, -1.3130e+00, -1.4502e+00],\n",
       "        [ 1.1572e+00, -1.1154e-01,  9.6963e-01,  1.1667e+00],\n",
       "        [-1.2854e+00,  1.1154e-01, -1.2559e+00, -1.3193e+00],\n",
       "        [-1.2854e+00, -1.1154e-01, -1.3700e+00, -1.1885e+00],\n",
       "        [ 3.0228e-01, -5.5772e-01,  5.1311e-01, -1.0904e-02],\n",
       "        [ 1.6457e+00,  1.2270e+00,  1.3120e+00,  1.6901e+00],\n",
       "        [ 5.4654e-01, -7.8081e-01,  6.2724e-01,  7.7415e-01],\n",
       "        [-1.8625e-01, -3.3463e-01,  2.2778e-01,  1.1994e-01],\n",
       "        [ 1.8014e-01, -1.8963e+00,  6.8431e-01,  3.8163e-01],\n",
       "        [ 5.4654e-01,  5.5772e-01,  1.2550e+00,  1.6901e+00],\n",
       "        [-1.0412e+00,  3.3463e-01, -1.4842e+00, -1.3193e+00],\n",
       "        [-4.3052e-01, -1.2270e+00,  1.1365e-01,  1.1994e-01],\n",
       "        [-6.4119e-02, -7.8081e-01,  5.6590e-02, -1.0904e-02],\n",
       "        [-1.8961e+00, -1.1154e-01, -1.5412e+00, -1.4502e+00],\n",
       "        [ 7.9081e-01, -1.1154e-01,  1.1408e+00,  1.2975e+00],\n",
       "        [ 2.2564e+00,  1.6732e+00,  1.6544e+00,  1.2975e+00],\n",
       "        [ 6.6867e-01, -5.5772e-01,  1.0267e+00,  1.1667e+00],\n",
       "        [ 6.6867e-01, -3.3463e-01,  2.8485e-01,  1.1994e-01],\n",
       "        [ 2.2564e+00, -1.0039e+00,  1.7685e+00,  1.4284e+00],\n",
       "        [ 1.2793e+00,  1.1154e-01,  7.4137e-01,  1.4284e+00],\n",
       "        [ 5.4654e-01, -5.5772e-01,  7.4137e-01,  3.8163e-01],\n",
       "        [-1.0412e+00,  5.5772e-01, -1.3700e+00, -1.3193e+00],\n",
       "        [-1.5297e+00,  1.2270e+00, -1.5983e+00, -1.3193e+00],\n",
       "        [ 1.1572e+00, -5.5772e-01,  5.7018e-01,  2.5078e-01],\n",
       "        [-1.5297e+00,  1.1154e-01, -1.3130e+00, -1.3193e+00],\n",
       "        [ 1.8900e+00, -5.5772e-01,  1.3120e+00,  9.0500e-01],\n",
       "        [ 3.0228e-01, -1.0039e+00,  1.0267e+00,  2.5078e-01],\n",
       "        [ 9.1294e-01, -1.1154e-01,  3.4191e-01,  2.5078e-01]])"
      ]
     },
     "execution_count": 38,
     "metadata": {},
     "output_type": "execute_result"
    }
   ],
   "source": [
    "\n",
    "X_train_tr_scaled\n"
   ]
  },
  {
   "cell_type": "markdown",
   "id": "a26fef86",
   "metadata": {},
   "source": [
    "\n",
    "## Dataloader\n"
   ]
  },
  {
   "cell_type": "code",
   "execution_count": 40,
   "id": "bb66a451",
   "metadata": {},
   "outputs": [
    {
     "data": {
      "text/plain": [
       "120"
      ]
     },
     "execution_count": 40,
     "metadata": {},
     "output_type": "execute_result"
    }
   ],
   "source": [
    "\n",
    "X_train.shape[0]\n"
   ]
  },
  {
   "cell_type": "code",
   "execution_count": 41,
   "id": "6ae420f1",
   "metadata": {},
   "outputs": [],
   "source": [
    "\n",
    "iris_train_list = [  ( X_train_tr[i],  y_train_tr[i].item()  )  for i in range( X_train.shape[0] ) ]\n",
    "\n",
    "iris_test_list  = [  ( X_test_tr[i],   y_test_tr[i].item()   )  for i in range( X_test.shape[0]  ) ]\n"
   ]
  },
  {
   "cell_type": "code",
   "execution_count": 42,
   "id": "7270869f",
   "metadata": {},
   "outputs": [
    {
     "data": {
      "text/plain": [
       "[(tensor([5.1000, 3.5000, 1.4000, 0.3000]), 0),\n",
       " (tensor([5.5000, 2.4000, 3.7000, 1.0000]), 2),\n",
       " (tensor([6.3000, 2.9000, 5.6000, 1.8000]), 1)]"
      ]
     },
     "execution_count": 42,
     "metadata": {},
     "output_type": "execute_result"
    }
   ],
   "source": [
    "\n",
    "\n",
    "iris_train_list[:3] \n",
    "\n",
    "\n"
   ]
  },
  {
   "cell_type": "code",
   "execution_count": 43,
   "id": "ca0d29e3",
   "metadata": {},
   "outputs": [],
   "source": [
    "\n",
    "train_dl = torch.utils.data.DataLoader( iris_train_list, batch_size=batch_size, shuffle=True )\n"
   ]
  },
  {
   "cell_type": "code",
   "execution_count": 44,
   "id": "5a218bd9",
   "metadata": {},
   "outputs": [],
   "source": [
    "\n",
    "all_test_data = X_test.shape[0]\n",
    "\n",
    "test_dl  = torch.utils.data.DataLoader(iris_test_list,  batch_size=all_test_data, shuffle=True)\n"
   ]
  },
  {
   "cell_type": "code",
   "execution_count": 45,
   "id": "48464906",
   "metadata": {},
   "outputs": [
    {
     "data": {
      "text/plain": [
       "<torch.utils.data.dataloader.DataLoader at 0x1b53c625548>"
      ]
     },
     "execution_count": 45,
     "metadata": {},
     "output_type": "execute_result"
    }
   ],
   "source": [
    "\n",
    "train_dl\n"
   ]
  },
  {
   "cell_type": "markdown",
   "id": "d00b2fd3",
   "metadata": {},
   "source": [
    "\n",
    "\n",
    "## Neural Network Architectures\n"
   ]
  },
  {
   "cell_type": "code",
   "execution_count": 47,
   "id": "15b120dd",
   "metadata": {},
   "outputs": [],
   "source": [
    "\n",
    "## MLP\n",
    "\n",
    "class MLP_Net(nn.Module):\n",
    "    ## init the class\n",
    "    def __init__(self, x_means, x_deviations):\n",
    "        super().__init__()\n",
    "        \n",
    "        self.x_means      = x_means\n",
    "        self.x_deviations = x_deviations\n",
    "        \n",
    "        self.linear1 = nn.Linear(4, 4)\n",
    "        self.act1    = nn.Sigmoid()\n",
    "        self.linear2 = nn.Linear(4, 3)\n",
    "        self.act2    = nn.Softmax(dim=1)\n",
    "        self.dropout = nn.Dropout(0.25)\n",
    "        \n",
    "        \n",
    "    ## perform inference\n",
    "    def forward(self,  x ):\n",
    "        \n",
    "        ## x      = (x - self.x_means) / self.x_deviations\n",
    "        \n",
    "        x      = self.linear1(x)\n",
    "        x      = self.act1(x)\n",
    "        ## x      = self.dropout(x)\n",
    "        x      = self.linear2(x)\n",
    "        y_pred = self.act2(x)\n",
    "        \n",
    "        return y_pred\n"
   ]
  },
  {
   "cell_type": "markdown",
   "id": "6f690a48",
   "metadata": {},
   "source": [
    "\n",
    "## Training Loop\n"
   ]
  },
  {
   "cell_type": "code",
   "execution_count": 48,
   "id": "a80fd546",
   "metadata": {},
   "outputs": [],
   "source": [
    "\n",
    "def training_loop( N_Epochs, model, loss_fn, opt  ):\n",
    "    \n",
    "    for epoch in range(N_Epochs):\n",
    "        for xb, yb in train_dl:\n",
    "            \n",
    "            ## yb = torch.squeeze(yb, dim=1)\n",
    "            \n",
    "            y_pred = model(xb)\n",
    "            ## print(    yb.shape   )\n",
    "            ## print( y_pred.shape  )\n",
    "            loss   = loss_fn(y_pred, yb)\n",
    "            \n",
    "            opt.zero_grad()\n",
    "            loss.backward()\n",
    "            opt.step()\n",
    "            \n",
    "        if epoch % 50 == 0:\n",
    "            print(epoch, \"loss=\", loss)\n",
    "            \n"
   ]
  },
  {
   "cell_type": "markdown",
   "id": "10beaa6c",
   "metadata": {},
   "source": [
    "\n",
    "## Core Functions for MLP\n"
   ]
  },
  {
   "cell_type": "code",
   "execution_count": 49,
   "id": "d69ef561",
   "metadata": {},
   "outputs": [
    {
     "name": "stdout",
     "output_type": "stream",
     "text": [
      "0 loss= tensor(1.0980, grad_fn=<NllLossBackward0>)\n",
      "50 loss= tensor(0.9767, grad_fn=<NllLossBackward0>)\n",
      "100 loss= tensor(0.7154, grad_fn=<NllLossBackward0>)\n",
      "150 loss= tensor(0.6504, grad_fn=<NllLossBackward0>)\n",
      "200 loss= tensor(0.6599, grad_fn=<NllLossBackward0>)\n",
      "250 loss= tensor(0.6383, grad_fn=<NllLossBackward0>)\n",
      "300 loss= tensor(0.6053, grad_fn=<NllLossBackward0>)\n",
      "350 loss= tensor(0.5748, grad_fn=<NllLossBackward0>)\n",
      "400 loss= tensor(0.5645, grad_fn=<NllLossBackward0>)\n",
      "450 loss= tensor(0.6217, grad_fn=<NllLossBackward0>)\n",
      "500 loss= tensor(0.6076, grad_fn=<NllLossBackward0>)\n",
      "550 loss= tensor(0.5566, grad_fn=<NllLossBackward0>)\n",
      "600 loss= tensor(0.6656, grad_fn=<NllLossBackward0>)\n",
      "650 loss= tensor(0.5717, grad_fn=<NllLossBackward0>)\n",
      "700 loss= tensor(0.5555, grad_fn=<NllLossBackward0>)\n",
      "750 loss= tensor(0.5571, grad_fn=<NllLossBackward0>)\n",
      "800 loss= tensor(0.5525, grad_fn=<NllLossBackward0>)\n",
      "850 loss= tensor(0.6744, grad_fn=<NllLossBackward0>)\n",
      "900 loss= tensor(0.6708, grad_fn=<NllLossBackward0>)\n",
      "950 loss= tensor(0.5528, grad_fn=<NllLossBackward0>)\n",
      "1000 loss= tensor(0.5971, grad_fn=<NllLossBackward0>)\n",
      "1050 loss= tensor(0.5636, grad_fn=<NllLossBackward0>)\n",
      "1100 loss= tensor(0.6792, grad_fn=<NllLossBackward0>)\n",
      "1150 loss= tensor(0.6036, grad_fn=<NllLossBackward0>)\n",
      "1200 loss= tensor(0.5744, grad_fn=<NllLossBackward0>)\n",
      "1250 loss= tensor(0.5520, grad_fn=<NllLossBackward0>)\n",
      "1300 loss= tensor(0.5529, grad_fn=<NllLossBackward0>)\n",
      "1350 loss= tensor(0.5522, grad_fn=<NllLossBackward0>)\n",
      "1400 loss= tensor(0.5693, grad_fn=<NllLossBackward0>)\n",
      "1450 loss= tensor(0.5746, grad_fn=<NllLossBackward0>)\n",
      "1500 loss= tensor(0.7093, grad_fn=<NllLossBackward0>)\n",
      "1550 loss= tensor(0.5516, grad_fn=<NllLossBackward0>)\n",
      "1600 loss= tensor(0.6738, grad_fn=<NllLossBackward0>)\n",
      "1650 loss= tensor(0.5522, grad_fn=<NllLossBackward0>)\n",
      "1700 loss= tensor(0.5530, grad_fn=<NllLossBackward0>)\n",
      "1750 loss= tensor(0.5779, grad_fn=<NllLossBackward0>)\n",
      "1800 loss= tensor(0.5519, grad_fn=<NllLossBackward0>)\n",
      "1850 loss= tensor(0.5518, grad_fn=<NllLossBackward0>)\n",
      "1900 loss= tensor(0.5518, grad_fn=<NllLossBackward0>)\n",
      "1950 loss= tensor(0.5517, grad_fn=<NllLossBackward0>)\n",
      "2000 loss= tensor(0.6746, grad_fn=<NllLossBackward0>)\n",
      "2050 loss= tensor(0.5534, grad_fn=<NllLossBackward0>)\n",
      "2100 loss= tensor(0.5518, grad_fn=<NllLossBackward0>)\n",
      "2150 loss= tensor(0.5515, grad_fn=<NllLossBackward0>)\n",
      "2200 loss= tensor(0.5523, grad_fn=<NllLossBackward0>)\n",
      "2250 loss= tensor(0.6008, grad_fn=<NllLossBackward0>)\n",
      "2300 loss= tensor(0.5515, grad_fn=<NllLossBackward0>)\n",
      "2350 loss= tensor(0.5608, grad_fn=<NllLossBackward0>)\n",
      "2400 loss= tensor(0.5516, grad_fn=<NllLossBackward0>)\n",
      "2450 loss= tensor(0.5941, grad_fn=<NllLossBackward0>)\n",
      "2500 loss= tensor(0.5631, grad_fn=<NllLossBackward0>)\n",
      "2550 loss= tensor(0.5516, grad_fn=<NllLossBackward0>)\n",
      "2600 loss= tensor(0.7284, grad_fn=<NllLossBackward0>)\n",
      "2650 loss= tensor(0.5522, grad_fn=<NllLossBackward0>)\n",
      "2700 loss= tensor(0.5605, grad_fn=<NllLossBackward0>)\n",
      "2750 loss= tensor(0.5556, grad_fn=<NllLossBackward0>)\n",
      "2800 loss= tensor(0.5514, grad_fn=<NllLossBackward0>)\n",
      "2850 loss= tensor(0.6925, grad_fn=<NllLossBackward0>)\n",
      "2900 loss= tensor(0.5514, grad_fn=<NllLossBackward0>)\n",
      "2950 loss= tensor(0.5531, grad_fn=<NllLossBackward0>)\n",
      "3000 loss= tensor(0.6761, grad_fn=<NllLossBackward0>)\n",
      "3050 loss= tensor(0.5514, grad_fn=<NllLossBackward0>)\n",
      "3100 loss= tensor(0.5514, grad_fn=<NllLossBackward0>)\n",
      "3150 loss= tensor(0.5515, grad_fn=<NllLossBackward0>)\n",
      "3200 loss= tensor(0.5515, grad_fn=<NllLossBackward0>)\n",
      "3250 loss= tensor(0.5517, grad_fn=<NllLossBackward0>)\n",
      "3300 loss= tensor(0.5930, grad_fn=<NllLossBackward0>)\n",
      "3350 loss= tensor(0.5540, grad_fn=<NllLossBackward0>)\n",
      "3400 loss= tensor(0.5515, grad_fn=<NllLossBackward0>)\n",
      "3450 loss= tensor(0.5589, grad_fn=<NllLossBackward0>)\n",
      "3500 loss= tensor(0.5515, grad_fn=<NllLossBackward0>)\n",
      "3550 loss= tensor(0.5530, grad_fn=<NllLossBackward0>)\n",
      "3600 loss= tensor(0.5515, grad_fn=<NllLossBackward0>)\n",
      "3650 loss= tensor(0.5515, grad_fn=<NllLossBackward0>)\n",
      "3700 loss= tensor(0.5514, grad_fn=<NllLossBackward0>)\n",
      "3750 loss= tensor(0.5529, grad_fn=<NllLossBackward0>)\n",
      "3800 loss= tensor(0.5524, grad_fn=<NllLossBackward0>)\n",
      "3850 loss= tensor(0.7001, grad_fn=<NllLossBackward0>)\n",
      "3900 loss= tensor(0.5514, grad_fn=<NllLossBackward0>)\n",
      "3950 loss= tensor(0.5531, grad_fn=<NllLossBackward0>)\n"
     ]
    }
   ],
   "source": [
    "\n",
    "model      = MLP_Net( x_means, x_deviations  )\n",
    "\n",
    "opt        = torch.optim.Adam(    model.parameters(), lr=learning_rate )\n",
    "\n",
    "## the y_test data can be integers and does not need to be one hot encoded with this function\n",
    "loss_fn    = nn.CrossEntropyLoss( )   \n",
    "\n",
    "training_loop(  N_Epochs, model, loss_fn, opt  )\n"
   ]
  },
  {
   "cell_type": "code",
   "execution_count": 51,
   "id": "7d7757bc",
   "metadata": {},
   "outputs": [],
   "source": [
    "\n",
    "def print_metrics_function(y_test, y_pred):\n",
    "    print('Accuracy: %.2f' % accuracy_score(y_test, y_pred))\n",
    "    confmat = confusion_matrix(y_true=y_test, y_pred=y_pred)\n",
    "    print(\"Confusion Matrix:\")\n",
    "    print(confmat)\n",
    "    print('Precision: %.3f' % precision_score(y_true=y_test, y_pred=y_pred, average='weighted'))\n",
    "    print('Recall: %.3f' % recall_score(y_true=y_test, y_pred=y_pred, average='weighted'))\n",
    "    print('F1-measure: %.3f' % f1_score(y_true=y_test, y_pred=y_pred, average='weighted'))\n"
   ]
  },
  {
   "cell_type": "code",
   "execution_count": 52,
   "id": "904d95a4",
   "metadata": {},
   "outputs": [
    {
     "name": "stdout",
     "output_type": "stream",
     "text": [
      "Accuracy: 0.97\n",
      "Confusion Matrix:\n",
      "[[12  0  0]\n",
      " [ 0  9  0]\n",
      " [ 0  1  8]]\n",
      "Precision: 0.970\n",
      "Recall: 0.967\n",
      "F1-measure: 0.967\n"
     ]
    }
   ],
   "source": [
    "\n",
    "with torch.no_grad():\n",
    "    for x_real, y_real in test_dl:\n",
    "        ## batch_size = imgs.shape[0]\n",
    "        y_pred = model(  x_real  )\n",
    "        vals, indeces = torch.max( y_pred, dim=1  )\n",
    "        preds = indeces\n",
    "        print_metrics_function(y_real, preds)\n"
   ]
  },
  {
   "cell_type": "markdown",
   "id": "c56a7223",
   "metadata": {},
   "source": [
    "\n",
    "## DL Net (Deep Neural Net)\n"
   ]
  },
  {
   "cell_type": "code",
   "execution_count": 53,
   "id": "49079804",
   "metadata": {},
   "outputs": [],
   "source": [
    "\n",
    "## Deep Learning with 2 hidden layers\n",
    "\n",
    "class DL_Net( nn.Module ):\n",
    "    \n",
    "    def __init__(self, x_means, x_deviations):\n",
    "        super().__init__()\n",
    "        \n",
    "        self.x_means      = x_means\n",
    "        self.x_deviations = x_deviations\n",
    "        \n",
    "        self.linear1 = nn.Linear(4, 15)\n",
    "        self.act1    = nn.ReLU()\n",
    "        self.linear2 = nn.Linear(15, 9)\n",
    "        self.act2    = nn.ReLU()\n",
    "        self.linear3 = nn.Linear(9, 3)\n",
    "        self.act3    = nn.Softmax(dim=1)\n",
    "        self.dropout = nn.Dropout(0.25)\n",
    "        \n",
    "    ## perform inference\n",
    "    def forward(self, x):\n",
    "        \n",
    "        x      = (x - self.x_means) / self.x_deviations\n",
    "        \n",
    "        x      = self.linear1(x)\n",
    "        x      = self.act1(x)\n",
    "        x      = self.dropout(x)\n",
    "        x      = self.linear2(x)\n",
    "        x      = self.act2(x)\n",
    "        x      = self.dropout(x)\n",
    "        x      = self.linear3(x)\n",
    "        y_pred = self.act3(x)\n",
    "        \n",
    "        return y_pred\n"
   ]
  },
  {
   "cell_type": "code",
   "execution_count": 54,
   "id": "5ebffc78",
   "metadata": {},
   "outputs": [
    {
     "name": "stdout",
     "output_type": "stream",
     "text": [
      "0 loss= tensor(1.0548, grad_fn=<NllLossBackward0>)\n",
      "50 loss= tensor(0.6078, grad_fn=<NllLossBackward0>)\n",
      "100 loss= tensor(0.5517, grad_fn=<NllLossBackward0>)\n",
      "150 loss= tensor(0.5525, grad_fn=<NllLossBackward0>)\n",
      "200 loss= tensor(0.5523, grad_fn=<NllLossBackward0>)\n",
      "250 loss= tensor(0.5522, grad_fn=<NllLossBackward0>)\n",
      "300 loss= tensor(0.5533, grad_fn=<NllLossBackward0>)\n",
      "350 loss= tensor(0.5523, grad_fn=<NllLossBackward0>)\n",
      "400 loss= tensor(0.5515, grad_fn=<NllLossBackward0>)\n",
      "450 loss= tensor(0.5546, grad_fn=<NllLossBackward0>)\n",
      "500 loss= tensor(0.5514, grad_fn=<NllLossBackward0>)\n",
      "550 loss= tensor(0.5515, grad_fn=<NllLossBackward0>)\n",
      "600 loss= tensor(0.5912, grad_fn=<NllLossBackward0>)\n",
      "650 loss= tensor(0.5515, grad_fn=<NllLossBackward0>)\n",
      "700 loss= tensor(0.5531, grad_fn=<NllLossBackward0>)\n",
      "750 loss= tensor(0.5515, grad_fn=<NllLossBackward0>)\n",
      "800 loss= tensor(0.5515, grad_fn=<NllLossBackward0>)\n",
      "850 loss= tensor(0.6765, grad_fn=<NllLossBackward0>)\n",
      "900 loss= tensor(0.5514, grad_fn=<NllLossBackward0>)\n",
      "950 loss= tensor(0.5514, grad_fn=<NllLossBackward0>)\n",
      "1000 loss= tensor(0.6764, grad_fn=<NllLossBackward0>)\n",
      "1050 loss= tensor(0.6766, grad_fn=<NllLossBackward0>)\n",
      "1100 loss= tensor(0.5516, grad_fn=<NllLossBackward0>)\n",
      "1150 loss= tensor(0.5515, grad_fn=<NllLossBackward0>)\n",
      "1200 loss= tensor(0.5514, grad_fn=<NllLossBackward0>)\n",
      "1250 loss= tensor(0.5514, grad_fn=<NllLossBackward0>)\n",
      "1300 loss= tensor(0.5518, grad_fn=<NllLossBackward0>)\n",
      "1350 loss= tensor(0.5514, grad_fn=<NllLossBackward0>)\n",
      "1400 loss= tensor(0.5516, grad_fn=<NllLossBackward0>)\n",
      "1450 loss= tensor(0.5516, grad_fn=<NllLossBackward0>)\n",
      "1500 loss= tensor(0.5515, grad_fn=<NllLossBackward0>)\n",
      "1550 loss= tensor(0.6765, grad_fn=<NllLossBackward0>)\n",
      "1600 loss= tensor(0.6765, grad_fn=<NllLossBackward0>)\n",
      "1650 loss= tensor(0.5516, grad_fn=<NllLossBackward0>)\n",
      "1700 loss= tensor(0.5514, grad_fn=<NllLossBackward0>)\n",
      "1750 loss= tensor(0.5516, grad_fn=<NllLossBackward0>)\n",
      "1800 loss= tensor(0.5939, grad_fn=<NllLossBackward0>)\n",
      "1850 loss= tensor(0.5514, grad_fn=<NllLossBackward0>)\n",
      "1900 loss= tensor(0.5546, grad_fn=<NllLossBackward0>)\n",
      "1950 loss= tensor(0.5516, grad_fn=<NllLossBackward0>)\n",
      "2000 loss= tensor(0.5515, grad_fn=<NllLossBackward0>)\n",
      "2050 loss= tensor(0.5515, grad_fn=<NllLossBackward0>)\n",
      "2100 loss= tensor(0.5520, grad_fn=<NllLossBackward0>)\n",
      "2150 loss= tensor(0.5541, grad_fn=<NllLossBackward0>)\n",
      "2200 loss= tensor(0.5514, grad_fn=<NllLossBackward0>)\n",
      "2250 loss= tensor(0.5515, grad_fn=<NllLossBackward0>)\n",
      "2300 loss= tensor(0.5515, grad_fn=<NllLossBackward0>)\n",
      "2350 loss= tensor(0.5514, grad_fn=<NllLossBackward0>)\n",
      "2400 loss= tensor(0.5514, grad_fn=<NllLossBackward0>)\n",
      "2450 loss= tensor(0.5515, grad_fn=<NllLossBackward0>)\n",
      "2500 loss= tensor(0.5515, grad_fn=<NllLossBackward0>)\n",
      "2550 loss= tensor(0.5515, grad_fn=<NllLossBackward0>)\n",
      "2600 loss= tensor(0.5514, grad_fn=<NllLossBackward0>)\n",
      "2650 loss= tensor(0.5515, grad_fn=<NllLossBackward0>)\n",
      "2700 loss= tensor(0.6764, grad_fn=<NllLossBackward0>)\n",
      "2750 loss= tensor(0.5515, grad_fn=<NllLossBackward0>)\n",
      "2800 loss= tensor(0.5514, grad_fn=<NllLossBackward0>)\n",
      "2850 loss= tensor(0.5515, grad_fn=<NllLossBackward0>)\n",
      "2900 loss= tensor(0.5515, grad_fn=<NllLossBackward0>)\n",
      "2950 loss= tensor(0.5515, grad_fn=<NllLossBackward0>)\n",
      "3000 loss= tensor(0.5514, grad_fn=<NllLossBackward0>)\n",
      "3050 loss= tensor(0.5516, grad_fn=<NllLossBackward0>)\n",
      "3100 loss= tensor(0.5515, grad_fn=<NllLossBackward0>)\n",
      "3150 loss= tensor(0.5515, grad_fn=<NllLossBackward0>)\n",
      "3200 loss= tensor(0.6764, grad_fn=<NllLossBackward0>)\n",
      "3250 loss= tensor(0.5515, grad_fn=<NllLossBackward0>)\n",
      "3300 loss= tensor(0.5515, grad_fn=<NllLossBackward0>)\n",
      "3350 loss= tensor(0.5514, grad_fn=<NllLossBackward0>)\n",
      "3400 loss= tensor(0.5514, grad_fn=<NllLossBackward0>)\n",
      "3450 loss= tensor(0.5516, grad_fn=<NllLossBackward0>)\n",
      "3500 loss= tensor(0.5515, grad_fn=<NllLossBackward0>)\n",
      "3550 loss= tensor(0.5514, grad_fn=<NllLossBackward0>)\n",
      "3600 loss= tensor(0.5514, grad_fn=<NllLossBackward0>)\n",
      "3650 loss= tensor(0.5521, grad_fn=<NllLossBackward0>)\n",
      "3700 loss= tensor(0.5515, grad_fn=<NllLossBackward0>)\n",
      "3750 loss= tensor(0.5516, grad_fn=<NllLossBackward0>)\n",
      "3800 loss= tensor(0.5515, grad_fn=<NllLossBackward0>)\n",
      "3850 loss= tensor(0.5514, grad_fn=<NllLossBackward0>)\n",
      "3900 loss= tensor(0.5515, grad_fn=<NllLossBackward0>)\n",
      "3950 loss= tensor(0.5514, grad_fn=<NllLossBackward0>)\n"
     ]
    }
   ],
   "source": [
    "\n",
    "model      = DL_Net( x_means, x_deviations  )\n",
    "\n",
    "opt        = torch.optim.Adam(    model.parameters(), lr=learning_rate )\n",
    "\n",
    "## the y_test data can be integers and does not need to be one hot encoded with this function\n",
    "loss_fn    = nn.CrossEntropyLoss( )   \n",
    "\n",
    "training_loop(  N_Epochs, model, loss_fn, opt  )\n"
   ]
  },
  {
   "cell_type": "code",
   "execution_count": 55,
   "id": "2f7b8972",
   "metadata": {},
   "outputs": [
    {
     "name": "stdout",
     "output_type": "stream",
     "text": [
      "Accuracy: 0.93\n",
      "Confusion Matrix:\n",
      "[[12  0  0]\n",
      " [ 0  9  0]\n",
      " [ 0  2  7]]\n",
      "Precision: 0.945\n",
      "Recall: 0.933\n",
      "F1-measure: 0.932\n"
     ]
    }
   ],
   "source": [
    "\n",
    "with torch.no_grad():\n",
    "    for x_real, y_real in test_dl:\n",
    "        ## batch_size = imgs.shape[0]\n",
    "        y_pred = model(  x_real  )\n",
    "        vals, indeces = torch.max( y_pred, dim=1  )\n",
    "        preds = indeces\n",
    "        print_metrics_function(y_real, preds)\n"
   ]
  },
  {
   "cell_type": "code",
   "execution_count": null,
   "id": "b5c17679",
   "metadata": {},
   "outputs": [],
   "source": []
  },
  {
   "cell_type": "code",
   "execution_count": null,
   "id": "4f9f0394",
   "metadata": {},
   "outputs": [],
   "source": []
  },
  {
   "cell_type": "code",
   "execution_count": null,
   "id": "d974d730",
   "metadata": {},
   "outputs": [],
   "source": []
  },
  {
   "cell_type": "code",
   "execution_count": null,
   "id": "f75691d0",
   "metadata": {},
   "outputs": [],
   "source": []
  },
  {
   "cell_type": "code",
   "execution_count": null,
   "id": "183c9fd3",
   "metadata": {},
   "outputs": [],
   "source": []
  },
  {
   "cell_type": "code",
   "execution_count": null,
   "id": "8c793bdf",
   "metadata": {},
   "outputs": [],
   "source": []
  },
  {
   "cell_type": "code",
   "execution_count": null,
   "id": "e24962c6",
   "metadata": {},
   "outputs": [],
   "source": []
  }
 ],
 "metadata": {
  "kernelspec": {
   "display_name": "Python 3 (ipykernel)",
   "language": "python",
   "name": "python3"
  },
  "language_info": {
   "codemirror_mode": {
    "name": "ipython",
    "version": 3
   },
   "file_extension": ".py",
   "mimetype": "text/x-python",
   "name": "python",
   "nbconvert_exporter": "python",
   "pygments_lexer": "ipython3",
   "version": "3.7.16"
  }
 },
 "nbformat": 4,
 "nbformat_minor": 5
}
