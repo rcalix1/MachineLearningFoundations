{
 "cells": [
  {
   "cell_type": "markdown",
   "id": "8d4d7b1c",
   "metadata": {},
   "source": [
    "## KNN in batches"
   ]
  },
  {
   "cell_type": "code",
   "execution_count": 1,
   "id": "2e754b4d",
   "metadata": {},
   "outputs": [],
   "source": [
    "## !pip install scikit-learn"
   ]
  },
  {
   "cell_type": "code",
   "execution_count": 2,
   "id": "5f8dcd69",
   "metadata": {},
   "outputs": [],
   "source": [
    "## !pip install pandas"
   ]
  },
  {
   "cell_type": "code",
   "execution_count": 3,
   "id": "f47688df",
   "metadata": {},
   "outputs": [],
   "source": [
    "\n",
    "import numpy as np\n",
    "import sklearn\n",
    "import pandas as pd\n",
    "\n",
    "from sklearn.preprocessing import LabelEncoder\n",
    "from sklearn.model_selection import train_test_split\n",
    "from collections import Counter\n",
    "\n",
    "from sklearn.metrics import confusion_matrix\n",
    "from sklearn.metrics import precision_score\n",
    "from sklearn.metrics import recall_score, accuracy_score, f1_score\n",
    "\n",
    "\n"
   ]
  },
  {
   "cell_type": "code",
   "execution_count": 4,
   "id": "741edf8b",
   "metadata": {},
   "outputs": [],
   "source": [
    "## !pip install tensorflow"
   ]
  },
  {
   "cell_type": "code",
   "execution_count": 5,
   "id": "0b45761b",
   "metadata": {},
   "outputs": [],
   "source": [
    "## import tensorflow"
   ]
  },
  {
   "cell_type": "code",
   "execution_count": 6,
   "id": "c2e2331c",
   "metadata": {},
   "outputs": [],
   "source": [
    "k = 5"
   ]
  },
  {
   "cell_type": "code",
   "execution_count": 7,
   "id": "a95c0156",
   "metadata": {},
   "outputs": [],
   "source": [
    "\n",
    "def euclidean_distance_batches(test_v1, batch_v2):\n",
    "    mat_mul         = (batch_v2 - test_v1)\n",
    "    sqr_mat_mul     = np.square(  mat_mul               )\n",
    "    sum_sqr_mat_mul = np.sum(    sqr_mat_mul, 1         ) \n",
    "    temp1           = np.sqrt(     sum_sqr_mat_mul      )\n",
    "   \n",
    "    return temp1\n",
    " \n"
   ]
  },
  {
   "cell_type": "code",
   "execution_count": 8,
   "id": "417c7900",
   "metadata": {},
   "outputs": [],
   "source": [
    "\n",
    "def euclidean_distance(v1, v2):\n",
    "    return np.sqrt( np.sum(   (v1 - v2)**2   )   )"
   ]
  },
  {
   "cell_type": "code",
   "execution_count": 9,
   "id": "9a4e955b",
   "metadata": {},
   "outputs": [],
   "source": [
    "\n",
    "'''\n",
    "start_index = 0\n",
    "end_index   = start_index + batch_size\n",
    "\n",
    "for batch_n in range(num_of_batches):\n",
    "    ## print(batch_n)\n",
    "    start_index = batch_n * batch_size \n",
    "    end_index   = (batch_n + 1)*batch_size\n",
    "    ## print(start_index)\n",
    "    ## print(end_index)\n",
    "    print(\"************\")\n",
    "    test_x = X_test[ start_index:end_index ,  : ]\n",
    "    ## print(test_x.shape[0])\n",
    "\n",
    "    temp_pred = predict(test_x)\n",
    "    ## print(temp_pred[0][0] )\n",
    "    ##list_of_pred_labels.append(     temp_pred[0][0]      )\n",
    "    \n",
    "'''\n",
    "\n",
    "def predict_batches(test_x):\n",
    "    \n",
    "    concatenated_distances = np.array([])\n",
    "    \n",
    "    start_index = 0\n",
    "    end_index   = start_index + batch_size\n",
    "\n",
    "    for batch_n in range(num_of_batches):\n",
    "        start_index = batch_n * batch_size \n",
    "        end_index   = (batch_n + 1)*batch_size\n",
    "\n",
    "        train_X_batch = X_train[ start_index:end_index ,  : ]\n",
    "        \n",
    "        distances = euclidean_distance_batches(test_x , train_X_batch) \n",
    "        \n",
    "        \n",
    "        concatenated_distances = np.concatenate((concatenated_distances, distances))\n",
    "    ## print(concatenated_distances.size)\n",
    "    k_neighbor_indices = np.argsort(concatenated_distances )[:k]\n",
    "    labels = [ y_train[i]  for i in k_neighbor_indices  ]\n",
    "    most_common_label = Counter(labels).most_common(1)\n",
    "    \n",
    "    return most_common_label\n",
    "    \n",
    "\n",
    "\n",
    " \n",
    "\n",
    "   \n",
    "\n",
    "\n"
   ]
  },
  {
   "cell_type": "code",
   "execution_count": 10,
   "id": "f0aadc8d",
   "metadata": {},
   "outputs": [],
   "source": [
    "\n",
    "def predict(test_x):\n",
    "    \n",
    "    ## calculate distances between test_x and all dta samples in x\n",
    "    ## this distances vector is a vector of 45 distances\n",
    "    ## distances = [ euclidean_distance(test_x , x)  for x in X_train    ]\n",
    "    for x in X_train:\n",
    "        distances = euclidean_distance(test_x , x) \n",
    "        \n",
    "      \n",
    "    \n",
    "    ## distances - > [23, 3, 145, 17, ...]\n",
    "    \n",
    "    ## sort by distance value and return the k nearest neighbors\n",
    "    ## np.argsort returns the indices of the k neares neighbors\n",
    "    k_neighbor_indices = np.argsort(distances)[:k]\n",
    "    \n",
    "    \n",
    "    ## with indices, extract labels from y_train \n",
    "    labels = [ y_train[i]  for i in k_neighbor_indices  ]\n",
    "    ## imagine labels = [ 1, 1, 2, 0, 1]\n",
    "    \n",
    "    ## from labels, select the most common label\n",
    "    most_common_label = Counter(labels).most_common(1)\n",
    "    \n",
    "    return most_common_label\n",
    "    \n"
   ]
  },
  {
   "cell_type": "code",
   "execution_count": 11,
   "id": "6a61486d",
   "metadata": {},
   "outputs": [],
   "source": [
    "\n",
    "df = pd.read_csv(\"iris.csv\", header=None)\n"
   ]
  },
  {
   "cell_type": "code",
   "execution_count": 12,
   "id": "bf2c7a5b",
   "metadata": {},
   "outputs": [
    {
     "data": {
      "text/html": [
       "<div>\n",
       "<style scoped>\n",
       "    .dataframe tbody tr th:only-of-type {\n",
       "        vertical-align: middle;\n",
       "    }\n",
       "\n",
       "    .dataframe tbody tr th {\n",
       "        vertical-align: top;\n",
       "    }\n",
       "\n",
       "    .dataframe thead th {\n",
       "        text-align: right;\n",
       "    }\n",
       "</style>\n",
       "<table border=\"1\" class=\"dataframe\">\n",
       "  <thead>\n",
       "    <tr style=\"text-align: right;\">\n",
       "      <th></th>\n",
       "      <th>0</th>\n",
       "      <th>1</th>\n",
       "      <th>2</th>\n",
       "      <th>3</th>\n",
       "      <th>4</th>\n",
       "    </tr>\n",
       "  </thead>\n",
       "  <tbody>\n",
       "    <tr>\n",
       "      <th>0</th>\n",
       "      <td>sepal_length</td>\n",
       "      <td>sepal_width</td>\n",
       "      <td>petal_length</td>\n",
       "      <td>petal_width</td>\n",
       "      <td>species</td>\n",
       "    </tr>\n",
       "    <tr>\n",
       "      <th>1</th>\n",
       "      <td>5.1</td>\n",
       "      <td>3.5</td>\n",
       "      <td>1.4</td>\n",
       "      <td>0.2</td>\n",
       "      <td>setosa</td>\n",
       "    </tr>\n",
       "    <tr>\n",
       "      <th>2</th>\n",
       "      <td>4.9</td>\n",
       "      <td>3.0</td>\n",
       "      <td>1.4</td>\n",
       "      <td>0.2</td>\n",
       "      <td>setosa</td>\n",
       "    </tr>\n",
       "    <tr>\n",
       "      <th>3</th>\n",
       "      <td>4.7</td>\n",
       "      <td>3.2</td>\n",
       "      <td>1.3</td>\n",
       "      <td>0.2</td>\n",
       "      <td>setosa</td>\n",
       "    </tr>\n",
       "    <tr>\n",
       "      <th>4</th>\n",
       "      <td>4.6</td>\n",
       "      <td>3.1</td>\n",
       "      <td>1.5</td>\n",
       "      <td>0.2</td>\n",
       "      <td>setosa</td>\n",
       "    </tr>\n",
       "    <tr>\n",
       "      <th>...</th>\n",
       "      <td>...</td>\n",
       "      <td>...</td>\n",
       "      <td>...</td>\n",
       "      <td>...</td>\n",
       "      <td>...</td>\n",
       "    </tr>\n",
       "    <tr>\n",
       "      <th>146</th>\n",
       "      <td>6.7</td>\n",
       "      <td>3.0</td>\n",
       "      <td>5.2</td>\n",
       "      <td>2.3</td>\n",
       "      <td>virginica</td>\n",
       "    </tr>\n",
       "    <tr>\n",
       "      <th>147</th>\n",
       "      <td>6.3</td>\n",
       "      <td>2.5</td>\n",
       "      <td>5.0</td>\n",
       "      <td>1.9</td>\n",
       "      <td>virginica</td>\n",
       "    </tr>\n",
       "    <tr>\n",
       "      <th>148</th>\n",
       "      <td>6.5</td>\n",
       "      <td>3.0</td>\n",
       "      <td>5.2</td>\n",
       "      <td>2.0</td>\n",
       "      <td>virginica</td>\n",
       "    </tr>\n",
       "    <tr>\n",
       "      <th>149</th>\n",
       "      <td>6.2</td>\n",
       "      <td>3.4</td>\n",
       "      <td>5.4</td>\n",
       "      <td>2.3</td>\n",
       "      <td>virginica</td>\n",
       "    </tr>\n",
       "    <tr>\n",
       "      <th>150</th>\n",
       "      <td>5.9</td>\n",
       "      <td>3.0</td>\n",
       "      <td>5.1</td>\n",
       "      <td>1.8</td>\n",
       "      <td>virginica</td>\n",
       "    </tr>\n",
       "  </tbody>\n",
       "</table>\n",
       "<p>151 rows × 5 columns</p>\n",
       "</div>"
      ],
      "text/plain": [
       "                0            1             2            3          4\n",
       "0    sepal_length  sepal_width  petal_length  petal_width    species\n",
       "1             5.1          3.5           1.4          0.2     setosa\n",
       "2             4.9          3.0           1.4          0.2     setosa\n",
       "3             4.7          3.2           1.3          0.2     setosa\n",
       "4             4.6          3.1           1.5          0.2     setosa\n",
       "..            ...          ...           ...          ...        ...\n",
       "146           6.7          3.0           5.2          2.3  virginica\n",
       "147           6.3          2.5           5.0          1.9  virginica\n",
       "148           6.5          3.0           5.2          2.0  virginica\n",
       "149           6.2          3.4           5.4          2.3  virginica\n",
       "150           5.9          3.0           5.1          1.8  virginica\n",
       "\n",
       "[151 rows x 5 columns]"
      ]
     },
     "execution_count": 12,
     "metadata": {},
     "output_type": "execute_result"
    }
   ],
   "source": [
    "df"
   ]
  },
  {
   "cell_type": "code",
   "execution_count": 13,
   "id": "a83d2f5c",
   "metadata": {},
   "outputs": [],
   "source": [
    "## n_features = X_train.shape\n",
    "## n_features[1]"
   ]
  },
  {
   "cell_type": "code",
   "execution_count": 14,
   "id": "ef5eb190",
   "metadata": {},
   "outputs": [],
   "source": [
    "X = df.loc[1:, :3].values\n",
    "\n",
    "X = X.astype(float)"
   ]
  },
  {
   "cell_type": "code",
   "execution_count": 15,
   "id": "76bb8d73",
   "metadata": {},
   "outputs": [],
   "source": [
    "y = df.loc[1:, 4].values"
   ]
  },
  {
   "cell_type": "code",
   "execution_count": 16,
   "id": "e0a00e6f",
   "metadata": {},
   "outputs": [
    {
     "data": {
      "text/plain": [
       "150"
      ]
     },
     "execution_count": 16,
     "metadata": {},
     "output_type": "execute_result"
    }
   ],
   "source": [
    "len(y)"
   ]
  },
  {
   "cell_type": "code",
   "execution_count": 17,
   "id": "93feb90f",
   "metadata": {},
   "outputs": [
    {
     "data": {
      "text/plain": [
       "(150, 4)"
      ]
     },
     "execution_count": 17,
     "metadata": {},
     "output_type": "execute_result"
    }
   ],
   "source": [
    "X.shape\n"
   ]
  },
  {
   "cell_type": "code",
   "execution_count": 18,
   "id": "8cec4dba",
   "metadata": {},
   "outputs": [
    {
     "data": {
      "text/plain": [
       "(150,)"
      ]
     },
     "execution_count": 18,
     "metadata": {},
     "output_type": "execute_result"
    }
   ],
   "source": [
    "y.shape"
   ]
  },
  {
   "cell_type": "code",
   "execution_count": 19,
   "id": "a9b4520c",
   "metadata": {},
   "outputs": [],
   "source": [
    "\n",
    "le = LabelEncoder()\n",
    "y = le.fit_transform(  y  )\n"
   ]
  },
  {
   "cell_type": "code",
   "execution_count": 20,
   "id": "5210a905",
   "metadata": {},
   "outputs": [
    {
     "data": {
      "text/plain": [
       "array([0, 0, 0, 0, 0, 0, 0, 0, 0, 0, 0, 0, 0, 0, 0, 0, 0, 0, 0, 0, 0, 0,\n",
       "       0, 0, 0, 0, 0, 0, 0, 0, 0, 0, 0, 0, 0, 0, 0, 0, 0, 0, 0, 0, 0, 0,\n",
       "       0, 0, 0, 0, 0, 0, 1, 1, 1, 1, 1, 1, 1, 1, 1, 1, 1, 1, 1, 1, 1, 1,\n",
       "       1, 1, 1, 1, 1, 1, 1, 1, 1, 1, 1, 1, 1, 1, 1, 1, 1, 1, 1, 1, 1, 1,\n",
       "       1, 1, 1, 1, 1, 1, 1, 1, 1, 1, 1, 1, 2, 2, 2, 2, 2, 2, 2, 2, 2, 2,\n",
       "       2, 2, 2, 2, 2, 2, 2, 2, 2, 2, 2, 2, 2, 2, 2, 2, 2, 2, 2, 2, 2, 2,\n",
       "       2, 2, 2, 2, 2, 2, 2, 2, 2, 2, 2, 2, 2, 2, 2, 2, 2, 2])"
      ]
     },
     "execution_count": 20,
     "metadata": {},
     "output_type": "execute_result"
    }
   ],
   "source": [
    "y"
   ]
  },
  {
   "cell_type": "code",
   "execution_count": 21,
   "id": "ef313a5f",
   "metadata": {},
   "outputs": [],
   "source": [
    "## X"
   ]
  },
  {
   "cell_type": "code",
   "execution_count": 22,
   "id": "057c8d48",
   "metadata": {},
   "outputs": [],
   "source": [
    "X_train, X_test, y_train, y_test = train_test_split(X, y, test_size=0.3, random_state=42)"
   ]
  },
  {
   "cell_type": "code",
   "execution_count": 23,
   "id": "2f05ca65",
   "metadata": {},
   "outputs": [
    {
     "name": "stdout",
     "output_type": "stream",
     "text": [
      "(105, 4)\n",
      "(45, 4)\n",
      "(105,)\n",
      "(45,)\n"
     ]
    }
   ],
   "source": [
    "print(X_train.shape)\n",
    "print(X_test.shape)\n",
    "print(y_train.shape)\n",
    "print(y_test.shape)"
   ]
  },
  {
   "cell_type": "markdown",
   "id": "a379c56b",
   "metadata": {},
   "source": [
    "\n",
    "## Inference\n",
    "\n"
   ]
  },
  {
   "cell_type": "code",
   "execution_count": 24,
   "id": "13286956",
   "metadata": {},
   "outputs": [
    {
     "name": "stdout",
     "output_type": "stream",
     "text": [
      "105\n",
      "21\n"
     ]
    }
   ],
   "source": [
    "\n",
    "list_of_pred_labels = []\n",
    "\n",
    "batch_size = 5\n",
    "\n",
    "size_of_X = X_train.shape[0]\n",
    "print(size_of_X)\n",
    "\n",
    "num_of_batches = int(size_of_X/batch_size)\n",
    "print(num_of_batches)\n",
    "\n",
    "\n"
   ]
  },
  {
   "cell_type": "code",
   "execution_count": null,
   "id": "fee218a3",
   "metadata": {},
   "outputs": [],
   "source": []
  },
  {
   "cell_type": "code",
   "execution_count": 25,
   "id": "8fd75ccd",
   "metadata": {},
   "outputs": [],
   "source": [
    "\n",
    "\n",
    "\n",
    "for test_x in X_test:\n",
    "\n",
    "    temp_pred = predict_batches(test_x)\n",
    "    ## print(temp_pred[0][0] )\n",
    "    list_of_pred_labels.append(     temp_pred[0][0]      )\n",
    "    \n",
    "\n",
    "    "
   ]
  },
  {
   "cell_type": "code",
   "execution_count": 26,
   "id": "01afd03b",
   "metadata": {},
   "outputs": [
    {
     "data": {
      "text/plain": [
       "45"
      ]
     },
     "execution_count": 26,
     "metadata": {},
     "output_type": "execute_result"
    }
   ],
   "source": [
    "len(list_of_pred_labels)"
   ]
  },
  {
   "cell_type": "code",
   "execution_count": 27,
   "id": "3b119a5d",
   "metadata": {},
   "outputs": [
    {
     "name": "stdout",
     "output_type": "stream",
     "text": [
      "[1 0 2 1 1 0 1 2 1 1 2 0 0 0 0 1 2 1 1 2 0 2 0 2 2 2 2 2 0 0 0 0 1 0 0 2 1\n",
      " 0 0 0 2 1 1 0 0]\n",
      "[1 0 2 1 1 0 1 2 1 1 2 0 0 0 0 1 2 1 1 2 0 2 0 2 2 2 2 2 0 0 0 0 1 0 0 2 1\n",
      " 0 0 0 2 1 1 0 0]\n"
     ]
    }
   ],
   "source": [
    "print(np.array(list_of_pred_labels))\n",
    "print(y_test)"
   ]
  },
  {
   "cell_type": "code",
   "execution_count": 28,
   "id": "02aed9a6",
   "metadata": {},
   "outputs": [],
   "source": [
    "\n",
    "def accuracy(y_test, y_pred):\n",
    "    \n",
    "    accuracy_value = np.sum(y_pred == y_test)/len(y_test)\n",
    "    return accuracy_value\n",
    "    \n"
   ]
  },
  {
   "cell_type": "code",
   "execution_count": 29,
   "id": "2254b744",
   "metadata": {},
   "outputs": [],
   "source": [
    "\n",
    "def print_stats_performance_metrics(y_test, y_pred):\n",
    "    \n",
    "    print('Accuracy: %.2f' % accuracy_score(y_test, y_pred))\n",
    "    confmat = confusion_matrix(y_true=y_test, y_pred=y_pred)\n",
    "    print(confmat)\n",
    "    print('Precision: %.2f' % precision_score(y_test, y_pred, average='weighted'))\n",
    "    print('Recall: %.2f' % recall_score(y_test, y_pred, average='weighted'))\n",
    "    print('F1_score: %.2f' % f1_score(y_test, y_pred, average='weighted'))\n"
   ]
  },
  {
   "cell_type": "code",
   "execution_count": 30,
   "id": "73eaa549",
   "metadata": {},
   "outputs": [],
   "source": [
    "\n",
    "y_pred = np.array(list_of_pred_labels)\n"
   ]
  },
  {
   "cell_type": "code",
   "execution_count": 31,
   "id": "0b7dc18b",
   "metadata": {},
   "outputs": [],
   "source": [
    "res = accuracy(y_test, y_pred)"
   ]
  },
  {
   "cell_type": "code",
   "execution_count": 32,
   "id": "c0166aa7",
   "metadata": {},
   "outputs": [
    {
     "name": "stdout",
     "output_type": "stream",
     "text": [
      "1.0\n"
     ]
    }
   ],
   "source": [
    "print(res)"
   ]
  },
  {
   "cell_type": "code",
   "execution_count": 33,
   "id": "a5c24a33",
   "metadata": {},
   "outputs": [
    {
     "name": "stdout",
     "output_type": "stream",
     "text": [
      "Accuracy: 1.00\n",
      "[[19  0  0]\n",
      " [ 0 13  0]\n",
      " [ 0  0 13]]\n",
      "Precision: 1.00\n",
      "Recall: 1.00\n",
      "F1_score: 1.00\n"
     ]
    }
   ],
   "source": [
    "print_stats_performance_metrics(y_test, y_pred)"
   ]
  },
  {
   "cell_type": "code",
   "execution_count": null,
   "id": "f480fb50",
   "metadata": {},
   "outputs": [],
   "source": []
  },
  {
   "cell_type": "code",
   "execution_count": null,
   "id": "8e6e9023",
   "metadata": {},
   "outputs": [],
   "source": []
  }
 ],
 "metadata": {
  "kernelspec": {
   "display_name": "Python 3 (ipykernel)",
   "language": "python",
   "name": "python3"
  },
  "language_info": {
   "codemirror_mode": {
    "name": "ipython",
    "version": 3
   },
   "file_extension": ".py",
   "mimetype": "text/x-python",
   "name": "python",
   "nbconvert_exporter": "python",
   "pygments_lexer": "ipython3",
   "version": "3.8.13"
  }
 },
 "nbformat": 4,
 "nbformat_minor": 5
}
