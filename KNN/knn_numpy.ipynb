{
 "cells": [
  {
   "cell_type": "code",
   "execution_count": 1,
   "metadata": {},
   "outputs": [],
   "source": [
    "\n",
    "## knn\n",
    "import numpy as np\n",
    "from collections import Counter\n",
    "\n",
    "k = 5\n",
    "\n",
    "######################################################\n",
    "\n",
    "def euclidean_distance(v1, v2):\n",
    "    return np.sqrt(np.sum(     (v1 - v2) ** 2    ))\n",
    "\n",
    "######################################################\n",
    "\n",
    "X_train = ??    ##   [ 30, [f1, f2, f3, ..., fn]]\n",
    "y_train = ??\n",
    "\n",
    "## X_test  [50, 4]\n",
    "test_x = ??     ##  [f1, f2, f3, ..., fn]\n",
    "\n",
    "######################################################\n",
    "\n",
    "def predict(test_x):\n",
    "    ## calculate distances between test_x and all data samples in X\n",
    "    distances = [ euclidean_distance(test_x, x )  for x in X_train   ]\n",
    "    ## distances is a vector of 30 distances \n",
    "    \n",
    "    ## distances [23, 2,  145, 23  , 5,   17 , 890, ....]  =>>  []\n",
    "               \n",
    "    \n",
    "    ## sort by distance and return the k closest neighbors\n",
    "    ## argsort returns the indices of the k nearest neighbors\n",
    "    k_neighbor_indeces =   np.argsort(   distances   )[:k]\n",
    "    \n",
    "    ## extract labels from y_train\n",
    "    labels = [    y_train[i]  for i in k_neighbor_indeces   ]\n",
    "    ## imagine labels = [1, 1, 1, 0, 1]\n",
    "    \n",
    "\n",
    "    ##select the most common label in labels\n",
    "    most_common_label = Counter(labels).most_common(1)\n",
    "\n",
    "    return most_common_label\n",
    "\n",
    "####################################################################\n",
    "\n",
    "\n",
    "for test_x in X_test:\n",
    "    print(    predict(test_x)   )\n",
    "\n"
   ]
  },
  {
   "cell_type": "code",
   "execution_count": null,
   "metadata": {},
   "outputs": [],
   "source": []
  }
 ],
 "metadata": {
  "kernelspec": {
   "display_name": "Python 3",
   "language": "python",
   "name": "python3"
  },
  "language_info": {
   "codemirror_mode": {
    "name": "ipython",
    "version": 3
   },
   "file_extension": ".py",
   "mimetype": "text/x-python",
   "name": "python",
   "nbconvert_exporter": "python",
   "pygments_lexer": "ipython3",
   "version": "3.8.3"
  }
 },
 "nbformat": 4,
 "nbformat_minor": 4
}
