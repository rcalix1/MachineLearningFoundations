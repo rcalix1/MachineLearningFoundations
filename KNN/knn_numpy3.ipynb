{
 "cells": [
  {
   "cell_type": "code",
   "execution_count": 1,
   "metadata": {},
   "outputs": [
    {
     "name": "stdout",
     "output_type": "stream",
     "text": [
      "14.142135623730951\n"
     ]
    }
   ],
   "source": [
    "\n",
    "## a simple implementation of the euclidean distance\n",
    "\n",
    "def euclidean(p,q):\n",
    "    sumSq = 0.0\n",
    "    \n",
    "    # add up the square differences \n",
    "    \n",
    "    for i in range(  len(p)  ):\n",
    "        sumSq = sumSq    +   (     p[i] - q[i]    )**2\n",
    "        \n",
    "    \n",
    "    ## take the square root\n",
    "    \n",
    "    return (    sumSq**0.5     )\n",
    "\n",
    "\n",
    "###########################################\n",
    "\n",
    "p = [2, 4]\n",
    "q = [12, 14]\n",
    "\n",
    "print(        euclidean(p, q)          )\n"
   ]
  },
  {
   "cell_type": "code",
   "execution_count": 2,
   "metadata": {},
   "outputs": [
    {
     "name": "stdout",
     "output_type": "stream",
     "text": [
      "149.46571513226704\n"
     ]
    }
   ],
   "source": [
    "p = [2, 4]\n",
    "q = [34, 150]\n",
    "\n",
    "print(        euclidean(p, q)          )"
   ]
  },
  {
   "cell_type": "code",
   "execution_count": null,
   "metadata": {},
   "outputs": [],
   "source": []
  }
 ],
 "metadata": {
  "kernelspec": {
   "display_name": "Python 3",
   "language": "python",
   "name": "python3"
  },
  "language_info": {
   "codemirror_mode": {
    "name": "ipython",
    "version": 3
   },
   "file_extension": ".py",
   "mimetype": "text/x-python",
   "name": "python",
   "nbconvert_exporter": "python",
   "pygments_lexer": "ipython3",
   "version": "3.8.3"
  }
 },
 "nbformat": 4,
 "nbformat_minor": 4
}
