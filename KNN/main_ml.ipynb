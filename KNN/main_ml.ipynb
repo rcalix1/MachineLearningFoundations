{
 "cells": [
  {
   "cell_type": "code",
   "execution_count": 2,
   "metadata": {},
   "outputs": [],
   "source": [
    "\n",
    "## my_main ML function\n",
    "\n",
    "import numpy as np\n",
    "\n",
    "from sklearn import datasets\n",
    "from sklearn.model_selection import train_test_split\n",
    "\n",
    "## from myKNN import myKNN    ## This is your own file \n",
    "\n",
    "###################################################################\n",
    "\n",
    "def accuracy(y_test, y_pred):\n",
    "    accuracy_value = np.sum(y_true == y_pred) / len(y_test)\n",
    "    return accuracy_value\n",
    "\n",
    "\n",
    "###################################################################\n",
    "\n",
    "## 150 samples, 4 features, 3 classes \n",
    "iris = datasets.load_iris()\n",
    "\n",
    "X, y = iris.data, iris.target\n",
    "\n",
    "X_train, X_test, y_train, y_test = train_test_split(X, y, test_size=0.3, random_state=42)\n",
    "\n",
    "\n",
    "## scale the data \n",
    "\n",
    "####################################################################\n",
    "\n",
    "k = 5\n",
    "myMl_knn = myKNN(k=k)\n",
    "\n",
    "myML_knn.train(X_train, y_train)\n",
    "y_pred = myML_knn.predict(X_test)\n",
    "\n",
    "####################################################################\n",
    "\n",
    "\n",
    "print(\"knn accuracy results: \")\n",
    "\n",
    "accuracy_result = accuracy(y_test, y_pred)\n",
    "\n",
    "print(accuracy_result)\n",
    "\n"
   ]
  },
  {
   "cell_type": "code",
   "execution_count": null,
   "metadata": {},
   "outputs": [],
   "source": []
  }
 ],
 "metadata": {
  "kernelspec": {
   "display_name": "Python 3",
   "language": "python",
   "name": "python3"
  },
  "language_info": {
   "codemirror_mode": {
    "name": "ipython",
    "version": 3
   },
   "file_extension": ".py",
   "mimetype": "text/x-python",
   "name": "python",
   "nbconvert_exporter": "python",
   "pygments_lexer": "ipython3",
   "version": "3.8.3"
  }
 },
 "nbformat": 4,
 "nbformat_minor": 4
}
